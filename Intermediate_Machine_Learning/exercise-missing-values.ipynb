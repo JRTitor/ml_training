{
 "cells": [
  {
   "cell_type": "markdown",
   "id": "2384258f",
   "metadata": {
    "papermill": {
     "duration": 0.010729,
     "end_time": "2022-08-03T17:45:19.083516",
     "exception": false,
     "start_time": "2022-08-03T17:45:19.072787",
     "status": "completed"
    },
    "tags": []
   },
   "source": [
    "**This notebook is an exercise in the [Intermediate Machine Learning](https://www.kaggle.com/learn/intermediate-machine-learning) course.  You can reference the tutorial at [this link](https://www.kaggle.com/alexisbcook/missing-values).**\n",
    "\n",
    "---\n"
   ]
  },
  {
   "cell_type": "markdown",
   "id": "75ed00a7",
   "metadata": {
    "papermill": {
     "duration": 0.008323,
     "end_time": "2022-08-03T17:45:19.100814",
     "exception": false,
     "start_time": "2022-08-03T17:45:19.092491",
     "status": "completed"
    },
    "tags": []
   },
   "source": [
    "Now it's your turn to test your new knowledge of **missing values** handling. You'll probably find it makes a big difference.\n",
    "\n",
    "# Setup\n",
    "\n",
    "The questions will give you feedback on your work. Run the following cell to set up the feedback system."
   ]
  },
  {
   "cell_type": "code",
   "execution_count": 1,
   "id": "34c7e590",
   "metadata": {
    "execution": {
     "iopub.execute_input": "2022-08-03T17:45:19.120798Z",
     "iopub.status.busy": "2022-08-03T17:45:19.119785Z",
     "iopub.status.idle": "2022-08-03T17:45:19.172047Z",
     "shell.execute_reply": "2022-08-03T17:45:19.170842Z"
    },
    "papermill": {
     "duration": 0.065431,
     "end_time": "2022-08-03T17:45:19.174749",
     "exception": false,
     "start_time": "2022-08-03T17:45:19.109318",
     "status": "completed"
    },
    "tags": []
   },
   "outputs": [
    {
     "name": "stdout",
     "output_type": "stream",
     "text": [
      "Setup Complete\n"
     ]
    }
   ],
   "source": [
    "# Set up code checking\n",
    "import os\n",
    "if not os.path.exists(\"../input/train.csv\"):\n",
    "    os.symlink(\"../input/home-data-for-ml-course/train.csv\", \"../input/train.csv\")  \n",
    "    os.symlink(\"../input/home-data-for-ml-course/test.csv\", \"../input/test.csv\") \n",
    "from learntools.core import binder\n",
    "binder.bind(globals())\n",
    "from learntools.ml_intermediate.ex2 import *\n",
    "print(\"Setup Complete\")"
   ]
  },
  {
   "cell_type": "markdown",
   "id": "2a1cbf9b",
   "metadata": {
    "papermill": {
     "duration": 0.008248,
     "end_time": "2022-08-03T17:45:19.191732",
     "exception": false,
     "start_time": "2022-08-03T17:45:19.183484",
     "status": "completed"
    },
    "tags": []
   },
   "source": [
    "In this exercise, you will work with data from the [Housing Prices Competition for Kaggle Learn Users](https://www.kaggle.com/c/home-data-for-ml-course). \n",
    "\n",
    "![Ames Housing dataset image](https://i.imgur.com/lTJVG4e.png)\n",
    "\n",
    "Run the next code cell without changes to load the training and validation sets in `X_train`, `X_valid`, `y_train`, and `y_valid`.  The test set is loaded in `X_test`."
   ]
  },
  {
   "cell_type": "code",
   "execution_count": 2,
   "id": "7a3f07bb",
   "metadata": {
    "execution": {
     "iopub.execute_input": "2022-08-03T17:45:19.211316Z",
     "iopub.status.busy": "2022-08-03T17:45:19.210438Z",
     "iopub.status.idle": "2022-08-03T17:45:20.407413Z",
     "shell.execute_reply": "2022-08-03T17:45:20.406290Z"
    },
    "papermill": {
     "duration": 1.210334,
     "end_time": "2022-08-03T17:45:20.410535",
     "exception": false,
     "start_time": "2022-08-03T17:45:19.200201",
     "status": "completed"
    },
    "tags": []
   },
   "outputs": [],
   "source": [
    "import pandas as pd\n",
    "from sklearn.model_selection import train_test_split\n",
    "\n",
    "# Read the data\n",
    "X_full = pd.read_csv('../input/train.csv', index_col='Id')\n",
    "X_test_full = pd.read_csv('../input/test.csv', index_col='Id')\n",
    "\n",
    "# Remove rows with missing target, separate target from predictors\n",
    "X_full.dropna(axis=0, subset=['SalePrice'], inplace=True)\n",
    "y = X_full.SalePrice\n",
    "X_full.drop(['SalePrice'], axis=1, inplace=True)\n",
    "\n",
    "# To keep things simple, we'll use only numerical predictors\n",
    "X = X_full.select_dtypes(exclude=['object'])\n",
    "X_test = X_test_full.select_dtypes(exclude=['object'])\n",
    "\n",
    "# Break off validation set from training data\n",
    "X_train, X_valid, y_train, y_valid = train_test_split(X, y, train_size=0.8, test_size=0.2,\n",
    "                                                      random_state=0)"
   ]
  },
  {
   "cell_type": "markdown",
   "id": "4f0e559f",
   "metadata": {
    "papermill": {
     "duration": 0.008167,
     "end_time": "2022-08-03T17:45:20.427571",
     "exception": false,
     "start_time": "2022-08-03T17:45:20.419404",
     "status": "completed"
    },
    "tags": []
   },
   "source": [
    "Use the next code cell to print the first five rows of the data."
   ]
  },
  {
   "cell_type": "code",
   "execution_count": 3,
   "id": "4f2658aa",
   "metadata": {
    "execution": {
     "iopub.execute_input": "2022-08-03T17:45:20.446140Z",
     "iopub.status.busy": "2022-08-03T17:45:20.445756Z",
     "iopub.status.idle": "2022-08-03T17:45:20.472740Z",
     "shell.execute_reply": "2022-08-03T17:45:20.471582Z"
    },
    "papermill": {
     "duration": 0.038962,
     "end_time": "2022-08-03T17:45:20.475034",
     "exception": false,
     "start_time": "2022-08-03T17:45:20.436072",
     "status": "completed"
    },
    "tags": []
   },
   "outputs": [
    {
     "data": {
      "text/html": [
       "<div>\n",
       "<style scoped>\n",
       "    .dataframe tbody tr th:only-of-type {\n",
       "        vertical-align: middle;\n",
       "    }\n",
       "\n",
       "    .dataframe tbody tr th {\n",
       "        vertical-align: top;\n",
       "    }\n",
       "\n",
       "    .dataframe thead th {\n",
       "        text-align: right;\n",
       "    }\n",
       "</style>\n",
       "<table border=\"1\" class=\"dataframe\">\n",
       "  <thead>\n",
       "    <tr style=\"text-align: right;\">\n",
       "      <th></th>\n",
       "      <th>MSSubClass</th>\n",
       "      <th>LotFrontage</th>\n",
       "      <th>LotArea</th>\n",
       "      <th>OverallQual</th>\n",
       "      <th>OverallCond</th>\n",
       "      <th>YearBuilt</th>\n",
       "      <th>YearRemodAdd</th>\n",
       "      <th>MasVnrArea</th>\n",
       "      <th>BsmtFinSF1</th>\n",
       "      <th>BsmtFinSF2</th>\n",
       "      <th>...</th>\n",
       "      <th>GarageArea</th>\n",
       "      <th>WoodDeckSF</th>\n",
       "      <th>OpenPorchSF</th>\n",
       "      <th>EnclosedPorch</th>\n",
       "      <th>3SsnPorch</th>\n",
       "      <th>ScreenPorch</th>\n",
       "      <th>PoolArea</th>\n",
       "      <th>MiscVal</th>\n",
       "      <th>MoSold</th>\n",
       "      <th>YrSold</th>\n",
       "    </tr>\n",
       "    <tr>\n",
       "      <th>Id</th>\n",
       "      <th></th>\n",
       "      <th></th>\n",
       "      <th></th>\n",
       "      <th></th>\n",
       "      <th></th>\n",
       "      <th></th>\n",
       "      <th></th>\n",
       "      <th></th>\n",
       "      <th></th>\n",
       "      <th></th>\n",
       "      <th></th>\n",
       "      <th></th>\n",
       "      <th></th>\n",
       "      <th></th>\n",
       "      <th></th>\n",
       "      <th></th>\n",
       "      <th></th>\n",
       "      <th></th>\n",
       "      <th></th>\n",
       "      <th></th>\n",
       "      <th></th>\n",
       "    </tr>\n",
       "  </thead>\n",
       "  <tbody>\n",
       "    <tr>\n",
       "      <th>619</th>\n",
       "      <td>20</td>\n",
       "      <td>90.0</td>\n",
       "      <td>11694</td>\n",
       "      <td>9</td>\n",
       "      <td>5</td>\n",
       "      <td>2007</td>\n",
       "      <td>2007</td>\n",
       "      <td>452.0</td>\n",
       "      <td>48</td>\n",
       "      <td>0</td>\n",
       "      <td>...</td>\n",
       "      <td>774</td>\n",
       "      <td>0</td>\n",
       "      <td>108</td>\n",
       "      <td>0</td>\n",
       "      <td>0</td>\n",
       "      <td>260</td>\n",
       "      <td>0</td>\n",
       "      <td>0</td>\n",
       "      <td>7</td>\n",
       "      <td>2007</td>\n",
       "    </tr>\n",
       "    <tr>\n",
       "      <th>871</th>\n",
       "      <td>20</td>\n",
       "      <td>60.0</td>\n",
       "      <td>6600</td>\n",
       "      <td>5</td>\n",
       "      <td>5</td>\n",
       "      <td>1962</td>\n",
       "      <td>1962</td>\n",
       "      <td>0.0</td>\n",
       "      <td>0</td>\n",
       "      <td>0</td>\n",
       "      <td>...</td>\n",
       "      <td>308</td>\n",
       "      <td>0</td>\n",
       "      <td>0</td>\n",
       "      <td>0</td>\n",
       "      <td>0</td>\n",
       "      <td>0</td>\n",
       "      <td>0</td>\n",
       "      <td>0</td>\n",
       "      <td>8</td>\n",
       "      <td>2009</td>\n",
       "    </tr>\n",
       "    <tr>\n",
       "      <th>93</th>\n",
       "      <td>30</td>\n",
       "      <td>80.0</td>\n",
       "      <td>13360</td>\n",
       "      <td>5</td>\n",
       "      <td>7</td>\n",
       "      <td>1921</td>\n",
       "      <td>2006</td>\n",
       "      <td>0.0</td>\n",
       "      <td>713</td>\n",
       "      <td>0</td>\n",
       "      <td>...</td>\n",
       "      <td>432</td>\n",
       "      <td>0</td>\n",
       "      <td>0</td>\n",
       "      <td>44</td>\n",
       "      <td>0</td>\n",
       "      <td>0</td>\n",
       "      <td>0</td>\n",
       "      <td>0</td>\n",
       "      <td>8</td>\n",
       "      <td>2009</td>\n",
       "    </tr>\n",
       "    <tr>\n",
       "      <th>818</th>\n",
       "      <td>20</td>\n",
       "      <td>NaN</td>\n",
       "      <td>13265</td>\n",
       "      <td>8</td>\n",
       "      <td>5</td>\n",
       "      <td>2002</td>\n",
       "      <td>2002</td>\n",
       "      <td>148.0</td>\n",
       "      <td>1218</td>\n",
       "      <td>0</td>\n",
       "      <td>...</td>\n",
       "      <td>857</td>\n",
       "      <td>150</td>\n",
       "      <td>59</td>\n",
       "      <td>0</td>\n",
       "      <td>0</td>\n",
       "      <td>0</td>\n",
       "      <td>0</td>\n",
       "      <td>0</td>\n",
       "      <td>7</td>\n",
       "      <td>2008</td>\n",
       "    </tr>\n",
       "    <tr>\n",
       "      <th>303</th>\n",
       "      <td>20</td>\n",
       "      <td>118.0</td>\n",
       "      <td>13704</td>\n",
       "      <td>7</td>\n",
       "      <td>5</td>\n",
       "      <td>2001</td>\n",
       "      <td>2002</td>\n",
       "      <td>150.0</td>\n",
       "      <td>0</td>\n",
       "      <td>0</td>\n",
       "      <td>...</td>\n",
       "      <td>843</td>\n",
       "      <td>468</td>\n",
       "      <td>81</td>\n",
       "      <td>0</td>\n",
       "      <td>0</td>\n",
       "      <td>0</td>\n",
       "      <td>0</td>\n",
       "      <td>0</td>\n",
       "      <td>1</td>\n",
       "      <td>2006</td>\n",
       "    </tr>\n",
       "  </tbody>\n",
       "</table>\n",
       "<p>5 rows × 36 columns</p>\n",
       "</div>"
      ],
      "text/plain": [
       "     MSSubClass  LotFrontage  LotArea  OverallQual  OverallCond  YearBuilt  \\\n",
       "Id                                                                           \n",
       "619          20         90.0    11694            9            5       2007   \n",
       "871          20         60.0     6600            5            5       1962   \n",
       "93           30         80.0    13360            5            7       1921   \n",
       "818          20          NaN    13265            8            5       2002   \n",
       "303          20        118.0    13704            7            5       2001   \n",
       "\n",
       "     YearRemodAdd  MasVnrArea  BsmtFinSF1  BsmtFinSF2  ...  GarageArea  \\\n",
       "Id                                                     ...               \n",
       "619          2007       452.0          48           0  ...         774   \n",
       "871          1962         0.0           0           0  ...         308   \n",
       "93           2006         0.0         713           0  ...         432   \n",
       "818          2002       148.0        1218           0  ...         857   \n",
       "303          2002       150.0           0           0  ...         843   \n",
       "\n",
       "     WoodDeckSF  OpenPorchSF  EnclosedPorch  3SsnPorch  ScreenPorch  PoolArea  \\\n",
       "Id                                                                              \n",
       "619           0          108              0          0          260         0   \n",
       "871           0            0              0          0            0         0   \n",
       "93            0            0             44          0            0         0   \n",
       "818         150           59              0          0            0         0   \n",
       "303         468           81              0          0            0         0   \n",
       "\n",
       "     MiscVal  MoSold  YrSold  \n",
       "Id                            \n",
       "619        0       7    2007  \n",
       "871        0       8    2009  \n",
       "93         0       8    2009  \n",
       "818        0       7    2008  \n",
       "303        0       1    2006  \n",
       "\n",
       "[5 rows x 36 columns]"
      ]
     },
     "execution_count": 3,
     "metadata": {},
     "output_type": "execute_result"
    }
   ],
   "source": [
    "X_train.head()"
   ]
  },
  {
   "cell_type": "markdown",
   "id": "18ebd7a6",
   "metadata": {
    "papermill": {
     "duration": 0.008833,
     "end_time": "2022-08-03T17:45:20.494159",
     "exception": false,
     "start_time": "2022-08-03T17:45:20.485326",
     "status": "completed"
    },
    "tags": []
   },
   "source": [
    "You can already see a few missing values in the first several rows.  In the next step, you'll obtain a more comprehensive understanding of the missing values in the dataset.\n",
    "\n",
    "# Step 1: Preliminary investigation\n",
    "\n",
    "Run the code cell below without changes."
   ]
  },
  {
   "cell_type": "code",
   "execution_count": 4,
   "id": "65745c09",
   "metadata": {
    "execution": {
     "iopub.execute_input": "2022-08-03T17:45:20.515343Z",
     "iopub.status.busy": "2022-08-03T17:45:20.514678Z",
     "iopub.status.idle": "2022-08-03T17:45:20.523722Z",
     "shell.execute_reply": "2022-08-03T17:45:20.522281Z"
    },
    "papermill": {
     "duration": 0.022542,
     "end_time": "2022-08-03T17:45:20.526140",
     "exception": false,
     "start_time": "2022-08-03T17:45:20.503598",
     "status": "completed"
    },
    "tags": []
   },
   "outputs": [
    {
     "name": "stdout",
     "output_type": "stream",
     "text": [
      "(1168, 36)\n",
      "LotFrontage    212\n",
      "MasVnrArea       6\n",
      "GarageYrBlt     58\n",
      "dtype: int64\n"
     ]
    }
   ],
   "source": [
    "# Shape of training data (num_rows, num_columns)\n",
    "print(X_train.shape)\n",
    "\n",
    "# Number of missing values in each column of training data\n",
    "missing_val_count_by_column = (X_train.isnull().sum())\n",
    "print(missing_val_count_by_column[missing_val_count_by_column > 0])"
   ]
  },
  {
   "cell_type": "markdown",
   "id": "11ea82aa",
   "metadata": {
    "papermill": {
     "duration": 0.009192,
     "end_time": "2022-08-03T17:45:20.545006",
     "exception": false,
     "start_time": "2022-08-03T17:45:20.535814",
     "status": "completed"
    },
    "tags": []
   },
   "source": [
    "### Part A\n",
    "\n",
    "Use the above output to answer the questions below."
   ]
  },
  {
   "cell_type": "code",
   "execution_count": 5,
   "id": "de97ff45",
   "metadata": {
    "execution": {
     "iopub.execute_input": "2022-08-03T17:45:20.565176Z",
     "iopub.status.busy": "2022-08-03T17:45:20.564766Z",
     "iopub.status.idle": "2022-08-03T17:45:20.573405Z",
     "shell.execute_reply": "2022-08-03T17:45:20.572295Z"
    },
    "papermill": {
     "duration": 0.021407,
     "end_time": "2022-08-03T17:45:20.575693",
     "exception": false,
     "start_time": "2022-08-03T17:45:20.554286",
     "status": "completed"
    },
    "tags": []
   },
   "outputs": [
    {
     "data": {
      "application/javascript": [
       "parent.postMessage({\"jupyterEvent\": \"custom.exercise_interaction\", \"data\": {\"outcomeType\": 1, \"valueTowardsCompletion\": 1.0, \"interactionType\": 1, \"questionType\": 1, \"questionId\": \"1.1_InvestigateEquality\", \"learnToolsVersion\": \"0.3.4\", \"failureMessage\": \"\", \"exceptionClass\": \"\", \"trace\": \"\"}}, \"*\")"
      ],
      "text/plain": [
       "<IPython.core.display.Javascript object>"
      ]
     },
     "metadata": {},
     "output_type": "display_data"
    },
    {
     "data": {
      "text/markdown": [
       "<span style=\"color:#33cc33\">Correct</span>"
      ],
      "text/plain": [
       "Correct"
      ]
     },
     "metadata": {},
     "output_type": "display_data"
    }
   ],
   "source": [
    "# Fill in the line below: How many rows are in the training data?\n",
    "num_rows = 1168\n",
    "\n",
    "# Fill in the line below: How many columns in the training data\n",
    "# have missing values?\n",
    "num_cols_with_missing = 3\n",
    "\n",
    "# Fill in the line below: How many missing entries are contained in \n",
    "# all of the training data?\n",
    "tot_missing = 276\n",
    "\n",
    "# Check your answers\n",
    "step_1.a.check()"
   ]
  },
  {
   "cell_type": "code",
   "execution_count": 6,
   "id": "f27512b3",
   "metadata": {
    "execution": {
     "iopub.execute_input": "2022-08-03T17:45:20.596036Z",
     "iopub.status.busy": "2022-08-03T17:45:20.595617Z",
     "iopub.status.idle": "2022-08-03T17:45:20.599792Z",
     "shell.execute_reply": "2022-08-03T17:45:20.599053Z"
    },
    "papermill": {
     "duration": 0.016999,
     "end_time": "2022-08-03T17:45:20.602036",
     "exception": false,
     "start_time": "2022-08-03T17:45:20.585037",
     "status": "completed"
    },
    "tags": []
   },
   "outputs": [],
   "source": [
    "# Lines below will give you a hint or solution code\n",
    "#step_1.a.hint()\n",
    "#step_1.a.solution()"
   ]
  },
  {
   "cell_type": "markdown",
   "id": "3a244b88",
   "metadata": {
    "papermill": {
     "duration": 0.009642,
     "end_time": "2022-08-03T17:45:20.621185",
     "exception": false,
     "start_time": "2022-08-03T17:45:20.611543",
     "status": "completed"
    },
    "tags": []
   },
   "source": [
    "### Part B\n",
    "Considering your answers above, what do you think is likely the best approach to dealing with the missing values?"
   ]
  },
  {
   "cell_type": "code",
   "execution_count": 7,
   "id": "6844f7f1",
   "metadata": {
    "execution": {
     "iopub.execute_input": "2022-08-03T17:45:20.642408Z",
     "iopub.status.busy": "2022-08-03T17:45:20.641443Z",
     "iopub.status.idle": "2022-08-03T17:45:20.649654Z",
     "shell.execute_reply": "2022-08-03T17:45:20.648883Z"
    },
    "papermill": {
     "duration": 0.020984,
     "end_time": "2022-08-03T17:45:20.651679",
     "exception": false,
     "start_time": "2022-08-03T17:45:20.630695",
     "status": "completed"
    },
    "tags": []
   },
   "outputs": [
    {
     "data": {
      "application/javascript": [
       "parent.postMessage({\"jupyterEvent\": \"custom.exercise_interaction\", \"data\": {\"outcomeType\": 1, \"valueTowardsCompletion\": 1.0, \"interactionType\": 1, \"questionType\": 4, \"questionId\": \"1.2_InvestigateThought\", \"learnToolsVersion\": \"0.3.4\", \"failureMessage\": \"\", \"exceptionClass\": \"\", \"trace\": \"\"}}, \"*\")"
      ],
      "text/plain": [
       "<IPython.core.display.Javascript object>"
      ]
     },
     "metadata": {},
     "output_type": "display_data"
    },
    {
     "data": {
      "text/markdown": [
       "<span style=\"color:#33cc33\">Correct:</span> \n",
       "\n",
       "Since there are relatively few missing entries in the data (the column with the greatest percentage of missing values is missing less than 20% of its entries), we can expect that dropping columns is unlikely to yield good results.  This is because we'd be throwing away a lot of valuable data, and so imputation will likely perform better."
      ],
      "text/plain": [
       "Correct: \n",
       "\n",
       "Since there are relatively few missing entries in the data (the column with the greatest percentage of missing values is missing less than 20% of its entries), we can expect that dropping columns is unlikely to yield good results.  This is because we'd be throwing away a lot of valuable data, and so imputation will likely perform better."
      ]
     },
     "metadata": {},
     "output_type": "display_data"
    }
   ],
   "source": [
    "# Check your answer (Run this code cell to receive credit!)\n",
    "step_1.b.check()"
   ]
  },
  {
   "cell_type": "code",
   "execution_count": 8,
   "id": "cc4b56dd",
   "metadata": {
    "execution": {
     "iopub.execute_input": "2022-08-03T17:45:20.672678Z",
     "iopub.status.busy": "2022-08-03T17:45:20.672263Z",
     "iopub.status.idle": "2022-08-03T17:45:20.676903Z",
     "shell.execute_reply": "2022-08-03T17:45:20.675846Z"
    },
    "papermill": {
     "duration": 0.017782,
     "end_time": "2022-08-03T17:45:20.679183",
     "exception": false,
     "start_time": "2022-08-03T17:45:20.661401",
     "status": "completed"
    },
    "tags": []
   },
   "outputs": [],
   "source": [
    "#step_1.b.hint()"
   ]
  },
  {
   "cell_type": "markdown",
   "id": "722ebdd1",
   "metadata": {
    "papermill": {
     "duration": 0.009254,
     "end_time": "2022-08-03T17:45:20.698133",
     "exception": false,
     "start_time": "2022-08-03T17:45:20.688879",
     "status": "completed"
    },
    "tags": []
   },
   "source": [
    "To compare different approaches to dealing with missing values, you'll use the same `score_dataset()` function from the tutorial.  This function reports the [mean absolute error](https://en.wikipedia.org/wiki/Mean_absolute_error) (MAE) from a random forest model."
   ]
  },
  {
   "cell_type": "code",
   "execution_count": 9,
   "id": "2ab611be",
   "metadata": {
    "execution": {
     "iopub.execute_input": "2022-08-03T17:45:20.719095Z",
     "iopub.status.busy": "2022-08-03T17:45:20.718664Z",
     "iopub.status.idle": "2022-08-03T17:45:20.929562Z",
     "shell.execute_reply": "2022-08-03T17:45:20.928545Z"
    },
    "papermill": {
     "duration": 0.224531,
     "end_time": "2022-08-03T17:45:20.932415",
     "exception": false,
     "start_time": "2022-08-03T17:45:20.707884",
     "status": "completed"
    },
    "tags": []
   },
   "outputs": [],
   "source": [
    "from sklearn.ensemble import RandomForestRegressor\n",
    "from sklearn.metrics import mean_absolute_error\n",
    "\n",
    "# Function for comparing different approaches\n",
    "def score_dataset(X_train, X_valid, y_train, y_valid):\n",
    "    model = RandomForestRegressor(n_estimators=100, random_state=0)\n",
    "    model.fit(X_train, y_train)\n",
    "    preds = model.predict(X_valid)\n",
    "    return mean_absolute_error(y_valid, preds)"
   ]
  },
  {
   "cell_type": "markdown",
   "id": "f5d7afdf",
   "metadata": {
    "papermill": {
     "duration": 0.009237,
     "end_time": "2022-08-03T17:45:20.951441",
     "exception": false,
     "start_time": "2022-08-03T17:45:20.942204",
     "status": "completed"
    },
    "tags": []
   },
   "source": [
    "# Step 2: Drop columns with missing values\n",
    "\n",
    "In this step, you'll preprocess the data in `X_train` and `X_valid` to remove columns with missing values.  Set the preprocessed DataFrames to `reduced_X_train` and `reduced_X_valid`, respectively.  "
   ]
  },
  {
   "cell_type": "code",
   "execution_count": 10,
   "id": "939955c8",
   "metadata": {
    "execution": {
     "iopub.execute_input": "2022-08-03T17:45:20.972242Z",
     "iopub.status.busy": "2022-08-03T17:45:20.971852Z",
     "iopub.status.idle": "2022-08-03T17:45:21.002051Z",
     "shell.execute_reply": "2022-08-03T17:45:21.000869Z"
    },
    "papermill": {
     "duration": 0.043262,
     "end_time": "2022-08-03T17:45:21.004335",
     "exception": false,
     "start_time": "2022-08-03T17:45:20.961073",
     "status": "completed"
    },
    "tags": []
   },
   "outputs": [
    {
     "data": {
      "application/javascript": [
       "parent.postMessage({\"jupyterEvent\": \"custom.exercise_interaction\", \"data\": {\"outcomeType\": 1, \"valueTowardsCompletion\": 1.0, \"interactionType\": 1, \"questionType\": 2, \"questionId\": \"2_DropMissing\", \"learnToolsVersion\": \"0.3.4\", \"failureMessage\": \"\", \"exceptionClass\": \"\", \"trace\": \"\"}}, \"*\")"
      ],
      "text/plain": [
       "<IPython.core.display.Javascript object>"
      ]
     },
     "metadata": {},
     "output_type": "display_data"
    },
    {
     "data": {
      "text/markdown": [
       "<span style=\"color:#33cc33\">Correct</span>"
      ],
      "text/plain": [
       "Correct"
      ]
     },
     "metadata": {},
     "output_type": "display_data"
    }
   ],
   "source": [
    "# Fill in the line below: get names of columns with missing values\n",
    "____ # Your code here\n",
    "cols_with_missing = [col for col in X_train.columns\n",
    "                     if X_train[col].isnull().any()]\n",
    "# Fill in the lines below: drop columns in training and validation data\n",
    "reduced_X_train = X_train.drop(cols_with_missing, axis=1)\n",
    "reduced_X_valid = X_valid.drop(cols_with_missing, axis=1)\n",
    "\n",
    "# Check your answers\n",
    "step_2.check()"
   ]
  },
  {
   "cell_type": "code",
   "execution_count": 11,
   "id": "2c37c9fd",
   "metadata": {
    "execution": {
     "iopub.execute_input": "2022-08-03T17:45:21.025641Z",
     "iopub.status.busy": "2022-08-03T17:45:21.025248Z",
     "iopub.status.idle": "2022-08-03T17:45:21.029741Z",
     "shell.execute_reply": "2022-08-03T17:45:21.028878Z"
    },
    "papermill": {
     "duration": 0.017662,
     "end_time": "2022-08-03T17:45:21.031817",
     "exception": false,
     "start_time": "2022-08-03T17:45:21.014155",
     "status": "completed"
    },
    "tags": []
   },
   "outputs": [],
   "source": [
    "# Lines below will give you a hint or solution code\n",
    "#step_2.hint()\n",
    "#step_2.solution()"
   ]
  },
  {
   "cell_type": "markdown",
   "id": "b2f59e3c",
   "metadata": {
    "papermill": {
     "duration": 0.009326,
     "end_time": "2022-08-03T17:45:21.050900",
     "exception": false,
     "start_time": "2022-08-03T17:45:21.041574",
     "status": "completed"
    },
    "tags": []
   },
   "source": [
    "Run the next code cell without changes to obtain the MAE for this approach."
   ]
  },
  {
   "cell_type": "code",
   "execution_count": 12,
   "id": "6001e75b",
   "metadata": {
    "execution": {
     "iopub.execute_input": "2022-08-03T17:45:21.072384Z",
     "iopub.status.busy": "2022-08-03T17:45:21.071648Z",
     "iopub.status.idle": "2022-08-03T17:45:22.181111Z",
     "shell.execute_reply": "2022-08-03T17:45:22.179421Z"
    },
    "papermill": {
     "duration": 1.123217,
     "end_time": "2022-08-03T17:45:22.183772",
     "exception": false,
     "start_time": "2022-08-03T17:45:21.060555",
     "status": "completed"
    },
    "tags": []
   },
   "outputs": [
    {
     "name": "stdout",
     "output_type": "stream",
     "text": [
      "MAE (Drop columns with missing values):\n",
      "17837.82570776256\n"
     ]
    }
   ],
   "source": [
    "print(\"MAE (Drop columns with missing values):\")\n",
    "print(score_dataset(reduced_X_train, reduced_X_valid, y_train, y_valid))"
   ]
  },
  {
   "cell_type": "markdown",
   "id": "b8b263ae",
   "metadata": {
    "papermill": {
     "duration": 0.009744,
     "end_time": "2022-08-03T17:45:22.203672",
     "exception": false,
     "start_time": "2022-08-03T17:45:22.193928",
     "status": "completed"
    },
    "tags": []
   },
   "source": [
    "# Step 3: Imputation\n",
    "\n",
    "### Part A\n",
    "\n",
    "Use the next code cell to impute missing values with the mean value along each column.  Set the preprocessed DataFrames to `imputed_X_train` and `imputed_X_valid`.  Make sure that the column names match those in `X_train` and `X_valid`."
   ]
  },
  {
   "cell_type": "code",
   "execution_count": 13,
   "id": "04341f71",
   "metadata": {
    "execution": {
     "iopub.execute_input": "2022-08-03T17:45:22.225872Z",
     "iopub.status.busy": "2022-08-03T17:45:22.225449Z",
     "iopub.status.idle": "2022-08-03T17:45:22.260764Z",
     "shell.execute_reply": "2022-08-03T17:45:22.259824Z"
    },
    "papermill": {
     "duration": 0.049212,
     "end_time": "2022-08-03T17:45:22.263030",
     "exception": false,
     "start_time": "2022-08-03T17:45:22.213818",
     "status": "completed"
    },
    "tags": []
   },
   "outputs": [
    {
     "data": {
      "application/javascript": [
       "parent.postMessage({\"jupyterEvent\": \"custom.exercise_interaction\", \"data\": {\"outcomeType\": 1, \"valueTowardsCompletion\": 1.0, \"interactionType\": 1, \"questionType\": 2, \"questionId\": \"3.1_ImputeCode\", \"learnToolsVersion\": \"0.3.4\", \"failureMessage\": \"\", \"exceptionClass\": \"\", \"trace\": \"\"}}, \"*\")"
      ],
      "text/plain": [
       "<IPython.core.display.Javascript object>"
      ]
     },
     "metadata": {},
     "output_type": "display_data"
    },
    {
     "data": {
      "text/markdown": [
       "<span style=\"color:#33cc33\">Correct</span>"
      ],
      "text/plain": [
       "Correct"
      ]
     },
     "metadata": {},
     "output_type": "display_data"
    }
   ],
   "source": [
    "from sklearn.impute import SimpleImputer\n",
    "impute = SimpleImputer()\n",
    "# Fill in the lines below: imputation\n",
    "____ # Your code here\n",
    "imputed_X_train = pd.DataFrame(impute.fit_transform(X_train))\n",
    "imputed_X_valid = pd.DataFrame(impute.transform(X_valid))\n",
    "\n",
    "# Fill in the lines below: imputation removed column names; put them back\n",
    "imputed_X_train.columns = X_train.columns\n",
    "imputed_X_valid.columns = X_valid.columns\n",
    "\n",
    "# Check your answers\n",
    "step_3.a.check()"
   ]
  },
  {
   "cell_type": "code",
   "execution_count": 14,
   "id": "502f5d77",
   "metadata": {
    "execution": {
     "iopub.execute_input": "2022-08-03T17:45:22.285970Z",
     "iopub.status.busy": "2022-08-03T17:45:22.284737Z",
     "iopub.status.idle": "2022-08-03T17:45:22.290327Z",
     "shell.execute_reply": "2022-08-03T17:45:22.289258Z"
    },
    "papermill": {
     "duration": 0.019453,
     "end_time": "2022-08-03T17:45:22.292796",
     "exception": false,
     "start_time": "2022-08-03T17:45:22.273343",
     "status": "completed"
    },
    "tags": []
   },
   "outputs": [],
   "source": [
    "# Lines below will give you a hint or solution code\n",
    "#step_3.a.hint()\n",
    "#step_3.a.solution()"
   ]
  },
  {
   "cell_type": "markdown",
   "id": "7630cc3b",
   "metadata": {
    "papermill": {
     "duration": 0.009919,
     "end_time": "2022-08-03T17:45:22.313064",
     "exception": false,
     "start_time": "2022-08-03T17:45:22.303145",
     "status": "completed"
    },
    "tags": []
   },
   "source": [
    "Run the next code cell without changes to obtain the MAE for this approach."
   ]
  },
  {
   "cell_type": "code",
   "execution_count": 15,
   "id": "bf77726b",
   "metadata": {
    "execution": {
     "iopub.execute_input": "2022-08-03T17:45:22.334969Z",
     "iopub.status.busy": "2022-08-03T17:45:22.334523Z",
     "iopub.status.idle": "2022-08-03T17:45:23.549570Z",
     "shell.execute_reply": "2022-08-03T17:45:23.548144Z"
    },
    "papermill": {
     "duration": 1.229436,
     "end_time": "2022-08-03T17:45:23.552650",
     "exception": false,
     "start_time": "2022-08-03T17:45:22.323214",
     "status": "completed"
    },
    "tags": []
   },
   "outputs": [
    {
     "name": "stdout",
     "output_type": "stream",
     "text": [
      "MAE (Imputation):\n",
      "18062.894611872147\n"
     ]
    }
   ],
   "source": [
    "print(\"MAE (Imputation):\")\n",
    "print(score_dataset(imputed_X_train, imputed_X_valid, y_train, y_valid))"
   ]
  },
  {
   "cell_type": "markdown",
   "id": "14b2911b",
   "metadata": {
    "papermill": {
     "duration": 0.010032,
     "end_time": "2022-08-03T17:45:23.573033",
     "exception": false,
     "start_time": "2022-08-03T17:45:23.563001",
     "status": "completed"
    },
    "tags": []
   },
   "source": [
    "### Part B\n",
    "\n",
    "Compare the MAE from each approach.  Does anything surprise you about the results?  Why do you think one approach performed better than the other?"
   ]
  },
  {
   "cell_type": "code",
   "execution_count": 16,
   "id": "101ead7b",
   "metadata": {
    "execution": {
     "iopub.execute_input": "2022-08-03T17:45:23.596158Z",
     "iopub.status.busy": "2022-08-03T17:45:23.595269Z",
     "iopub.status.idle": "2022-08-03T17:45:23.602751Z",
     "shell.execute_reply": "2022-08-03T17:45:23.601980Z"
    },
    "papermill": {
     "duration": 0.021174,
     "end_time": "2022-08-03T17:45:23.604654",
     "exception": false,
     "start_time": "2022-08-03T17:45:23.583480",
     "status": "completed"
    },
    "tags": []
   },
   "outputs": [
    {
     "data": {
      "application/javascript": [
       "parent.postMessage({\"jupyterEvent\": \"custom.exercise_interaction\", \"data\": {\"outcomeType\": 1, \"valueTowardsCompletion\": 1.0, \"interactionType\": 1, \"questionType\": 4, \"questionId\": \"3.2_ImputeThought\", \"learnToolsVersion\": \"0.3.4\", \"failureMessage\": \"\", \"exceptionClass\": \"\", \"trace\": \"\"}}, \"*\")"
      ],
      "text/plain": [
       "<IPython.core.display.Javascript object>"
      ]
     },
     "metadata": {},
     "output_type": "display_data"
    },
    {
     "data": {
      "text/markdown": [
       "<span style=\"color:#33cc33\">Correct:</span> \n",
       "\n",
       "Given that thre are so few missing values in the dataset, we'd expect imputation to perform better than dropping columns entirely.  However, we see that dropping columns performs slightly better!  While this can probably partially be attributed to noise in the dataset, another potential explanation is that the imputation method is not a great match to this dataset.  That is, maybe instead of filling in the mean value, it makes more sense to set every missing value to a value of 0, to fill in the most frequently encountered value, or to use some other method.  For instance, consider the `GarageYrBlt` column (which indicates the year that the garage was built).  It's likely that in some cases, a missing value could indicate a house that does not have a garage.  Does it make more sense to fill in the median value along each column in this case?  Or could we get better results by filling in the minimum value along each column?  It's not quite clear what's best in this case, but perhaps we can rule out some options immediately - for instance, setting missing values in this column to 0 is likely to yield horrible results!"
      ],
      "text/plain": [
       "Correct: \n",
       "\n",
       "Given that thre are so few missing values in the dataset, we'd expect imputation to perform better than dropping columns entirely.  However, we see that dropping columns performs slightly better!  While this can probably partially be attributed to noise in the dataset, another potential explanation is that the imputation method is not a great match to this dataset.  That is, maybe instead of filling in the mean value, it makes more sense to set every missing value to a value of 0, to fill in the most frequently encountered value, or to use some other method.  For instance, consider the `GarageYrBlt` column (which indicates the year that the garage was built).  It's likely that in some cases, a missing value could indicate a house that does not have a garage.  Does it make more sense to fill in the median value along each column in this case?  Or could we get better results by filling in the minimum value along each column?  It's not quite clear what's best in this case, but perhaps we can rule out some options immediately - for instance, setting missing values in this column to 0 is likely to yield horrible results!"
      ]
     },
     "metadata": {},
     "output_type": "display_data"
    }
   ],
   "source": [
    "# Check your answer (Run this code cell to receive credit!)\n",
    "step_3.b.check()"
   ]
  },
  {
   "cell_type": "code",
   "execution_count": 17,
   "id": "beac4270",
   "metadata": {
    "execution": {
     "iopub.execute_input": "2022-08-03T17:45:23.629089Z",
     "iopub.status.busy": "2022-08-03T17:45:23.627908Z",
     "iopub.status.idle": "2022-08-03T17:45:23.632732Z",
     "shell.execute_reply": "2022-08-03T17:45:23.631504Z"
    },
    "papermill": {
     "duration": 0.019414,
     "end_time": "2022-08-03T17:45:23.634911",
     "exception": false,
     "start_time": "2022-08-03T17:45:23.615497",
     "status": "completed"
    },
    "tags": []
   },
   "outputs": [],
   "source": [
    "#step_3.b.hint()"
   ]
  },
  {
   "cell_type": "markdown",
   "id": "ee7808da",
   "metadata": {
    "papermill": {
     "duration": 0.010614,
     "end_time": "2022-08-03T17:45:23.656252",
     "exception": false,
     "start_time": "2022-08-03T17:45:23.645638",
     "status": "completed"
    },
    "tags": []
   },
   "source": [
    "# Step 4: Generate test predictions\n",
    "\n",
    "In this final step, you'll use any approach of your choosing to deal with missing values.  Once you've preprocessed the training and validation features, you'll train and evaluate a random forest model.  Then, you'll preprocess the test data before generating predictions that can be submitted to the competition!\n",
    "\n",
    "### Part A\n",
    "\n",
    "Use the next code cell to preprocess the training and validation data.  Set the preprocessed DataFrames to `final_X_train` and `final_X_valid`.  **You can use any approach of your choosing here!**  in order for this step to be marked as correct, you need only ensure:\n",
    "- the preprocessed DataFrames have the same number of columns,\n",
    "- the preprocessed DataFrames have no missing values, \n",
    "- `final_X_train` and `y_train` have the same number of rows, and\n",
    "- `final_X_valid` and `y_valid` have the same number of rows."
   ]
  },
  {
   "cell_type": "code",
   "execution_count": 18,
   "id": "768a5a24",
   "metadata": {
    "execution": {
     "iopub.execute_input": "2022-08-03T17:45:23.679675Z",
     "iopub.status.busy": "2022-08-03T17:45:23.678993Z",
     "iopub.status.idle": "2022-08-03T17:45:23.707170Z",
     "shell.execute_reply": "2022-08-03T17:45:23.706298Z"
    },
    "papermill": {
     "duration": 0.042355,
     "end_time": "2022-08-03T17:45:23.709314",
     "exception": false,
     "start_time": "2022-08-03T17:45:23.666959",
     "status": "completed"
    },
    "tags": []
   },
   "outputs": [
    {
     "data": {
      "application/javascript": [
       "parent.postMessage({\"jupyterEvent\": \"custom.exercise_interaction\", \"data\": {\"outcomeType\": 1, \"valueTowardsCompletion\": 1.0, \"interactionType\": 1, \"questionType\": 2, \"questionId\": \"4.1_PredsCodeA\", \"learnToolsVersion\": \"0.3.4\", \"failureMessage\": \"\", \"exceptionClass\": \"\", \"trace\": \"\"}}, \"*\")"
      ],
      "text/plain": [
       "<IPython.core.display.Javascript object>"
      ]
     },
     "metadata": {},
     "output_type": "display_data"
    },
    {
     "data": {
      "text/markdown": [
       "<span style=\"color:#33cc33\">Correct</span>"
      ],
      "text/plain": [
       "Correct"
      ]
     },
     "metadata": {},
     "output_type": "display_data"
    }
   ],
   "source": [
    "from sklearn.impute import SimpleImputer\n",
    "impute = SimpleImputer()\n",
    "# Fill in the lines below: imputation\n",
    "____ # Your code here\n",
    "imputed_X_train = pd.DataFrame(impute.fit_transform(X_train))\n",
    "imputed_X_valid = pd.DataFrame(impute.transform(X_valid))\n",
    "\n",
    "# Fill in the lines below: imputation removed column names; put them back\n",
    "imputed_X_train.columns = X_train.columns\n",
    "imputed_X_valid.columns = X_valid.columns\n",
    "\n",
    "final_X_train = imputed_X_train.copy()\n",
    "final_X_valid = imputed_X_valid.copy()\n",
    "\n",
    "# Check your answers\n",
    "step_4.a.check()"
   ]
  },
  {
   "cell_type": "code",
   "execution_count": 19,
   "id": "cd6aaabc",
   "metadata": {
    "execution": {
     "iopub.execute_input": "2022-08-03T17:45:23.733261Z",
     "iopub.status.busy": "2022-08-03T17:45:23.732555Z",
     "iopub.status.idle": "2022-08-03T17:45:23.736566Z",
     "shell.execute_reply": "2022-08-03T17:45:23.735572Z"
    },
    "papermill": {
     "duration": 0.01833,
     "end_time": "2022-08-03T17:45:23.738710",
     "exception": false,
     "start_time": "2022-08-03T17:45:23.720380",
     "status": "completed"
    },
    "tags": []
   },
   "outputs": [],
   "source": [
    "# Lines below will give you a hint or solution code\n",
    "#step_4.a.hint()\n",
    "#step_4.a.solution()"
   ]
  },
  {
   "cell_type": "markdown",
   "id": "ca7d1ec5",
   "metadata": {
    "papermill": {
     "duration": 0.010764,
     "end_time": "2022-08-03T17:45:23.760698",
     "exception": false,
     "start_time": "2022-08-03T17:45:23.749934",
     "status": "completed"
    },
    "tags": []
   },
   "source": [
    "Run the next code cell to train and evaluate a random forest model.  (*Note that we don't use the `score_dataset()` function above, because we will soon use the trained model to generate test predictions!*)"
   ]
  },
  {
   "cell_type": "code",
   "execution_count": 20,
   "id": "9eb981bf",
   "metadata": {
    "execution": {
     "iopub.execute_input": "2022-08-03T17:45:23.785919Z",
     "iopub.status.busy": "2022-08-03T17:45:23.784786Z",
     "iopub.status.idle": "2022-08-03T17:45:24.998270Z",
     "shell.execute_reply": "2022-08-03T17:45:24.996958Z"
    },
    "papermill": {
     "duration": 1.229006,
     "end_time": "2022-08-03T17:45:25.001328",
     "exception": false,
     "start_time": "2022-08-03T17:45:23.772322",
     "status": "completed"
    },
    "tags": []
   },
   "outputs": [
    {
     "name": "stdout",
     "output_type": "stream",
     "text": [
      "MAE (Your approach):\n",
      "17786.63516960209\n"
     ]
    }
   ],
   "source": [
    "# Define and fit model\n",
    "model = RandomForestRegressor(n_estimators=100, random_state=42)\n",
    "model.fit(final_X_train, y_train)\n",
    "\n",
    "# Get validation predictions and MAE\n",
    "preds_valid = model.predict(final_X_valid)\n",
    "print(\"MAE (Your approach):\")\n",
    "print(mean_absolute_error(y_valid, preds_valid))"
   ]
  },
  {
   "cell_type": "markdown",
   "id": "0278acda",
   "metadata": {
    "papermill": {
     "duration": 0.010811,
     "end_time": "2022-08-03T17:45:25.023427",
     "exception": false,
     "start_time": "2022-08-03T17:45:25.012616",
     "status": "completed"
    },
    "tags": []
   },
   "source": [
    "### Part B\n",
    "\n",
    "Use the next code cell to preprocess your test data.  Make sure that you use a method that agrees with how you preprocessed the training and validation data, and set the preprocessed test features to `final_X_test`.\n",
    "\n",
    "Then, use the preprocessed test features and the trained model to generate test predictions in `preds_test`.\n",
    "\n",
    "In order for this step to be marked correct, you need only ensure:\n",
    "- the preprocessed test DataFrame has no missing values, and\n",
    "- `final_X_test` has the same number of rows as `X_test`."
   ]
  },
  {
   "cell_type": "code",
   "execution_count": 21,
   "id": "25777140",
   "metadata": {
    "execution": {
     "iopub.execute_input": "2022-08-03T17:45:25.047242Z",
     "iopub.status.busy": "2022-08-03T17:45:25.046841Z",
     "iopub.status.idle": "2022-08-03T17:45:25.109485Z",
     "shell.execute_reply": "2022-08-03T17:45:25.107387Z"
    },
    "papermill": {
     "duration": 0.077995,
     "end_time": "2022-08-03T17:45:25.112747",
     "exception": false,
     "start_time": "2022-08-03T17:45:25.034752",
     "status": "completed"
    },
    "tags": []
   },
   "outputs": [
    {
     "name": "stderr",
     "output_type": "stream",
     "text": [
      "/opt/conda/lib/python3.7/site-packages/sklearn/base.py:451: UserWarning: X does not have valid feature names, but RandomForestRegressor was fitted with feature names\n",
      "  \"X does not have valid feature names, but\"\n"
     ]
    },
    {
     "data": {
      "application/javascript": [
       "parent.postMessage({\"jupyterEvent\": \"custom.exercise_interaction\", \"data\": {\"outcomeType\": 1, \"valueTowardsCompletion\": 1.0, \"interactionType\": 1, \"questionType\": 2, \"questionId\": \"4.2_PredsCodeB\", \"learnToolsVersion\": \"0.3.4\", \"failureMessage\": \"\", \"exceptionClass\": \"\", \"trace\": \"\"}}, \"*\")"
      ],
      "text/plain": [
       "<IPython.core.display.Javascript object>"
      ]
     },
     "metadata": {},
     "output_type": "display_data"
    },
    {
     "data": {
      "text/markdown": [
       "<span style=\"color:#33cc33\">Correct</span>"
      ],
      "text/plain": [
       "Correct"
      ]
     },
     "metadata": {},
     "output_type": "display_data"
    }
   ],
   "source": [
    "# Fill in the line below: preprocess test data\n",
    "final_X_test = pd.DataFrame(impute.transform(X_test))\n",
    "\n",
    "# Fill in the line below: get test predictions\n",
    "preds_test = model.predict(final_X_test)\n",
    "\n",
    "# Check your answers\n",
    "step_4.b.check()"
   ]
  },
  {
   "cell_type": "code",
   "execution_count": 22,
   "id": "66633134",
   "metadata": {
    "execution": {
     "iopub.execute_input": "2022-08-03T17:45:25.140025Z",
     "iopub.status.busy": "2022-08-03T17:45:25.139127Z",
     "iopub.status.idle": "2022-08-03T17:45:25.144088Z",
     "shell.execute_reply": "2022-08-03T17:45:25.143191Z"
    },
    "papermill": {
     "duration": 0.020784,
     "end_time": "2022-08-03T17:45:25.146492",
     "exception": false,
     "start_time": "2022-08-03T17:45:25.125708",
     "status": "completed"
    },
    "tags": []
   },
   "outputs": [],
   "source": [
    "# Lines below will give you a hint or solution code\n",
    "#step_4.b.hint()\n",
    "#step_4.b.solution()"
   ]
  },
  {
   "cell_type": "markdown",
   "id": "c80d3a21",
   "metadata": {
    "papermill": {
     "duration": 0.011298,
     "end_time": "2022-08-03T17:45:25.169223",
     "exception": false,
     "start_time": "2022-08-03T17:45:25.157925",
     "status": "completed"
    },
    "tags": []
   },
   "source": [
    "Run the next code cell without changes to save your results to a CSV file that can be submitted directly to the competition."
   ]
  },
  {
   "cell_type": "code",
   "execution_count": 23,
   "id": "b42bc8fa",
   "metadata": {
    "execution": {
     "iopub.execute_input": "2022-08-03T17:45:25.194128Z",
     "iopub.status.busy": "2022-08-03T17:45:25.193698Z",
     "iopub.status.idle": "2022-08-03T17:45:25.204626Z",
     "shell.execute_reply": "2022-08-03T17:45:25.203755Z"
    },
    "papermill": {
     "duration": 0.02635,
     "end_time": "2022-08-03T17:45:25.206950",
     "exception": false,
     "start_time": "2022-08-03T17:45:25.180600",
     "status": "completed"
    },
    "tags": []
   },
   "outputs": [],
   "source": [
    "# Save test predictions to file\n",
    "output = pd.DataFrame({'Id': X_test.index,\n",
    "                       'SalePrice': preds_test})\n",
    "output.to_csv('submission.csv', index=False)"
   ]
  },
  {
   "cell_type": "markdown",
   "id": "eefea5c9",
   "metadata": {
    "papermill": {
     "duration": 0.011358,
     "end_time": "2022-08-03T17:45:25.229801",
     "exception": false,
     "start_time": "2022-08-03T17:45:25.218443",
     "status": "completed"
    },
    "tags": []
   },
   "source": [
    "# Submit your results\n",
    "\n",
    "Once you have successfully completed Step 4, you're ready to submit your results to the leaderboard!  (_You also learned how to do this in the previous exercise.  If you need a reminder of how to do this, please use the instructions below._)  \n",
    "\n",
    "First, you'll need to join the competition if you haven't already.  So open a new window by clicking on [this link](https://www.kaggle.com/c/home-data-for-ml-course).  Then click on the **Join Competition** button.\n",
    "\n",
    "![join competition image](https://i.imgur.com/wLmFtH3.png)\n",
    "\n",
    "Next, follow the instructions below:\n",
    "1. Begin by clicking on the **Save Version** button in the top right corner of the window.  This will generate a pop-up window.  \n",
    "2. Ensure that the **Save and Run All** option is selected, and then click on the **Save** button.\n",
    "3. This generates a window in the bottom left corner of the notebook.  After it has finished running, click on the number to the right of the **Save Version** button.  This pulls up a list of versions on the right of the screen.  Click on the ellipsis **(...)** to the right of the most recent version, and select **Open in Viewer**.  This brings you into view mode of the same page. You will need to scroll down to get back to these instructions.\n",
    "4. Click on the **Output** tab on the right of the screen.  Then, click on the file you would like to submit, and click on the **Submit** button to submit your results to the leaderboard.\n",
    "\n",
    "You have now successfully submitted to the competition!\n",
    "\n",
    "If you want to keep working to improve your performance, select the **Edit** button in the top right of the screen. Then you can change your code and repeat the process. There's a lot of room to improve, and you will climb up the leaderboard as you work.\n",
    "\n",
    "\n",
    "# Keep going\n",
    "\n",
    "Move on to learn what **[categorical variables](https://www.kaggle.com/alexisbcook/categorical-variables)** are, along with how to incorporate them into your machine learning models.  Categorical variables are very common in real-world data, but you'll get an error if you try to plug them into your models without processing them first!"
   ]
  },
  {
   "cell_type": "markdown",
   "id": "17b29618",
   "metadata": {
    "papermill": {
     "duration": 0.011646,
     "end_time": "2022-08-03T17:45:25.253032",
     "exception": false,
     "start_time": "2022-08-03T17:45:25.241386",
     "status": "completed"
    },
    "tags": []
   },
   "source": [
    "---\n",
    "\n",
    "\n",
    "\n",
    "\n",
    "*Have questions or comments? Visit the [course discussion forum](https://www.kaggle.com/learn/intermediate-machine-learning/discussion) to chat with other learners.*"
   ]
  }
 ],
 "metadata": {
  "kernelspec": {
   "display_name": "Python 3",
   "language": "python",
   "name": "python3"
  },
  "language_info": {
   "codemirror_mode": {
    "name": "ipython",
    "version": 3
   },
   "file_extension": ".py",
   "mimetype": "text/x-python",
   "name": "python",
   "nbconvert_exporter": "python",
   "pygments_lexer": "ipython3",
   "version": "3.7.12"
  },
  "papermill": {
   "default_parameters": {},
   "duration": 15.974409,
   "end_time": "2022-08-03T17:45:25.986186",
   "environment_variables": {},
   "exception": null,
   "input_path": "__notebook__.ipynb",
   "output_path": "__notebook__.ipynb",
   "parameters": {},
   "start_time": "2022-08-03T17:45:10.011777",
   "version": "2.3.4"
  }
 },
 "nbformat": 4,
 "nbformat_minor": 5
}
