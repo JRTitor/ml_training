{
 "cells": [
  {
   "cell_type": "markdown",
   "id": "b616d88f",
   "metadata": {
    "papermill": {
     "duration": 0.0067,
     "end_time": "2022-08-04T07:06:58.332616",
     "exception": false,
     "start_time": "2022-08-04T07:06:58.325916",
     "status": "completed"
    },
    "tags": []
   },
   "source": [
    "**This notebook is an exercise in the [Intermediate Machine Learning](https://www.kaggle.com/learn/intermediate-machine-learning) course.  You can reference the tutorial at [this link](https://www.kaggle.com/alexisbcook/xgboost).**\n",
    "\n",
    "---\n"
   ]
  },
  {
   "cell_type": "markdown",
   "id": "461cdb45",
   "metadata": {
    "papermill": {
     "duration": 0.005034,
     "end_time": "2022-08-04T07:06:58.343658",
     "exception": false,
     "start_time": "2022-08-04T07:06:58.338624",
     "status": "completed"
    },
    "tags": []
   },
   "source": [
    "In this exercise, you will use your new knowledge to train a model with **gradient boosting**.\n",
    "\n",
    "# Setup\n",
    "\n",
    "The questions below will give you feedback on your work. Run the following cell to set up the feedback system."
   ]
  },
  {
   "cell_type": "code",
   "execution_count": 1,
   "id": "90697cef",
   "metadata": {
    "execution": {
     "iopub.execute_input": "2022-08-04T07:06:58.358037Z",
     "iopub.status.busy": "2022-08-04T07:06:58.356460Z",
     "iopub.status.idle": "2022-08-04T07:07:00.860851Z",
     "shell.execute_reply": "2022-08-04T07:07:00.859689Z"
    },
    "papermill": {
     "duration": 2.515021,
     "end_time": "2022-08-04T07:07:00.864141",
     "exception": false,
     "start_time": "2022-08-04T07:06:58.349120",
     "status": "completed"
    },
    "tags": []
   },
   "outputs": [
    {
     "name": "stdout",
     "output_type": "stream",
     "text": [
      "Setup Complete\n"
     ]
    }
   ],
   "source": [
    "# Set up code checking\n",
    "import os\n",
    "if not os.path.exists(\"../input/train.csv\"):\n",
    "    os.symlink(\"../input/home-data-for-ml-course/train.csv\", \"../input/train.csv\")  \n",
    "    os.symlink(\"../input/home-data-for-ml-course/test.csv\", \"../input/test.csv\") \n",
    "from learntools.core import binder\n",
    "binder.bind(globals())\n",
    "from learntools.ml_intermediate.ex6 import *\n",
    "print(\"Setup Complete\")"
   ]
  },
  {
   "cell_type": "markdown",
   "id": "59fdb238",
   "metadata": {
    "papermill": {
     "duration": 0.005373,
     "end_time": "2022-08-04T07:07:00.875981",
     "exception": false,
     "start_time": "2022-08-04T07:07:00.870608",
     "status": "completed"
    },
    "tags": []
   },
   "source": [
    "You will work with the [Housing Prices Competition for Kaggle Learn Users](https://www.kaggle.com/c/home-data-for-ml-course) dataset from the previous exercise. \n",
    "\n",
    "![Ames Housing dataset image](https://i.imgur.com/lTJVG4e.png)\n",
    "\n",
    "Run the next code cell without changes to load the training and validation sets in `X_train`, `X_valid`, `y_train`, and `y_valid`.  The test set is loaded in `X_test`."
   ]
  },
  {
   "cell_type": "code",
   "execution_count": 2,
   "id": "4bdbb77c",
   "metadata": {
    "execution": {
     "iopub.execute_input": "2022-08-04T07:07:00.888598Z",
     "iopub.status.busy": "2022-08-04T07:07:00.888076Z",
     "iopub.status.idle": "2022-08-04T07:07:01.076880Z",
     "shell.execute_reply": "2022-08-04T07:07:01.075694Z"
    },
    "papermill": {
     "duration": 0.198272,
     "end_time": "2022-08-04T07:07:01.079505",
     "exception": false,
     "start_time": "2022-08-04T07:07:00.881233",
     "status": "completed"
    },
    "tags": []
   },
   "outputs": [],
   "source": [
    "import pandas as pd\n",
    "from sklearn.model_selection import train_test_split\n",
    "\n",
    "# Read the data\n",
    "X = pd.read_csv('../input/train.csv', index_col='Id')\n",
    "X_test_full = pd.read_csv('../input/test.csv', index_col='Id')\n",
    "\n",
    "# Remove rows with missing target, separate target from predictors\n",
    "X.dropna(axis=0, subset=['SalePrice'], inplace=True)\n",
    "y = X.SalePrice              \n",
    "X.drop(['SalePrice'], axis=1, inplace=True)\n",
    "\n",
    "# Break off validation set from training data\n",
    "X_train_full, X_valid_full, y_train, y_valid = train_test_split(X, y, train_size=0.8, test_size=0.2,\n",
    "                                                                random_state=0)\n",
    "\n",
    "# \"Cardinality\" means the number of unique values in a column\n",
    "# Select categorical columns with relatively low cardinality (convenient but arbitrary)\n",
    "low_cardinality_cols = [cname for cname in X_train_full.columns if X_train_full[cname].nunique() < 10 and \n",
    "                        X_train_full[cname].dtype == \"object\"]\n",
    "\n",
    "# Select numeric columns\n",
    "numeric_cols = [cname for cname in X_train_full.columns if X_train_full[cname].dtype in ['int64', 'float64']]\n",
    "\n",
    "# Keep selected columns only\n",
    "my_cols = low_cardinality_cols + numeric_cols\n",
    "X_train = X_train_full[my_cols].copy()\n",
    "X_valid = X_valid_full[my_cols].copy()\n",
    "X_test = X_test_full[my_cols].copy()\n",
    "\n",
    "# One-hot encode the data (to shorten the code, we use pandas)\n",
    "X_train = pd.get_dummies(X_train)\n",
    "X_valid = pd.get_dummies(X_valid)\n",
    "X_test = pd.get_dummies(X_test)\n",
    "X_train, X_valid = X_train.align(X_valid, join='left', axis=1)\n",
    "X_train, X_test = X_train.align(X_test, join='left', axis=1)"
   ]
  },
  {
   "cell_type": "markdown",
   "id": "c45c4916",
   "metadata": {
    "papermill": {
     "duration": 0.004949,
     "end_time": "2022-08-04T07:07:01.089886",
     "exception": false,
     "start_time": "2022-08-04T07:07:01.084937",
     "status": "completed"
    },
    "tags": []
   },
   "source": [
    "# Step 1: Build model\n",
    "\n",
    "### Part A\n",
    "\n",
    "In this step, you'll build and train your first model with gradient boosting.\n",
    "\n",
    "- Begin by setting `my_model_1` to an XGBoost model.  Use the [XGBRegressor](https://xgboost.readthedocs.io/en/latest/python/python_api.html#xgboost.XGBRegressor) class, and set the random seed to 0 (`random_state=0`).  **Leave all other parameters as default.**\n",
    "- Then, fit the model to the training data in `X_train` and `y_train`."
   ]
  },
  {
   "cell_type": "code",
   "execution_count": 3,
   "id": "f97a0eec",
   "metadata": {
    "execution": {
     "iopub.execute_input": "2022-08-04T07:07:01.101894Z",
     "iopub.status.busy": "2022-08-04T07:07:01.101485Z",
     "iopub.status.idle": "2022-08-04T07:07:02.104582Z",
     "shell.execute_reply": "2022-08-04T07:07:02.103344Z"
    },
    "papermill": {
     "duration": 1.01222,
     "end_time": "2022-08-04T07:07:02.107187",
     "exception": false,
     "start_time": "2022-08-04T07:07:01.094967",
     "status": "completed"
    },
    "tags": []
   },
   "outputs": [
    {
     "data": {
      "application/javascript": [
       "parent.postMessage({\"jupyterEvent\": \"custom.exercise_interaction\", \"data\": {\"outcomeType\": 1, \"valueTowardsCompletion\": 0.5, \"interactionType\": 1, \"questionType\": 2, \"questionId\": \"1.1_Model1A\", \"learnToolsVersion\": \"0.3.4\", \"failureMessage\": \"\", \"exceptionClass\": \"\", \"trace\": \"\"}}, \"*\")"
      ],
      "text/plain": [
       "<IPython.core.display.Javascript object>"
      ]
     },
     "metadata": {},
     "output_type": "display_data"
    },
    {
     "data": {
      "text/markdown": [
       "<span style=\"color:#33cc33\">Correct</span>"
      ],
      "text/plain": [
       "Correct"
      ]
     },
     "metadata": {},
     "output_type": "display_data"
    }
   ],
   "source": [
    "from xgboost import XGBRegressor\n",
    "\n",
    "# Define the model\n",
    "my_model_1 = XGBRegressor() # Your code here\n",
    "\n",
    "# Fit the model\n",
    "my_model_1.fit(X_train, y_train) # Your code here\n",
    "\n",
    "# Check your answer\n",
    "step_1.a.check()"
   ]
  },
  {
   "cell_type": "code",
   "execution_count": 4,
   "id": "ea4be369",
   "metadata": {
    "execution": {
     "iopub.execute_input": "2022-08-04T07:07:02.120980Z",
     "iopub.status.busy": "2022-08-04T07:07:02.120272Z",
     "iopub.status.idle": "2022-08-04T07:07:02.124083Z",
     "shell.execute_reply": "2022-08-04T07:07:02.123336Z"
    },
    "papermill": {
     "duration": 0.013101,
     "end_time": "2022-08-04T07:07:02.126292",
     "exception": false,
     "start_time": "2022-08-04T07:07:02.113191",
     "status": "completed"
    },
    "tags": []
   },
   "outputs": [],
   "source": [
    "# Lines below will give you a hint or solution code\n",
    "#step_1.a.hint()\n",
    "#step_1.a.solution()"
   ]
  },
  {
   "cell_type": "markdown",
   "id": "d78ab77a",
   "metadata": {
    "papermill": {
     "duration": 0.005615,
     "end_time": "2022-08-04T07:07:02.138725",
     "exception": false,
     "start_time": "2022-08-04T07:07:02.133110",
     "status": "completed"
    },
    "tags": []
   },
   "source": [
    "### Part B\n",
    "\n",
    "Set `predictions_1` to the model's predictions for the validation data.  Recall that the validation features are stored in `X_valid`."
   ]
  },
  {
   "cell_type": "code",
   "execution_count": 5,
   "id": "5291f90d",
   "metadata": {
    "execution": {
     "iopub.execute_input": "2022-08-04T07:07:02.152288Z",
     "iopub.status.busy": "2022-08-04T07:07:02.151682Z",
     "iopub.status.idle": "2022-08-04T07:07:02.173871Z",
     "shell.execute_reply": "2022-08-04T07:07:02.172946Z"
    },
    "papermill": {
     "duration": 0.031824,
     "end_time": "2022-08-04T07:07:02.176335",
     "exception": false,
     "start_time": "2022-08-04T07:07:02.144511",
     "status": "completed"
    },
    "tags": []
   },
   "outputs": [
    {
     "data": {
      "application/javascript": [
       "parent.postMessage({\"jupyterEvent\": \"custom.exercise_interaction\", \"data\": {\"outcomeType\": 1, \"valueTowardsCompletion\": 0.5, \"interactionType\": 1, \"questionType\": 2, \"questionId\": \"1.2_Model1B\", \"learnToolsVersion\": \"0.3.4\", \"failureMessage\": \"\", \"exceptionClass\": \"\", \"trace\": \"\"}}, \"*\")"
      ],
      "text/plain": [
       "<IPython.core.display.Javascript object>"
      ]
     },
     "metadata": {},
     "output_type": "display_data"
    },
    {
     "data": {
      "text/markdown": [
       "<span style=\"color:#33cc33\">Correct</span>"
      ],
      "text/plain": [
       "Correct"
      ]
     },
     "metadata": {},
     "output_type": "display_data"
    }
   ],
   "source": [
    "from sklearn.metrics import mean_absolute_error\n",
    "\n",
    "# Get predictions\n",
    "predictions_1 = my_model_1.predict(X_valid) # Your code here\n",
    "\n",
    "# Check your answer\n",
    "step_1.b.check()"
   ]
  },
  {
   "cell_type": "code",
   "execution_count": 6,
   "id": "0fe08949",
   "metadata": {
    "execution": {
     "iopub.execute_input": "2022-08-04T07:07:02.190696Z",
     "iopub.status.busy": "2022-08-04T07:07:02.190350Z",
     "iopub.status.idle": "2022-08-04T07:07:02.194901Z",
     "shell.execute_reply": "2022-08-04T07:07:02.193599Z"
    },
    "papermill": {
     "duration": 0.013695,
     "end_time": "2022-08-04T07:07:02.197089",
     "exception": false,
     "start_time": "2022-08-04T07:07:02.183394",
     "status": "completed"
    },
    "tags": []
   },
   "outputs": [],
   "source": [
    "# Lines below will give you a hint or solution code\n",
    "#step_1.b.hint()\n",
    "#step_1.b.solution()"
   ]
  },
  {
   "cell_type": "markdown",
   "id": "18be71dd",
   "metadata": {
    "papermill": {
     "duration": 0.005456,
     "end_time": "2022-08-04T07:07:02.208163",
     "exception": false,
     "start_time": "2022-08-04T07:07:02.202707",
     "status": "completed"
    },
    "tags": []
   },
   "source": [
    "### Part C\n",
    "\n",
    "Finally, use the `mean_absolute_error()` function to calculate the mean absolute error (MAE) corresponding to the predictions for the validation set.  Recall that the labels for the validation data are stored in `y_valid`."
   ]
  },
  {
   "cell_type": "code",
   "execution_count": 7,
   "id": "722a029b",
   "metadata": {
    "execution": {
     "iopub.execute_input": "2022-08-04T07:07:02.221271Z",
     "iopub.status.busy": "2022-08-04T07:07:02.220826Z",
     "iopub.status.idle": "2022-08-04T07:07:02.233615Z",
     "shell.execute_reply": "2022-08-04T07:07:02.232167Z"
    },
    "papermill": {
     "duration": 0.021981,
     "end_time": "2022-08-04T07:07:02.235797",
     "exception": false,
     "start_time": "2022-08-04T07:07:02.213816",
     "status": "completed"
    },
    "tags": []
   },
   "outputs": [
    {
     "name": "stdout",
     "output_type": "stream",
     "text": [
      "Mean Absolute Error: 17662.736729452055\n"
     ]
    },
    {
     "data": {
      "application/javascript": [
       "parent.postMessage({\"jupyterEvent\": \"custom.exercise_interaction\", \"data\": {\"outcomeType\": 1, \"valueTowardsCompletion\": 0.5, \"interactionType\": 1, \"questionType\": 2, \"questionId\": \"1.3_Model1C\", \"learnToolsVersion\": \"0.3.4\", \"failureMessage\": \"\", \"exceptionClass\": \"\", \"trace\": \"\"}}, \"*\")"
      ],
      "text/plain": [
       "<IPython.core.display.Javascript object>"
      ]
     },
     "metadata": {},
     "output_type": "display_data"
    },
    {
     "data": {
      "text/markdown": [
       "<span style=\"color:#33cc33\">Correct</span>"
      ],
      "text/plain": [
       "Correct"
      ]
     },
     "metadata": {},
     "output_type": "display_data"
    }
   ],
   "source": [
    "# Calculate MAE\n",
    "mae_1 = mean_absolute_error(y_valid, predictions_1) # Your code here\n",
    "\n",
    "# Uncomment to print MAE\n",
    "print(\"Mean Absolute Error:\" , mae_1)\n",
    "\n",
    "# Check your answer\n",
    "step_1.c.check()"
   ]
  },
  {
   "cell_type": "code",
   "execution_count": 8,
   "id": "5c5aa59c",
   "metadata": {
    "execution": {
     "iopub.execute_input": "2022-08-04T07:07:02.249651Z",
     "iopub.status.busy": "2022-08-04T07:07:02.248888Z",
     "iopub.status.idle": "2022-08-04T07:07:02.253145Z",
     "shell.execute_reply": "2022-08-04T07:07:02.252114Z"
    },
    "papermill": {
     "duration": 0.013533,
     "end_time": "2022-08-04T07:07:02.255115",
     "exception": false,
     "start_time": "2022-08-04T07:07:02.241582",
     "status": "completed"
    },
    "tags": []
   },
   "outputs": [],
   "source": [
    "# Lines below will give you a hint or solution code\n",
    "#step_1.c.hint()\n",
    "#step_1.c.solution()"
   ]
  },
  {
   "cell_type": "markdown",
   "id": "17963635",
   "metadata": {
    "papermill": {
     "duration": 0.006228,
     "end_time": "2022-08-04T07:07:02.267065",
     "exception": false,
     "start_time": "2022-08-04T07:07:02.260837",
     "status": "completed"
    },
    "tags": []
   },
   "source": [
    "# Step 2: Improve the model\n",
    "\n",
    "Now that you've trained a default model as baseline, it's time to tinker with the parameters, to see if you can get better performance!\n",
    "- Begin by setting `my_model_2` to an XGBoost model, using the [XGBRegressor](https://xgboost.readthedocs.io/en/latest/python/python_api.html#xgboost.XGBRegressor) class.  Use what you learned in the previous tutorial to figure out how to change the default parameters (like `n_estimators` and `learning_rate`) to get better results.\n",
    "- Then, fit the model to the training data in `X_train` and `y_train`.\n",
    "- Set `predictions_2` to the model's predictions for the validation data.  Recall that the validation features are stored in `X_valid`.\n",
    "- Finally, use the `mean_absolute_error()` function to calculate the mean absolute error (MAE) corresponding to the predictions on the validation set.  Recall that the labels for the validation data are stored in `y_valid`.\n",
    "\n",
    "In order for this step to be marked correct, your model in `my_model_2` must attain lower MAE than the model in `my_model_1`. "
   ]
  },
  {
   "cell_type": "code",
   "execution_count": 9,
   "id": "21385c57",
   "metadata": {
    "execution": {
     "iopub.execute_input": "2022-08-04T07:07:02.280778Z",
     "iopub.status.busy": "2022-08-04T07:07:02.280007Z",
     "iopub.status.idle": "2022-08-04T07:07:13.073505Z",
     "shell.execute_reply": "2022-08-04T07:07:13.072010Z"
    },
    "papermill": {
     "duration": 10.80362,
     "end_time": "2022-08-04T07:07:13.076260",
     "exception": false,
     "start_time": "2022-08-04T07:07:02.272640",
     "status": "completed"
    },
    "tags": []
   },
   "outputs": [
    {
     "name": "stdout",
     "output_type": "stream",
     "text": [
      "Mean Absolute Error: 16913.731043985445\n"
     ]
    },
    {
     "data": {
      "application/javascript": [
       "parent.postMessage({\"jupyterEvent\": \"custom.exercise_interaction\", \"data\": {\"outcomeType\": 1, \"valueTowardsCompletion\": 0.5, \"interactionType\": 1, \"questionType\": 2, \"questionId\": \"2_Model2\", \"learnToolsVersion\": \"0.3.4\", \"failureMessage\": \"\", \"exceptionClass\": \"\", \"trace\": \"\"}}, \"*\")"
      ],
      "text/plain": [
       "<IPython.core.display.Javascript object>"
      ]
     },
     "metadata": {},
     "output_type": "display_data"
    },
    {
     "data": {
      "text/markdown": [
       "<span style=\"color:#33cc33\">Correct</span>"
      ],
      "text/plain": [
       "Correct"
      ]
     },
     "metadata": {},
     "output_type": "display_data"
    }
   ],
   "source": [
    "# Define the model\n",
    "my_model_2 = XGBRegressor(n_estimators=1000, learning_rate=0.01, n_jobs=-1) # Your code here\n",
    "\n",
    "# Fit the model\n",
    "my_model_2.fit(X_train, y_train) # Your code here\n",
    "\n",
    "# Get predictions\n",
    "predictions_2 = my_model_2.predict(X_valid) # Your code here\n",
    "\n",
    "# Calculate MAE\n",
    "mae_2 = mean_absolute_error(y_valid, predictions_2) # Your code here\n",
    "\n",
    "# Uncomment to print MAE\n",
    "print(\"Mean Absolute Error:\" , mae_2)\n",
    "\n",
    "# Check your answer\n",
    "step_2.check()"
   ]
  },
  {
   "cell_type": "code",
   "execution_count": 10,
   "id": "0445d867",
   "metadata": {
    "execution": {
     "iopub.execute_input": "2022-08-04T07:07:13.091728Z",
     "iopub.status.busy": "2022-08-04T07:07:13.091355Z",
     "iopub.status.idle": "2022-08-04T07:07:13.096421Z",
     "shell.execute_reply": "2022-08-04T07:07:13.095202Z"
    },
    "papermill": {
     "duration": 0.01554,
     "end_time": "2022-08-04T07:07:13.099033",
     "exception": false,
     "start_time": "2022-08-04T07:07:13.083493",
     "status": "completed"
    },
    "tags": []
   },
   "outputs": [],
   "source": [
    "# Lines below will give you a hint or solution code\n",
    "#step_2.hint()\n",
    "#step_2.solution()"
   ]
  },
  {
   "cell_type": "markdown",
   "id": "bda354cc",
   "metadata": {
    "papermill": {
     "duration": 0.005953,
     "end_time": "2022-08-04T07:07:13.111625",
     "exception": false,
     "start_time": "2022-08-04T07:07:13.105672",
     "status": "completed"
    },
    "tags": []
   },
   "source": [
    "# Step 3: Break the model\n",
    "\n",
    "In this step, you will create a model that performs worse than the original model in Step 1.  This will help you to develop your intuition for how to set parameters.  You might even find that you accidentally get better performance, which is ultimately a nice problem to have and a valuable learning experience!\n",
    "- Begin by setting `my_model_3` to an XGBoost model, using the [XGBRegressor](https://xgboost.readthedocs.io/en/latest/python/python_api.html#xgboost.XGBRegressor) class.  Use what you learned in the previous tutorial to figure out how to change the default parameters (like `n_estimators` and `learning_rate`) to design a model to get high MAE.\n",
    "- Then, fit the model to the training data in `X_train` and `y_train`.\n",
    "- Set `predictions_3` to the model's predictions for the validation data.  Recall that the validation features are stored in `X_valid`.\n",
    "- Finally, use the `mean_absolute_error()` function to calculate the mean absolute error (MAE) corresponding to the predictions on the validation set.  Recall that the labels for the validation data are stored in `y_valid`.\n",
    "\n",
    "In order for this step to be marked correct, your model in `my_model_3` must attain higher MAE than the model in `my_model_1`. "
   ]
  },
  {
   "cell_type": "code",
   "execution_count": 11,
   "id": "9e6d4739",
   "metadata": {
    "execution": {
     "iopub.execute_input": "2022-08-04T07:07:13.126508Z",
     "iopub.status.busy": "2022-08-04T07:07:13.125497Z",
     "iopub.status.idle": "2022-08-04T07:07:15.608146Z",
     "shell.execute_reply": "2022-08-04T07:07:15.606881Z"
    },
    "papermill": {
     "duration": 2.493227,
     "end_time": "2022-08-04T07:07:15.611114",
     "exception": false,
     "start_time": "2022-08-04T07:07:13.117887",
     "status": "completed"
    },
    "tags": []
   },
   "outputs": [
    {
     "name": "stdout",
     "output_type": "stream",
     "text": [
      "Mean Absolute Error: 27386.61764233733\n"
     ]
    },
    {
     "data": {
      "application/javascript": [
       "parent.postMessage({\"jupyterEvent\": \"custom.exercise_interaction\", \"data\": {\"outcomeType\": 1, \"valueTowardsCompletion\": 0.5, \"interactionType\": 1, \"questionType\": 2, \"questionId\": \"3_Model3\", \"learnToolsVersion\": \"0.3.4\", \"failureMessage\": \"\", \"exceptionClass\": \"\", \"trace\": \"\"}}, \"*\")"
      ],
      "text/plain": [
       "<IPython.core.display.Javascript object>"
      ]
     },
     "metadata": {},
     "output_type": "display_data"
    },
    {
     "data": {
      "text/markdown": [
       "<span style=\"color:#33cc33\">Correct</span>"
      ],
      "text/plain": [
       "Correct"
      ]
     },
     "metadata": {},
     "output_type": "display_data"
    }
   ],
   "source": [
    "# Define the model\n",
    "my_model_3 = XGBRegressor(n_estimators=300, learning_rate=1, random_state=42, eval_metric=mean_absolute_error, n_jobs=-1)\n",
    "\n",
    "# Fit the model\n",
    "# Your code here\n",
    "my_model_3.fit(X_train, y_train)\n",
    "# Get predictions\n",
    "predictions_3 = my_model_3.predict(X_valid)\n",
    "\n",
    "# Calculate MAE\n",
    "mae_3 = mean_absolute_error(y_valid, predictions_3)\n",
    "\n",
    "# Uncomment to print MAE\n",
    "print(\"Mean Absolute Error:\" , mae_3)\n",
    "\n",
    "# Check your answer\n",
    "step_3.check()"
   ]
  },
  {
   "cell_type": "code",
   "execution_count": 12,
   "id": "6355020c",
   "metadata": {
    "execution": {
     "iopub.execute_input": "2022-08-04T07:07:15.627885Z",
     "iopub.status.busy": "2022-08-04T07:07:15.627391Z",
     "iopub.status.idle": "2022-08-04T07:07:15.632449Z",
     "shell.execute_reply": "2022-08-04T07:07:15.631185Z"
    },
    "papermill": {
     "duration": 0.015703,
     "end_time": "2022-08-04T07:07:15.634699",
     "exception": false,
     "start_time": "2022-08-04T07:07:15.618996",
     "status": "completed"
    },
    "tags": []
   },
   "outputs": [],
   "source": [
    "# Lines below will give you a hint or solution code\n",
    "#step_3.hint()\n",
    "#step_3.solution()"
   ]
  },
  {
   "cell_type": "markdown",
   "id": "eb3d43dd",
   "metadata": {
    "papermill": {
     "duration": 0.006293,
     "end_time": "2022-08-04T07:07:15.647667",
     "exception": false,
     "start_time": "2022-08-04T07:07:15.641374",
     "status": "completed"
    },
    "tags": []
   },
   "source": [
    "# Keep going\n",
    "\n",
    "Continue to learn about **[data leakage](https://www.kaggle.com/alexisbcook/data-leakage)**.  This is an important issue for a data scientist to understand, and it has the potential to ruin your models in subtle and dangerous ways!"
   ]
  },
  {
   "cell_type": "markdown",
   "id": "023b3cea",
   "metadata": {
    "papermill": {
     "duration": 0.006349,
     "end_time": "2022-08-04T07:07:15.660487",
     "exception": false,
     "start_time": "2022-08-04T07:07:15.654138",
     "status": "completed"
    },
    "tags": []
   },
   "source": [
    "---\n",
    "\n",
    "\n",
    "\n",
    "\n",
    "*Have questions or comments? Visit the [course discussion forum](https://www.kaggle.com/learn/intermediate-machine-learning/discussion) to chat with other learners.*"
   ]
  }
 ],
 "metadata": {
  "kernelspec": {
   "display_name": "Python 3",
   "language": "python",
   "name": "python3"
  },
  "language_info": {
   "codemirror_mode": {
    "name": "ipython",
    "version": 3
   },
   "file_extension": ".py",
   "mimetype": "text/x-python",
   "name": "python",
   "nbconvert_exporter": "python",
   "pygments_lexer": "ipython3",
   "version": "3.7.12"
  },
  "papermill": {
   "default_parameters": {},
   "duration": 27.136303,
   "end_time": "2022-08-04T07:07:16.489894",
   "environment_variables": {},
   "exception": null,
   "input_path": "__notebook__.ipynb",
   "output_path": "__notebook__.ipynb",
   "parameters": {},
   "start_time": "2022-08-04T07:06:49.353591",
   "version": "2.3.4"
  }
 },
 "nbformat": 4,
 "nbformat_minor": 5
}
