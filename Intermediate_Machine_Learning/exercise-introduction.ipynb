{
 "cells": [
  {
   "cell_type": "markdown",
   "id": "e2d9e866",
   "metadata": {
    "papermill": {
     "duration": 0.005611,
     "end_time": "2022-08-03T17:43:38.977476",
     "exception": false,
     "start_time": "2022-08-03T17:43:38.971865",
     "status": "completed"
    },
    "tags": []
   },
   "source": [
    "**This notebook is an exercise in the [Intermediate Machine Learning](https://www.kaggle.com/learn/intermediate-machine-learning) course.  You can reference the tutorial at [this link](https://www.kaggle.com/alexisbcook/introduction).**\n",
    "\n",
    "---\n"
   ]
  },
  {
   "cell_type": "markdown",
   "id": "60599b70",
   "metadata": {
    "papermill": {
     "duration": 0.004192,
     "end_time": "2022-08-03T17:43:38.986093",
     "exception": false,
     "start_time": "2022-08-03T17:43:38.981901",
     "status": "completed"
    },
    "tags": []
   },
   "source": [
    "As a warm-up, you'll review some machine learning fundamentals and submit your initial results to a Kaggle competition.\n",
    "\n",
    "# Setup\n",
    "\n",
    "The questions below will give you feedback on your work. Run the following cell to set up the feedback system."
   ]
  },
  {
   "cell_type": "code",
   "execution_count": 1,
   "id": "76124ea4",
   "metadata": {
    "execution": {
     "iopub.execute_input": "2022-08-03T17:43:38.997518Z",
     "iopub.status.busy": "2022-08-03T17:43:38.996592Z",
     "iopub.status.idle": "2022-08-03T17:43:40.162279Z",
     "shell.execute_reply": "2022-08-03T17:43:40.161207Z"
    },
    "papermill": {
     "duration": 1.174034,
     "end_time": "2022-08-03T17:43:40.164596",
     "exception": false,
     "start_time": "2022-08-03T17:43:38.990562",
     "status": "completed"
    },
    "tags": []
   },
   "outputs": [
    {
     "name": "stdout",
     "output_type": "stream",
     "text": [
      "Setup Complete\n"
     ]
    }
   ],
   "source": [
    "# Set up code checking\n",
    "import os\n",
    "if not os.path.exists(\"../input/train.csv\"):\n",
    "    os.symlink(\"../input/home-data-for-ml-course/train.csv\", \"../input/train.csv\")  \n",
    "    os.symlink(\"../input/home-data-for-ml-course/test.csv\", \"../input/test.csv\")  \n",
    "from learntools.core import binder\n",
    "binder.bind(globals())\n",
    "from learntools.ml_intermediate.ex1 import *\n",
    "print(\"Setup Complete\")"
   ]
  },
  {
   "cell_type": "markdown",
   "id": "8b5516fd",
   "metadata": {
    "papermill": {
     "duration": 0.003996,
     "end_time": "2022-08-03T17:43:40.173192",
     "exception": false,
     "start_time": "2022-08-03T17:43:40.169196",
     "status": "completed"
    },
    "tags": []
   },
   "source": [
    "You will work with data from the [Housing Prices Competition for Kaggle Learn Users](https://www.kaggle.com/c/home-data-for-ml-course) to predict home prices in Iowa using 79 explanatory variables describing (almost) every aspect of the homes.  \n",
    "\n",
    "![Ames Housing dataset image](https://i.imgur.com/lTJVG4e.png)\n",
    "\n",
    "Run the next code cell without changes to load the training and validation features in `X_train` and `X_valid`, along with the prediction targets in `y_train` and `y_valid`.  The test features are loaded in `X_test`.  (_If you need to review **features** and **prediction targets**, please check out [this short tutorial](https://www.kaggle.com/dansbecker/your-first-machine-learning-model).  To read about model **validation**, look [here](https://www.kaggle.com/dansbecker/model-validation).  Alternatively, if you'd prefer to look through a full course to review all of these topics, start [here](https://www.kaggle.com/learn/machine-learning).)_"
   ]
  },
  {
   "cell_type": "code",
   "execution_count": 2,
   "id": "6ec4cb0c",
   "metadata": {
    "execution": {
     "iopub.execute_input": "2022-08-03T17:43:40.183170Z",
     "iopub.status.busy": "2022-08-03T17:43:40.182569Z",
     "iopub.status.idle": "2022-08-03T17:43:40.260906Z",
     "shell.execute_reply": "2022-08-03T17:43:40.259911Z"
    },
    "papermill": {
     "duration": 0.085756,
     "end_time": "2022-08-03T17:43:40.263133",
     "exception": false,
     "start_time": "2022-08-03T17:43:40.177377",
     "status": "completed"
    },
    "tags": []
   },
   "outputs": [],
   "source": [
    "import pandas as pd\n",
    "from sklearn.model_selection import train_test_split\n",
    "\n",
    "# Read the data\n",
    "X_full = pd.read_csv('../input/train.csv', index_col='Id')\n",
    "X_test_full = pd.read_csv('../input/test.csv', index_col='Id')\n",
    "\n",
    "# Obtain target and predictors\n",
    "y = X_full.SalePrice\n",
    "features = ['LotArea', 'YearBuilt', '1stFlrSF', '2ndFlrSF', 'FullBath', 'BedroomAbvGr', 'TotRmsAbvGrd']\n",
    "X = X_full[features].copy()\n",
    "X_test = X_test_full[features].copy()\n",
    "\n",
    "# Break off validation set from training data\n",
    "X_train, X_valid, y_train, y_valid = train_test_split(X, y, train_size=0.8, test_size=0.2,\n",
    "                                                      random_state=0)"
   ]
  },
  {
   "cell_type": "markdown",
   "id": "561495fa",
   "metadata": {
    "papermill": {
     "duration": 0.003943,
     "end_time": "2022-08-03T17:43:40.271527",
     "exception": false,
     "start_time": "2022-08-03T17:43:40.267584",
     "status": "completed"
    },
    "tags": []
   },
   "source": [
    "Use the next cell to print the first several rows of the data. It's a nice way to get an overview of the data you will use in your price prediction model."
   ]
  },
  {
   "cell_type": "code",
   "execution_count": 3,
   "id": "7d63f9bf",
   "metadata": {
    "execution": {
     "iopub.execute_input": "2022-08-03T17:43:40.281450Z",
     "iopub.status.busy": "2022-08-03T17:43:40.280898Z",
     "iopub.status.idle": "2022-08-03T17:43:40.294336Z",
     "shell.execute_reply": "2022-08-03T17:43:40.293567Z"
    },
    "papermill": {
     "duration": 0.021291,
     "end_time": "2022-08-03T17:43:40.296911",
     "exception": false,
     "start_time": "2022-08-03T17:43:40.275620",
     "status": "completed"
    },
    "tags": []
   },
   "outputs": [
    {
     "data": {
      "text/html": [
       "<div>\n",
       "<style scoped>\n",
       "    .dataframe tbody tr th:only-of-type {\n",
       "        vertical-align: middle;\n",
       "    }\n",
       "\n",
       "    .dataframe tbody tr th {\n",
       "        vertical-align: top;\n",
       "    }\n",
       "\n",
       "    .dataframe thead th {\n",
       "        text-align: right;\n",
       "    }\n",
       "</style>\n",
       "<table border=\"1\" class=\"dataframe\">\n",
       "  <thead>\n",
       "    <tr style=\"text-align: right;\">\n",
       "      <th></th>\n",
       "      <th>LotArea</th>\n",
       "      <th>YearBuilt</th>\n",
       "      <th>1stFlrSF</th>\n",
       "      <th>2ndFlrSF</th>\n",
       "      <th>FullBath</th>\n",
       "      <th>BedroomAbvGr</th>\n",
       "      <th>TotRmsAbvGrd</th>\n",
       "    </tr>\n",
       "    <tr>\n",
       "      <th>Id</th>\n",
       "      <th></th>\n",
       "      <th></th>\n",
       "      <th></th>\n",
       "      <th></th>\n",
       "      <th></th>\n",
       "      <th></th>\n",
       "      <th></th>\n",
       "    </tr>\n",
       "  </thead>\n",
       "  <tbody>\n",
       "    <tr>\n",
       "      <th>619</th>\n",
       "      <td>11694</td>\n",
       "      <td>2007</td>\n",
       "      <td>1828</td>\n",
       "      <td>0</td>\n",
       "      <td>2</td>\n",
       "      <td>3</td>\n",
       "      <td>9</td>\n",
       "    </tr>\n",
       "    <tr>\n",
       "      <th>871</th>\n",
       "      <td>6600</td>\n",
       "      <td>1962</td>\n",
       "      <td>894</td>\n",
       "      <td>0</td>\n",
       "      <td>1</td>\n",
       "      <td>2</td>\n",
       "      <td>5</td>\n",
       "    </tr>\n",
       "    <tr>\n",
       "      <th>93</th>\n",
       "      <td>13360</td>\n",
       "      <td>1921</td>\n",
       "      <td>964</td>\n",
       "      <td>0</td>\n",
       "      <td>1</td>\n",
       "      <td>2</td>\n",
       "      <td>5</td>\n",
       "    </tr>\n",
       "    <tr>\n",
       "      <th>818</th>\n",
       "      <td>13265</td>\n",
       "      <td>2002</td>\n",
       "      <td>1689</td>\n",
       "      <td>0</td>\n",
       "      <td>2</td>\n",
       "      <td>3</td>\n",
       "      <td>7</td>\n",
       "    </tr>\n",
       "    <tr>\n",
       "      <th>303</th>\n",
       "      <td>13704</td>\n",
       "      <td>2001</td>\n",
       "      <td>1541</td>\n",
       "      <td>0</td>\n",
       "      <td>2</td>\n",
       "      <td>3</td>\n",
       "      <td>6</td>\n",
       "    </tr>\n",
       "  </tbody>\n",
       "</table>\n",
       "</div>"
      ],
      "text/plain": [
       "     LotArea  YearBuilt  1stFlrSF  2ndFlrSF  FullBath  BedroomAbvGr  \\\n",
       "Id                                                                    \n",
       "619    11694       2007      1828         0         2             3   \n",
       "871     6600       1962       894         0         1             2   \n",
       "93     13360       1921       964         0         1             2   \n",
       "818    13265       2002      1689         0         2             3   \n",
       "303    13704       2001      1541         0         2             3   \n",
       "\n",
       "     TotRmsAbvGrd  \n",
       "Id                 \n",
       "619             9  \n",
       "871             5  \n",
       "93              5  \n",
       "818             7  \n",
       "303             6  "
      ]
     },
     "execution_count": 3,
     "metadata": {},
     "output_type": "execute_result"
    }
   ],
   "source": [
    "X_train.head()"
   ]
  },
  {
   "cell_type": "markdown",
   "id": "0bcbeb9f",
   "metadata": {
    "papermill": {
     "duration": 0.006003,
     "end_time": "2022-08-03T17:43:40.308913",
     "exception": false,
     "start_time": "2022-08-03T17:43:40.302910",
     "status": "completed"
    },
    "tags": []
   },
   "source": [
    "The next code cell defines five different random forest models.  Run this code cell without changes.  (_To review **random forests**, look [here](https://www.kaggle.com/dansbecker/random-forests)._)"
   ]
  },
  {
   "cell_type": "code",
   "execution_count": 4,
   "id": "b258b2d5",
   "metadata": {
    "execution": {
     "iopub.execute_input": "2022-08-03T17:43:40.320282Z",
     "iopub.status.busy": "2022-08-03T17:43:40.319482Z",
     "iopub.status.idle": "2022-08-03T17:43:40.328283Z",
     "shell.execute_reply": "2022-08-03T17:43:40.327431Z"
    },
    "papermill": {
     "duration": 0.017747,
     "end_time": "2022-08-03T17:43:40.331183",
     "exception": false,
     "start_time": "2022-08-03T17:43:40.313436",
     "status": "completed"
    },
    "tags": []
   },
   "outputs": [],
   "source": [
    "from sklearn.ensemble import RandomForestRegressor\n",
    "\n",
    "# Define the models\n",
    "model_1 = RandomForestRegressor(n_estimators=50, random_state=0)\n",
    "model_2 = RandomForestRegressor(n_estimators=100, random_state=0)\n",
    "model_3 = RandomForestRegressor(n_estimators=100, criterion='absolute_error', random_state=0)\n",
    "model_4 = RandomForestRegressor(n_estimators=200, min_samples_split=20, random_state=0)\n",
    "model_5 = RandomForestRegressor(n_estimators=100, max_depth=7, random_state=0)\n",
    "\n",
    "models = [model_1, model_2, model_3, model_4, model_5]"
   ]
  },
  {
   "cell_type": "markdown",
   "id": "7233fd86",
   "metadata": {
    "papermill": {
     "duration": 0.00593,
     "end_time": "2022-08-03T17:43:40.341893",
     "exception": false,
     "start_time": "2022-08-03T17:43:40.335963",
     "status": "completed"
    },
    "tags": []
   },
   "source": [
    "To select the best model out of the five, we define a function `score_model()` below.  This function returns the mean absolute error (MAE) from the validation set.  Recall that the best model will obtain the lowest MAE.  (_To review **mean absolute error**, look [here](https://www.kaggle.com/dansbecker/model-validation).)_\n",
    "\n",
    "Run the code cell without changes."
   ]
  },
  {
   "cell_type": "code",
   "execution_count": 5,
   "id": "c94f7947",
   "metadata": {
    "execution": {
     "iopub.execute_input": "2022-08-03T17:43:40.355042Z",
     "iopub.status.busy": "2022-08-03T17:43:40.354472Z",
     "iopub.status.idle": "2022-08-03T17:43:44.365687Z",
     "shell.execute_reply": "2022-08-03T17:43:44.364396Z"
    },
    "papermill": {
     "duration": 4.020947,
     "end_time": "2022-08-03T17:43:44.369167",
     "exception": false,
     "start_time": "2022-08-03T17:43:40.348220",
     "status": "completed"
    },
    "tags": []
   },
   "outputs": [
    {
     "name": "stdout",
     "output_type": "stream",
     "text": [
      "Model 1 MAE: 24015\n",
      "Model 2 MAE: 23740\n",
      "Model 3 MAE: 23528\n",
      "Model 4 MAE: 23996\n",
      "Model 5 MAE: 23706\n"
     ]
    }
   ],
   "source": [
    "from sklearn.metrics import mean_absolute_error\n",
    "\n",
    "# Function for comparing different models\n",
    "def score_model(model, X_t=X_train, X_v=X_valid, y_t=y_train, y_v=y_valid):\n",
    "    model.fit(X_t, y_t)\n",
    "    preds = model.predict(X_v)\n",
    "    return mean_absolute_error(y_v, preds)\n",
    "\n",
    "for i in range(0, len(models)):\n",
    "    mae = score_model(models[i])\n",
    "    print(\"Model %d MAE: %d\" % (i+1, mae))"
   ]
  },
  {
   "cell_type": "markdown",
   "id": "f671ec3f",
   "metadata": {
    "papermill": {
     "duration": 0.004792,
     "end_time": "2022-08-03T17:43:44.379143",
     "exception": false,
     "start_time": "2022-08-03T17:43:44.374351",
     "status": "completed"
    },
    "tags": []
   },
   "source": [
    "# Step 1: Evaluate several models\n",
    "\n",
    "Use the above results to fill in the line below.  Which model is the best model?  Your answer should be one of `model_1`, `model_2`, `model_3`, `model_4`, or `model_5`."
   ]
  },
  {
   "cell_type": "code",
   "execution_count": 6,
   "id": "a31ade2f",
   "metadata": {
    "execution": {
     "iopub.execute_input": "2022-08-03T17:43:44.389964Z",
     "iopub.status.busy": "2022-08-03T17:43:44.389366Z",
     "iopub.status.idle": "2022-08-03T17:43:44.397883Z",
     "shell.execute_reply": "2022-08-03T17:43:44.396793Z"
    },
    "papermill": {
     "duration": 0.016522,
     "end_time": "2022-08-03T17:43:44.400385",
     "exception": false,
     "start_time": "2022-08-03T17:43:44.383863",
     "status": "completed"
    },
    "tags": []
   },
   "outputs": [
    {
     "data": {
      "application/javascript": [
       "parent.postMessage({\"jupyterEvent\": \"custom.exercise_interaction\", \"data\": {\"outcomeType\": 1, \"valueTowardsCompletion\": 0.5, \"interactionType\": 1, \"questionType\": 2, \"questionId\": \"1_BestModel\", \"learnToolsVersion\": \"0.3.4\", \"failureMessage\": \"\", \"exceptionClass\": \"\", \"trace\": \"\"}}, \"*\")"
      ],
      "text/plain": [
       "<IPython.core.display.Javascript object>"
      ]
     },
     "metadata": {},
     "output_type": "display_data"
    },
    {
     "data": {
      "text/markdown": [
       "<span style=\"color:#33cc33\">Correct</span>"
      ],
      "text/plain": [
       "Correct"
      ]
     },
     "metadata": {},
     "output_type": "display_data"
    }
   ],
   "source": [
    "# Fill in the best model\n",
    "best_model = model_3\n",
    "\n",
    "# Check your answer\n",
    "step_1.check()"
   ]
  },
  {
   "cell_type": "code",
   "execution_count": 7,
   "id": "80e73b54",
   "metadata": {
    "execution": {
     "iopub.execute_input": "2022-08-03T17:43:44.411582Z",
     "iopub.status.busy": "2022-08-03T17:43:44.410725Z",
     "iopub.status.idle": "2022-08-03T17:43:44.414749Z",
     "shell.execute_reply": "2022-08-03T17:43:44.414102Z"
    },
    "papermill": {
     "duration": 0.011344,
     "end_time": "2022-08-03T17:43:44.416584",
     "exception": false,
     "start_time": "2022-08-03T17:43:44.405240",
     "status": "completed"
    },
    "tags": []
   },
   "outputs": [],
   "source": [
    "# Lines below will give you a hint or solution code\n",
    "#step_1.hint()\n",
    "#step_1.solution()"
   ]
  },
  {
   "cell_type": "markdown",
   "id": "a1cb38a2",
   "metadata": {
    "papermill": {
     "duration": 0.004336,
     "end_time": "2022-08-03T17:43:44.425501",
     "exception": false,
     "start_time": "2022-08-03T17:43:44.421165",
     "status": "completed"
    },
    "tags": []
   },
   "source": [
    "# Step 2: Generate test predictions\n",
    "\n",
    "Great. You know how to evaluate what makes an accurate model. Now it's time to go through the modeling process and make predictions. In the line below, create a Random Forest model with the variable name `my_model`."
   ]
  },
  {
   "cell_type": "code",
   "execution_count": 8,
   "id": "72b2c2f3",
   "metadata": {
    "execution": {
     "iopub.execute_input": "2022-08-03T17:43:44.437024Z",
     "iopub.status.busy": "2022-08-03T17:43:44.436512Z",
     "iopub.status.idle": "2022-08-03T17:43:44.444287Z",
     "shell.execute_reply": "2022-08-03T17:43:44.443602Z"
    },
    "papermill": {
     "duration": 0.016095,
     "end_time": "2022-08-03T17:43:44.446223",
     "exception": false,
     "start_time": "2022-08-03T17:43:44.430128",
     "status": "completed"
    },
    "tags": []
   },
   "outputs": [
    {
     "data": {
      "application/javascript": [
       "parent.postMessage({\"jupyterEvent\": \"custom.exercise_interaction\", \"data\": {\"outcomeType\": 1, \"valueTowardsCompletion\": 0.5, \"interactionType\": 1, \"questionType\": 2, \"questionId\": \"2_Predictions\", \"learnToolsVersion\": \"0.3.4\", \"failureMessage\": \"\", \"exceptionClass\": \"\", \"trace\": \"\"}}, \"*\")"
      ],
      "text/plain": [
       "<IPython.core.display.Javascript object>"
      ]
     },
     "metadata": {},
     "output_type": "display_data"
    },
    {
     "data": {
      "text/markdown": [
       "<span style=\"color:#33cc33\">Correct</span>"
      ],
      "text/plain": [
       "Correct"
      ]
     },
     "metadata": {},
     "output_type": "display_data"
    }
   ],
   "source": [
    "# Define a model\n",
    "my_model = RandomForestRegressor(criterion='absolute_error', random_state=42)\n",
    "\n",
    "# Check your answer\n",
    "step_2.check()"
   ]
  },
  {
   "cell_type": "code",
   "execution_count": 9,
   "id": "d4c0a980",
   "metadata": {
    "execution": {
     "iopub.execute_input": "2022-08-03T17:43:44.457829Z",
     "iopub.status.busy": "2022-08-03T17:43:44.457374Z",
     "iopub.status.idle": "2022-08-03T17:43:44.460953Z",
     "shell.execute_reply": "2022-08-03T17:43:44.460274Z"
    },
    "papermill": {
     "duration": 0.011249,
     "end_time": "2022-08-03T17:43:44.462692",
     "exception": false,
     "start_time": "2022-08-03T17:43:44.451443",
     "status": "completed"
    },
    "tags": []
   },
   "outputs": [],
   "source": [
    "# Lines below will give you a hint or solution code\n",
    "#step_2.hint()\n",
    "#step_2.solution()"
   ]
  },
  {
   "cell_type": "markdown",
   "id": "d78962d2",
   "metadata": {
    "papermill": {
     "duration": 0.004696,
     "end_time": "2022-08-03T17:43:44.472350",
     "exception": false,
     "start_time": "2022-08-03T17:43:44.467654",
     "status": "completed"
    },
    "tags": []
   },
   "source": [
    "Run the next code cell without changes.  The code fits the model to the training and validation data, and then generates test predictions that are saved to a CSV file.  These test predictions can be submitted directly to the competition!"
   ]
  },
  {
   "cell_type": "code",
   "execution_count": 10,
   "id": "60bec153",
   "metadata": {
    "execution": {
     "iopub.execute_input": "2022-08-03T17:43:44.484176Z",
     "iopub.status.busy": "2022-08-03T17:43:44.483724Z",
     "iopub.status.idle": "2022-08-03T17:43:47.971909Z",
     "shell.execute_reply": "2022-08-03T17:43:47.970947Z"
    },
    "papermill": {
     "duration": 3.496413,
     "end_time": "2022-08-03T17:43:47.974194",
     "exception": false,
     "start_time": "2022-08-03T17:43:44.477781",
     "status": "completed"
    },
    "tags": []
   },
   "outputs": [],
   "source": [
    "# Fit the model to the training data\n",
    "my_model.fit(X, y)\n",
    "\n",
    "# Generate test predictions\n",
    "preds_test = my_model.predict(X_test)\n",
    "\n",
    "# Save predictions in format used for competition scoring\n",
    "output = pd.DataFrame({'Id': X_test.index,\n",
    "                       'SalePrice': preds_test})\n",
    "output.to_csv('submission.csv', index=False)"
   ]
  },
  {
   "cell_type": "markdown",
   "id": "3da83271",
   "metadata": {
    "papermill": {
     "duration": 0.005089,
     "end_time": "2022-08-03T17:43:47.984698",
     "exception": false,
     "start_time": "2022-08-03T17:43:47.979609",
     "status": "completed"
    },
    "tags": []
   },
   "source": [
    "# Submit your results\n",
    "\n",
    "Once you have successfully completed Step 2, you're ready to submit your results to the leaderboard!  First, you'll need to join the competition if you haven't already.  So open a new window by clicking on [this link](https://www.kaggle.com/c/home-data-for-ml-course).  Then click on the **Join Competition** button.  _(If you see a \"Submit Predictions\" button instead of a \"Join Competition\" button, you have already joined the competition, and don't need to do so again.)_\n",
    "\n",
    "Next, follow the instructions below:\n",
    "1. Begin by clicking on the **Save Version** button in the top right corner of the window.  This will generate a pop-up window.  \n",
    "2. Ensure that the **Save and Run All** option is selected, and then click on the **Save** button.\n",
    "3. This generates a window in the bottom left corner of the notebook.  After it has finished running, click on the number to the right of the **Save Version** button.  This pulls up a list of versions on the right of the screen.  Click on the ellipsis **(...)** to the right of the most recent version, and select **Open in Viewer**.  This brings you into view mode of the same page. You will need to scroll down to get back to these instructions.\n",
    "4. Click on the **Output** tab on the right of the screen.  Then, click on the file you would like to submit, and click on the **Submit** button to submit your results to the leaderboard.\n",
    "\n",
    "You have now successfully submitted to the competition!\n",
    "\n",
    "If you want to keep working to improve your performance, select the **Edit** button in the top right of the screen. Then you can change your code and repeat the process. There's a lot of room to improve, and you will climb up the leaderboard as you work.\n"
   ]
  },
  {
   "cell_type": "markdown",
   "id": "e548fcba",
   "metadata": {
    "papermill": {
     "duration": 0.004783,
     "end_time": "2022-08-03T17:43:47.994579",
     "exception": false,
     "start_time": "2022-08-03T17:43:47.989796",
     "status": "completed"
    },
    "tags": []
   },
   "source": [
    "# Keep going\n",
    "\n",
    "You've made your first model. But how can you quickly make it better?\n",
    "\n",
    "Learn how to improve your competition results by incorporating columns with **[missing values](https://www.kaggle.com/alexisbcook/missing-values)**."
   ]
  },
  {
   "cell_type": "markdown",
   "id": "d5b98192",
   "metadata": {
    "papermill": {
     "duration": 0.004962,
     "end_time": "2022-08-03T17:43:48.004775",
     "exception": false,
     "start_time": "2022-08-03T17:43:47.999813",
     "status": "completed"
    },
    "tags": []
   },
   "source": [
    "---\n",
    "\n",
    "\n",
    "\n",
    "\n",
    "*Have questions or comments? Visit the [course discussion forum](https://www.kaggle.com/learn/intermediate-machine-learning/discussion) to chat with other learners.*"
   ]
  }
 ],
 "metadata": {
  "kernelspec": {
   "display_name": "Python 3",
   "language": "python",
   "name": "python3"
  },
  "language_info": {
   "codemirror_mode": {
    "name": "ipython",
    "version": 3
   },
   "file_extension": ".py",
   "mimetype": "text/x-python",
   "name": "python",
   "nbconvert_exporter": "python",
   "pygments_lexer": "ipython3",
   "version": "3.7.12"
  },
  "papermill": {
   "default_parameters": {},
   "duration": 17.480514,
   "end_time": "2022-08-03T17:43:48.528371",
   "environment_variables": {},
   "exception": null,
   "input_path": "__notebook__.ipynb",
   "output_path": "__notebook__.ipynb",
   "parameters": {},
   "start_time": "2022-08-03T17:43:31.047857",
   "version": "2.3.4"
  }
 },
 "nbformat": 4,
 "nbformat_minor": 5
}
