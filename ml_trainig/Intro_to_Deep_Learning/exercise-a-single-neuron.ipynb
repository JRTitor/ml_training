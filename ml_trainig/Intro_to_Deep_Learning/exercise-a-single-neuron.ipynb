{
 "cells": [
  {
   "cell_type": "markdown",
   "id": "ef3c3d0c",
   "metadata": {
    "papermill": {
     "duration": 0.006805,
     "end_time": "2022-08-08T20:23:19.016631",
     "exception": false,
     "start_time": "2022-08-08T20:23:19.009826",
     "status": "completed"
    },
    "tags": []
   },
   "source": [
    "**This notebook is an exercise in the [Intro to Deep Learning](https://www.kaggle.com/learn/intro-to-deep-learning) course.  You can reference the tutorial at [this link](https://www.kaggle.com/ryanholbrook/a-single-neuron).**\n",
    "\n",
    "---\n"
   ]
  },
  {
   "cell_type": "markdown",
   "id": "92ade66d",
   "metadata": {
    "papermill": {
     "duration": 0.005213,
     "end_time": "2022-08-08T20:23:19.027391",
     "exception": false,
     "start_time": "2022-08-08T20:23:19.022178",
     "status": "completed"
    },
    "tags": []
   },
   "source": [
    "# Introduction #\n",
    "\n",
    "In the tutorial we learned about the building blocks of neural networks: *linear units*. We saw that a model of just one linear unit will fit a linear function to a dataset (equivalent to linear regression). In this exercise, you'll build a linear model and get some practice working with models in Keras.\n",
    "\n",
    "Before you get started, run the code cell below to set everything up."
   ]
  },
  {
   "cell_type": "code",
   "execution_count": 1,
   "id": "831a8a6a",
   "metadata": {
    "execution": {
     "iopub.execute_input": "2022-08-08T20:23:19.040251Z",
     "iopub.status.busy": "2022-08-08T20:23:19.039661Z",
     "iopub.status.idle": "2022-08-08T20:23:25.731553Z",
     "shell.execute_reply": "2022-08-08T20:23:25.730143Z"
    },
    "papermill": {
     "duration": 6.702143,
     "end_time": "2022-08-08T20:23:25.734850",
     "exception": false,
     "start_time": "2022-08-08T20:23:19.032707",
     "status": "completed"
    },
    "tags": []
   },
   "outputs": [],
   "source": [
    "# Setup plotting\n",
    "import matplotlib.pyplot as plt\n",
    "\n",
    "plt.style.use('seaborn-whitegrid')\n",
    "# Set Matplotlib defaults\n",
    "plt.rc('figure', autolayout=True)\n",
    "plt.rc('axes', labelweight='bold', labelsize='large',\n",
    "       titleweight='bold', titlesize=18, titlepad=10)\n",
    "\n",
    "# Setup feedback system\n",
    "from learntools.core import binder\n",
    "binder.bind(globals())\n",
    "from learntools.deep_learning_intro.ex1 import *"
   ]
  },
  {
   "cell_type": "markdown",
   "id": "33311b19",
   "metadata": {
    "papermill": {
     "duration": 0.004799,
     "end_time": "2022-08-08T20:23:25.744957",
     "exception": false,
     "start_time": "2022-08-08T20:23:25.740158",
     "status": "completed"
    },
    "tags": []
   },
   "source": [
    "The *Red Wine Quality* dataset consists of physiochemical measurements from about 1600 Portuguese red wines.  Also included is a quality rating for each wine from blind taste-tests. \n",
    "\n",
    "First, run the next cell to display the first few rows of this dataset."
   ]
  },
  {
   "cell_type": "code",
   "execution_count": 2,
   "id": "3d55a7ed",
   "metadata": {
    "execution": {
     "iopub.execute_input": "2022-08-08T20:23:25.757962Z",
     "iopub.status.busy": "2022-08-08T20:23:25.757119Z",
     "iopub.status.idle": "2022-08-08T20:23:25.812890Z",
     "shell.execute_reply": "2022-08-08T20:23:25.811643Z"
    },
    "papermill": {
     "duration": 0.066335,
     "end_time": "2022-08-08T20:23:25.816245",
     "exception": false,
     "start_time": "2022-08-08T20:23:25.749910",
     "status": "completed"
    },
    "tags": []
   },
   "outputs": [
    {
     "data": {
      "text/html": [
       "<div>\n",
       "<style scoped>\n",
       "    .dataframe tbody tr th:only-of-type {\n",
       "        vertical-align: middle;\n",
       "    }\n",
       "\n",
       "    .dataframe tbody tr th {\n",
       "        vertical-align: top;\n",
       "    }\n",
       "\n",
       "    .dataframe thead th {\n",
       "        text-align: right;\n",
       "    }\n",
       "</style>\n",
       "<table border=\"1\" class=\"dataframe\">\n",
       "  <thead>\n",
       "    <tr style=\"text-align: right;\">\n",
       "      <th></th>\n",
       "      <th>fixed acidity</th>\n",
       "      <th>volatile acidity</th>\n",
       "      <th>citric acid</th>\n",
       "      <th>residual sugar</th>\n",
       "      <th>chlorides</th>\n",
       "      <th>free sulfur dioxide</th>\n",
       "      <th>total sulfur dioxide</th>\n",
       "      <th>density</th>\n",
       "      <th>pH</th>\n",
       "      <th>sulphates</th>\n",
       "      <th>alcohol</th>\n",
       "      <th>quality</th>\n",
       "    </tr>\n",
       "  </thead>\n",
       "  <tbody>\n",
       "    <tr>\n",
       "      <th>0</th>\n",
       "      <td>7.4</td>\n",
       "      <td>0.70</td>\n",
       "      <td>0.00</td>\n",
       "      <td>1.9</td>\n",
       "      <td>0.076</td>\n",
       "      <td>11.0</td>\n",
       "      <td>34.0</td>\n",
       "      <td>0.9978</td>\n",
       "      <td>3.51</td>\n",
       "      <td>0.56</td>\n",
       "      <td>9.4</td>\n",
       "      <td>5</td>\n",
       "    </tr>\n",
       "    <tr>\n",
       "      <th>1</th>\n",
       "      <td>7.8</td>\n",
       "      <td>0.88</td>\n",
       "      <td>0.00</td>\n",
       "      <td>2.6</td>\n",
       "      <td>0.098</td>\n",
       "      <td>25.0</td>\n",
       "      <td>67.0</td>\n",
       "      <td>0.9968</td>\n",
       "      <td>3.20</td>\n",
       "      <td>0.68</td>\n",
       "      <td>9.8</td>\n",
       "      <td>5</td>\n",
       "    </tr>\n",
       "    <tr>\n",
       "      <th>2</th>\n",
       "      <td>7.8</td>\n",
       "      <td>0.76</td>\n",
       "      <td>0.04</td>\n",
       "      <td>2.3</td>\n",
       "      <td>0.092</td>\n",
       "      <td>15.0</td>\n",
       "      <td>54.0</td>\n",
       "      <td>0.9970</td>\n",
       "      <td>3.26</td>\n",
       "      <td>0.65</td>\n",
       "      <td>9.8</td>\n",
       "      <td>5</td>\n",
       "    </tr>\n",
       "    <tr>\n",
       "      <th>3</th>\n",
       "      <td>11.2</td>\n",
       "      <td>0.28</td>\n",
       "      <td>0.56</td>\n",
       "      <td>1.9</td>\n",
       "      <td>0.075</td>\n",
       "      <td>17.0</td>\n",
       "      <td>60.0</td>\n",
       "      <td>0.9980</td>\n",
       "      <td>3.16</td>\n",
       "      <td>0.58</td>\n",
       "      <td>9.8</td>\n",
       "      <td>6</td>\n",
       "    </tr>\n",
       "    <tr>\n",
       "      <th>4</th>\n",
       "      <td>7.4</td>\n",
       "      <td>0.70</td>\n",
       "      <td>0.00</td>\n",
       "      <td>1.9</td>\n",
       "      <td>0.076</td>\n",
       "      <td>11.0</td>\n",
       "      <td>34.0</td>\n",
       "      <td>0.9978</td>\n",
       "      <td>3.51</td>\n",
       "      <td>0.56</td>\n",
       "      <td>9.4</td>\n",
       "      <td>5</td>\n",
       "    </tr>\n",
       "  </tbody>\n",
       "</table>\n",
       "</div>"
      ],
      "text/plain": [
       "   fixed acidity  volatile acidity  citric acid  residual sugar  chlorides  \\\n",
       "0            7.4              0.70         0.00             1.9      0.076   \n",
       "1            7.8              0.88         0.00             2.6      0.098   \n",
       "2            7.8              0.76         0.04             2.3      0.092   \n",
       "3           11.2              0.28         0.56             1.9      0.075   \n",
       "4            7.4              0.70         0.00             1.9      0.076   \n",
       "\n",
       "   free sulfur dioxide  total sulfur dioxide  density    pH  sulphates  \\\n",
       "0                 11.0                  34.0   0.9978  3.51       0.56   \n",
       "1                 25.0                  67.0   0.9968  3.20       0.68   \n",
       "2                 15.0                  54.0   0.9970  3.26       0.65   \n",
       "3                 17.0                  60.0   0.9980  3.16       0.58   \n",
       "4                 11.0                  34.0   0.9978  3.51       0.56   \n",
       "\n",
       "   alcohol  quality  \n",
       "0      9.4        5  \n",
       "1      9.8        5  \n",
       "2      9.8        5  \n",
       "3      9.8        6  \n",
       "4      9.4        5  "
      ]
     },
     "execution_count": 2,
     "metadata": {},
     "output_type": "execute_result"
    }
   ],
   "source": [
    "import pandas as pd\n",
    "\n",
    "red_wine = pd.read_csv('../input/dl-course-data/red-wine.csv')\n",
    "red_wine.head()"
   ]
  },
  {
   "cell_type": "markdown",
   "id": "6f1bcfb9",
   "metadata": {
    "papermill": {
     "duration": 0.005408,
     "end_time": "2022-08-08T20:23:25.827083",
     "exception": false,
     "start_time": "2022-08-08T20:23:25.821675",
     "status": "completed"
    },
    "tags": []
   },
   "source": [
    "You can get the number of rows and columns of a dataframe (or a Numpy array) with the `shape` attribute."
   ]
  },
  {
   "cell_type": "code",
   "execution_count": 3,
   "id": "f6cfd6c1",
   "metadata": {
    "execution": {
     "iopub.execute_input": "2022-08-08T20:23:25.839823Z",
     "iopub.status.busy": "2022-08-08T20:23:25.839324Z",
     "iopub.status.idle": "2022-08-08T20:23:25.848337Z",
     "shell.execute_reply": "2022-08-08T20:23:25.847127Z"
    },
    "papermill": {
     "duration": 0.01862,
     "end_time": "2022-08-08T20:23:25.851072",
     "exception": false,
     "start_time": "2022-08-08T20:23:25.832452",
     "status": "completed"
    },
    "tags": []
   },
   "outputs": [
    {
     "data": {
      "text/plain": [
       "(1599, 12)"
      ]
     },
     "execution_count": 3,
     "metadata": {},
     "output_type": "execute_result"
    }
   ],
   "source": [
    "red_wine.shape # (rows, columns)"
   ]
  },
  {
   "cell_type": "markdown",
   "id": "97293dc2",
   "metadata": {
    "papermill": {
     "duration": 0.005842,
     "end_time": "2022-08-08T20:23:25.862775",
     "exception": false,
     "start_time": "2022-08-08T20:23:25.856933",
     "status": "completed"
    },
    "tags": []
   },
   "source": [
    "# 1) Input shape #\n",
    "\n",
    "How well can we predict a wine's perceived quality from the physiochemical measurements?  \n",
    "\n",
    "The target is `'quality'`, and the remaining columns are the features.  How would you set the `input_shape` parameter for a Keras model on this task?"
   ]
  },
  {
   "cell_type": "code",
   "execution_count": 4,
   "id": "717653b4",
   "metadata": {
    "execution": {
     "iopub.execute_input": "2022-08-08T20:23:25.876368Z",
     "iopub.status.busy": "2022-08-08T20:23:25.875911Z",
     "iopub.status.idle": "2022-08-08T20:23:25.885198Z",
     "shell.execute_reply": "2022-08-08T20:23:25.883847Z"
    },
    "papermill": {
     "duration": 0.018852,
     "end_time": "2022-08-08T20:23:25.887788",
     "exception": false,
     "start_time": "2022-08-08T20:23:25.868936",
     "status": "completed"
    },
    "tags": []
   },
   "outputs": [
    {
     "data": {
      "text/plain": [
       "11"
      ]
     },
     "execution_count": 4,
     "metadata": {},
     "output_type": "execute_result"
    }
   ],
   "source": [
    "red_wine.shape[1] - 1"
   ]
  },
  {
   "cell_type": "code",
   "execution_count": 5,
   "id": "4e0d1d23",
   "metadata": {
    "execution": {
     "iopub.execute_input": "2022-08-08T20:23:25.902596Z",
     "iopub.status.busy": "2022-08-08T20:23:25.902114Z",
     "iopub.status.idle": "2022-08-08T20:23:25.912405Z",
     "shell.execute_reply": "2022-08-08T20:23:25.911506Z"
    },
    "lines_to_next_cell": 0,
    "papermill": {
     "duration": 0.02059,
     "end_time": "2022-08-08T20:23:25.914722",
     "exception": false,
     "start_time": "2022-08-08T20:23:25.894132",
     "status": "completed"
    },
    "tags": []
   },
   "outputs": [
    {
     "data": {
      "application/javascript": [
       "parent.postMessage({\"jupyterEvent\": \"custom.exercise_interaction\", \"data\": {\"outcomeType\": 1, \"valueTowardsCompletion\": 0.3333333333333333, \"interactionType\": 1, \"questionType\": 2, \"questionId\": \"1_Q1\", \"learnToolsVersion\": \"0.3.4\", \"failureMessage\": \"\", \"exceptionClass\": \"\", \"trace\": \"\"}}, \"*\")"
      ],
      "text/plain": [
       "<IPython.core.display.Javascript object>"
      ]
     },
     "metadata": {},
     "output_type": "display_data"
    },
    {
     "data": {
      "text/markdown": [
       "<span style=\"color:#33cc33\">Correct</span>"
      ],
      "text/plain": [
       "Correct"
      ]
     },
     "metadata": {},
     "output_type": "display_data"
    }
   ],
   "source": [
    "# YOUR CODE HERE\n",
    "input_shape = [red_wine.shape[1] - 1]\n",
    "\n",
    "# Check your answer\n",
    "q_1.check()"
   ]
  },
  {
   "cell_type": "code",
   "execution_count": 6,
   "id": "0d10f477",
   "metadata": {
    "execution": {
     "iopub.execute_input": "2022-08-08T20:23:25.928571Z",
     "iopub.status.busy": "2022-08-08T20:23:25.928122Z",
     "iopub.status.idle": "2022-08-08T20:23:25.933404Z",
     "shell.execute_reply": "2022-08-08T20:23:25.932102Z"
    },
    "papermill": {
     "duration": 0.015613,
     "end_time": "2022-08-08T20:23:25.936222",
     "exception": false,
     "start_time": "2022-08-08T20:23:25.920609",
     "status": "completed"
    },
    "tags": []
   },
   "outputs": [],
   "source": [
    "# Lines below will give you a hint or solution code\n",
    "#q_1.hint()\n",
    "#q_1.solution()"
   ]
  },
  {
   "cell_type": "markdown",
   "id": "37692c02",
   "metadata": {
    "papermill": {
     "duration": 0.005534,
     "end_time": "2022-08-08T20:23:25.947598",
     "exception": false,
     "start_time": "2022-08-08T20:23:25.942064",
     "status": "completed"
    },
    "tags": []
   },
   "source": [
    "# 2) Define a linear model\n",
    "\n",
    "Now define a linear model appropriate for this task. Pay attention to how many inputs and outputs the model should have."
   ]
  },
  {
   "cell_type": "code",
   "execution_count": 7,
   "id": "3158d15d",
   "metadata": {
    "execution": {
     "iopub.execute_input": "2022-08-08T20:23:25.962065Z",
     "iopub.status.busy": "2022-08-08T20:23:25.961616Z",
     "iopub.status.idle": "2022-08-08T20:23:27.494329Z",
     "shell.execute_reply": "2022-08-08T20:23:27.492641Z"
    },
    "lines_to_next_cell": 0,
    "papermill": {
     "duration": 1.543449,
     "end_time": "2022-08-08T20:23:27.497360",
     "exception": false,
     "start_time": "2022-08-08T20:23:25.953911",
     "status": "completed"
    },
    "tags": []
   },
   "outputs": [
    {
     "name": "stderr",
     "output_type": "stream",
     "text": [
      "2022-08-08 20:23:27.411601: I tensorflow/core/common_runtime/process_util.cc:146] Creating new thread pool with default inter op setting: 2. Tune using inter_op_parallelism_threads for best performance.\n"
     ]
    },
    {
     "data": {
      "application/javascript": [
       "parent.postMessage({\"jupyterEvent\": \"custom.exercise_interaction\", \"data\": {\"outcomeType\": 1, \"valueTowardsCompletion\": 0.3333333333333333, \"interactionType\": 1, \"questionType\": 2, \"questionId\": \"2_Q2\", \"learnToolsVersion\": \"0.3.4\", \"failureMessage\": \"\", \"exceptionClass\": \"\", \"trace\": \"\"}}, \"*\")"
      ],
      "text/plain": [
       "<IPython.core.display.Javascript object>"
      ]
     },
     "metadata": {},
     "output_type": "display_data"
    },
    {
     "data": {
      "text/markdown": [
       "<span style=\"color:#33cc33\">Correct</span>"
      ],
      "text/plain": [
       "Correct"
      ]
     },
     "metadata": {},
     "output_type": "display_data"
    }
   ],
   "source": [
    "from tensorflow import keras\n",
    "from tensorflow.keras import layers\n",
    "\n",
    "# YOUR CODE HERE\n",
    "model = keras.Sequential([\n",
    "    layers.Dense(units=1, input_shape=input_shape\n",
    "    )])\n",
    "\n",
    "# Check your answer\n",
    "q_2.check()"
   ]
  },
  {
   "cell_type": "code",
   "execution_count": 8,
   "id": "f7c4183c",
   "metadata": {
    "execution": {
     "iopub.execute_input": "2022-08-08T20:23:27.512975Z",
     "iopub.status.busy": "2022-08-08T20:23:27.512484Z",
     "iopub.status.idle": "2022-08-08T20:23:27.518305Z",
     "shell.execute_reply": "2022-08-08T20:23:27.516583Z"
    },
    "papermill": {
     "duration": 0.017024,
     "end_time": "2022-08-08T20:23:27.520956",
     "exception": false,
     "start_time": "2022-08-08T20:23:27.503932",
     "status": "completed"
    },
    "tags": []
   },
   "outputs": [],
   "source": [
    "# Lines below will give you a hint or solution code\n",
    "#q_2.hint()\n",
    "#q_2.solution()"
   ]
  },
  {
   "cell_type": "markdown",
   "id": "638c6305",
   "metadata": {
    "papermill": {
     "duration": 0.007245,
     "end_time": "2022-08-08T20:23:27.534686",
     "exception": false,
     "start_time": "2022-08-08T20:23:27.527441",
     "status": "completed"
    },
    "tags": []
   },
   "source": [
    "# 3) Look at the weights\n",
    "\n",
    "Internally, Keras represents the weights of a neural network with **tensors**. Tensors are basically TensorFlow's version of a Numpy array with a few differences that make them better suited to deep learning. One of the most important is that tensors are compatible with [GPU](https://www.kaggle.com/docs/efficient-gpu-usage) and [TPU](https://www.kaggle.com/docs/tpu)) accelerators. TPUs, in fact, are designed specifically for tensor computations.\n",
    "\n",
    "A model's weights are kept in its `weights` attribute as a list of tensors. Get the weights of the model you defined above. (If you want, you could display the weights with something like: `print(\"Weights\\n{}\\n\\nBias\\n{}\".format(w, b))`)."
   ]
  },
  {
   "cell_type": "code",
   "execution_count": 9,
   "id": "379f1c00",
   "metadata": {
    "execution": {
     "iopub.execute_input": "2022-08-08T20:23:27.549449Z",
     "iopub.status.busy": "2022-08-08T20:23:27.548952Z",
     "iopub.status.idle": "2022-08-08T20:23:27.564371Z",
     "shell.execute_reply": "2022-08-08T20:23:27.563073Z"
    },
    "lines_to_next_cell": 0,
    "papermill": {
     "duration": 0.026207,
     "end_time": "2022-08-08T20:23:27.567146",
     "exception": false,
     "start_time": "2022-08-08T20:23:27.540939",
     "status": "completed"
    },
    "tags": []
   },
   "outputs": [
    {
     "name": "stdout",
     "output_type": "stream",
     "text": [
      "Weights\n",
      "<tf.Variable 'dense/kernel:0' shape=(11, 1) dtype=float32, numpy=\n",
      "array([[-0.35072583],\n",
      "       [-0.5336944 ],\n",
      "       [ 0.07643598],\n",
      "       [ 0.46249205],\n",
      "       [ 0.12570548],\n",
      "       [-0.00254416],\n",
      "       [ 0.5362205 ],\n",
      "       [ 0.51723   ],\n",
      "       [ 0.37982804],\n",
      "       [ 0.5839501 ],\n",
      "       [ 0.32323104]], dtype=float32)>\n",
      "\n",
      "Bias\n",
      "<tf.Variable 'dense/bias:0' shape=(1,) dtype=float32, numpy=array([0.], dtype=float32)>\n"
     ]
    },
    {
     "data": {
      "application/javascript": [
       "parent.postMessage({\"jupyterEvent\": \"custom.exercise_interaction\", \"data\": {\"outcomeType\": 1, \"valueTowardsCompletion\": 0.3333333333333333, \"interactionType\": 1, \"questionType\": 2, \"questionId\": \"3_Q3\", \"learnToolsVersion\": \"0.3.4\", \"failureMessage\": \"\", \"exceptionClass\": \"\", \"trace\": \"\"}}, \"*\")"
      ],
      "text/plain": [
       "<IPython.core.display.Javascript object>"
      ]
     },
     "metadata": {},
     "output_type": "display_data"
    },
    {
     "data": {
      "text/markdown": [
       "<span style=\"color:#33cc33\">Correct:</span> Do you see how there's one weight for each input (and a bias)? Notice though that there doesn't seem to be any pattern to the values the weights have. Before the model is trained, the weights are set to random numbers (and the bias to 0.0). A neural network learns by finding better values for its weights.\n"
      ],
      "text/plain": [
       "Correct: Do you see how there's one weight for each input (and a bias)? Notice though that there doesn't seem to be any pattern to the values the weights have. Before the model is trained, the weights are set to random numbers (and the bias to 0.0). A neural network learns by finding better values for its weights."
      ]
     },
     "metadata": {},
     "output_type": "display_data"
    }
   ],
   "source": [
    "# YOUR CODE HERE\n",
    "w, b = model.weights\n",
    "print(\"Weights\\n{}\\n\\nBias\\n{}\".format(w, b))\n",
    "# Check your answer\n",
    "q_3.check()"
   ]
  },
  {
   "cell_type": "code",
   "execution_count": 10,
   "id": "b74629bc",
   "metadata": {
    "execution": {
     "iopub.execute_input": "2022-08-08T20:23:27.583572Z",
     "iopub.status.busy": "2022-08-08T20:23:27.582583Z",
     "iopub.status.idle": "2022-08-08T20:23:27.588478Z",
     "shell.execute_reply": "2022-08-08T20:23:27.587121Z"
    },
    "lines_to_next_cell": 0,
    "papermill": {
     "duration": 0.017055,
     "end_time": "2022-08-08T20:23:27.591181",
     "exception": false,
     "start_time": "2022-08-08T20:23:27.574126",
     "status": "completed"
    },
    "tags": []
   },
   "outputs": [],
   "source": [
    "# Lines below will give you a hint or solution code\n",
    "#q_3.hint()\n",
    "#q_3.solution()"
   ]
  },
  {
   "cell_type": "markdown",
   "id": "ff392543",
   "metadata": {
    "papermill": {
     "duration": 0.006566,
     "end_time": "2022-08-08T20:23:27.604466",
     "exception": false,
     "start_time": "2022-08-08T20:23:27.597900",
     "status": "completed"
    },
    "tags": []
   },
   "source": [
    "(By the way, Keras represents weights as tensors, but also uses tensors to represent data. When you set the `input_shape` argument, you are telling Keras the dimensions of the array it should expect for each example in the training data. Setting `input_shape=[3]` would create a network accepting vectors of length 3, like `[0.2, 0.4, 0.6]`.)\n",
    " \n",
    "\n",
    "# Optional: Plot the output of an untrained linear model\n",
    " \n",
    "The kinds of problems we'll work on through Lesson 5 will be *regression* problems, where the goal is to predict some numeric target. Regression problems are like \"curve-fitting\" problems: we're trying to find a curve that best fits the data. Let's take a look at the \"curve\" produced by a linear model. (You've probably guessed that it's a line!)\n",
    " \n",
    "We mentioned that before training a model's weights are set randomly. Run the cell below a few times to see the different lines produced with a random initialization. (There's no coding for this exercise -- it's just a demonstration.)"
   ]
  },
  {
   "cell_type": "code",
   "execution_count": 11,
   "id": "11780f63",
   "metadata": {
    "execution": {
     "iopub.execute_input": "2022-08-08T20:23:27.619665Z",
     "iopub.status.busy": "2022-08-08T20:23:27.619158Z",
     "iopub.status.idle": "2022-08-08T20:23:28.634676Z",
     "shell.execute_reply": "2022-08-08T20:23:28.633397Z"
    },
    "lines_to_next_cell": 0,
    "papermill": {
     "duration": 1.026637,
     "end_time": "2022-08-08T20:23:28.637682",
     "exception": false,
     "start_time": "2022-08-08T20:23:27.611045",
     "status": "completed"
    },
    "tags": []
   },
   "outputs": [
    {
     "name": "stderr",
     "output_type": "stream",
     "text": [
      "2022-08-08 20:23:27.799904: I tensorflow/compiler/mlir/mlir_graph_optimization_pass.cc:185] None of the MLIR Optimization Passes are enabled (registered 2)\n"
     ]
    },
    {
     "data": {
      "image/png": "[encoded data removed]",
      "text/plain": [
       "<Figure size 600x400 with 1 Axes>"
      ]
     },
     "metadata": {},
     "output_type": "display_data"
    }
   ],
   "source": [
    "import tensorflow as tf\n",
    "import matplotlib.pyplot as plt\n",
    "\n",
    "model = keras.Sequential([\n",
    "    layers.Dense(1, input_shape=[1]),\n",
    "])\n",
    "\n",
    "x = tf.linspace(-1.0, 1.0, 100)\n",
    "y = model.predict(x)\n",
    "\n",
    "plt.figure(dpi=100)\n",
    "plt.plot(x, y, 'k')\n",
    "plt.xlim(-1, 1)\n",
    "plt.ylim(-1, 1)\n",
    "plt.xlabel(\"Input: x\")\n",
    "plt.ylabel(\"Target y\")\n",
    "w, b = model.weights # you could also use model.get_weights() here\n",
    "plt.title(\"Weight: {:0.2f}\\nBias: {:0.2f}\".format(w[0][0], b[0]))\n",
    "plt.show()"
   ]
  },
  {
   "cell_type": "markdown",
   "id": "36107f16",
   "metadata": {
    "papermill": {
     "duration": 0.007108,
     "end_time": "2022-08-08T20:23:28.652228",
     "exception": false,
     "start_time": "2022-08-08T20:23:28.645120",
     "status": "completed"
    },
    "tags": []
   },
   "source": [
    "# Keep Going #\n",
    "\n",
    "Add hidden layers and [**make your models deep**](https://www.kaggle.com/ryanholbrook/deep-neural-networks) in Lesson 2."
   ]
  },
  {
   "cell_type": "markdown",
   "id": "cff030ec",
   "metadata": {
    "papermill": {
     "duration": 0.006839,
     "end_time": "2022-08-08T20:23:28.666390",
     "exception": false,
     "start_time": "2022-08-08T20:23:28.659551",
     "status": "completed"
    },
    "tags": []
   },
   "source": [
    "---\n",
    "\n",
    "\n",
    "\n",
    "\n",
    "*Have questions or comments? Visit the [course discussion forum](https://www.kaggle.com/learn/intro-to-deep-learning/discussion) to chat with other learners.*"
   ]
  }
 ],
 "metadata": {
  "kernelspec": {
   "display_name": "Python 3",
   "language": "python",
   "name": "python3"
  },
  "language_info": {
   "codemirror_mode": {
    "name": "ipython",
    "version": 3
   },
   "file_extension": ".py",
   "mimetype": "text/x-python",
   "name": "python",
   "nbconvert_exporter": "python",
   "pygments_lexer": "ipython3",
   "version": "3.7.12"
  },
  "papermill": {
   "default_parameters": {},
   "duration": 24.911597,
   "end_time": "2022-08-08T20:23:32.176581",
   "environment_variables": {},
   "exception": null,
   "input_path": "__notebook__.ipynb",
   "output_path": "__notebook__.ipynb",
   "parameters": {},
   "start_time": "2022-08-08T20:23:07.264984",
   "version": "2.3.4"
  }
 },
 "nbformat": 4,
 "nbformat_minor": 5
}
