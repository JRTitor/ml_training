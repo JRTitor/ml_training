{
 "cells": [
  {
   "cell_type": "markdown",
   "id": "876876df",
   "metadata": {
    "papermill": {
     "duration": 0.013258,
     "end_time": "2022-08-01T19:20:43.121356",
     "exception": false,
     "start_time": "2022-08-01T19:20:43.108098",
     "status": "completed"
    },
    "tags": []
   },
   "source": [
    "**This notebook is an exercise in the [Data Visualization](https://www.kaggle.com/learn/data-visualization) course.  You can reference the tutorial at [this link](https://www.kaggle.com/alexisbcook/scatter-plots).**\n",
    "\n",
    "---\n"
   ]
  },
  {
   "cell_type": "markdown",
   "id": "84bc8a66",
   "metadata": {
    "papermill": {
     "duration": 0.011774,
     "end_time": "2022-08-01T19:20:43.144867",
     "exception": false,
     "start_time": "2022-08-01T19:20:43.133093",
     "status": "completed"
    },
    "tags": []
   },
   "source": [
    "In this exercise, you will use your new knowledge to propose a solution to a real-world scenario.  To succeed, you will need to import data into Python, answer questions using the data, and generate **scatter plots** to understand patterns in the data.\n",
    "\n",
    "## Scenario\n",
    "\n",
    "You work for a major candy producer, and your goal is to write a report that your company can use to guide the design of its next product.  Soon after starting your research, you stumble across this [very interesting dataset](https://fivethirtyeight.com/features/the-ultimate-halloween-candy-power-ranking/) containing results from a fun survey to crowdsource favorite candies.\n",
    "\n",
    "## Setup\n",
    "\n",
    "Run the next cell to import and configure the Python libraries that you need to complete the exercise."
   ]
  },
  {
   "cell_type": "code",
   "execution_count": 1,
   "id": "4710bef2",
   "metadata": {
    "execution": {
     "iopub.execute_input": "2022-08-01T19:20:43.170581Z",
     "iopub.status.busy": "2022-08-01T19:20:43.169714Z",
     "iopub.status.idle": "2022-08-01T19:20:44.406263Z",
     "shell.execute_reply": "2022-08-01T19:20:44.404530Z"
    },
    "papermill": {
     "duration": 1.252961,
     "end_time": "2022-08-01T19:20:44.409501",
     "exception": false,
     "start_time": "2022-08-01T19:20:43.156540",
     "status": "completed"
    },
    "tags": []
   },
   "outputs": [
    {
     "name": "stdout",
     "output_type": "stream",
     "text": [
      "Setup Complete\n"
     ]
    }
   ],
   "source": [
    "import pandas as pd\n",
    "pd.plotting.register_matplotlib_converters()\n",
    "import matplotlib.pyplot as plt\n",
    "%matplotlib inline\n",
    "import seaborn as sns\n",
    "print(\"Setup Complete\")"
   ]
  },
  {
   "cell_type": "markdown",
   "id": "506fbce9",
   "metadata": {
    "papermill": {
     "duration": 0.011012,
     "end_time": "2022-08-01T19:20:44.432264",
     "exception": false,
     "start_time": "2022-08-01T19:20:44.421252",
     "status": "completed"
    },
    "tags": []
   },
   "source": [
    "The questions below will give you feedback on your work. Run the following cell to set up our feedback system."
   ]
  },
  {
   "cell_type": "code",
   "execution_count": 2,
   "id": "946368ea",
   "metadata": {
    "execution": {
     "iopub.execute_input": "2022-08-01T19:20:44.457312Z",
     "iopub.status.busy": "2022-08-01T19:20:44.456453Z",
     "iopub.status.idle": "2022-08-01T19:20:44.526220Z",
     "shell.execute_reply": "2022-08-01T19:20:44.524491Z"
    },
    "papermill": {
     "duration": 0.085404,
     "end_time": "2022-08-01T19:20:44.529148",
     "exception": false,
     "start_time": "2022-08-01T19:20:44.443744",
     "status": "completed"
    },
    "tags": []
   },
   "outputs": [
    {
     "name": "stdout",
     "output_type": "stream",
     "text": [
      "Setup Complete\n"
     ]
    }
   ],
   "source": [
    "# Set up code checking\n",
    "import os\n",
    "if not os.path.exists(\"../input/candy.csv\"):\n",
    "    os.symlink(\"../input/data-for-datavis/candy.csv\", \"../input/candy.csv\") \n",
    "from learntools.core import binder\n",
    "binder.bind(globals())\n",
    "from learntools.data_viz_to_coder.ex4 import *\n",
    "print(\"Setup Complete\")"
   ]
  },
  {
   "cell_type": "markdown",
   "id": "3b5f95f1",
   "metadata": {
    "papermill": {
     "duration": 0.011305,
     "end_time": "2022-08-01T19:20:44.552196",
     "exception": false,
     "start_time": "2022-08-01T19:20:44.540891",
     "status": "completed"
    },
    "tags": []
   },
   "source": [
    "## Step 1: Load the Data\n",
    "\n",
    "Read the candy data file into `candy_data`.  Use the `\"id\"` column to label the rows."
   ]
  },
  {
   "cell_type": "code",
   "execution_count": 3,
   "id": "db670aa0",
   "metadata": {
    "execution": {
     "iopub.execute_input": "2022-08-01T19:20:44.577104Z",
     "iopub.status.busy": "2022-08-01T19:20:44.576715Z",
     "iopub.status.idle": "2022-08-01T19:20:44.594661Z",
     "shell.execute_reply": "2022-08-01T19:20:44.593469Z"
    },
    "papermill": {
     "duration": 0.033338,
     "end_time": "2022-08-01T19:20:44.597129",
     "exception": false,
     "start_time": "2022-08-01T19:20:44.563791",
     "status": "completed"
    },
    "tags": []
   },
   "outputs": [
    {
     "data": {
      "application/javascript": [
       "parent.postMessage({\"jupyterEvent\": \"custom.exercise_interaction\", \"data\": {\"outcomeType\": 1, \"valueTowardsCompletion\": 0.3333333333333333, \"interactionType\": 1, \"questionType\": 1, \"questionId\": \"1_LoadData\", \"learnToolsVersion\": \"0.3.4\", \"failureMessage\": \"\", \"exceptionClass\": \"\", \"trace\": \"\"}}, \"*\")"
      ],
      "text/plain": [
       "<IPython.core.display.Javascript object>"
      ]
     },
     "metadata": {},
     "output_type": "display_data"
    },
    {
     "data": {
      "text/markdown": [
       "<span style=\"color:#33cc33\">Correct</span>"
      ],
      "text/plain": [
       "Correct"
      ]
     },
     "metadata": {},
     "output_type": "display_data"
    }
   ],
   "source": [
    "# Path of the file to read\n",
    "candy_filepath = \"../input/candy.csv\"\n",
    "\n",
    "# Fill in the line below to read the file into a variable candy_data\n",
    "candy_data = pd.read_csv(candy_filepath, index_col = \"id\")\n",
    "\n",
    "# Run the line below with no changes to check that you've loaded the data correctly\n",
    "step_1.check()"
   ]
  },
  {
   "cell_type": "code",
   "execution_count": 4,
   "id": "de2e972a",
   "metadata": {
    "execution": {
     "iopub.execute_input": "2022-08-01T19:20:44.624302Z",
     "iopub.status.busy": "2022-08-01T19:20:44.623879Z",
     "iopub.status.idle": "2022-08-01T19:20:44.628384Z",
     "shell.execute_reply": "2022-08-01T19:20:44.627084Z"
    },
    "papermill": {
     "duration": 0.020546,
     "end_time": "2022-08-01T19:20:44.630955",
     "exception": false,
     "start_time": "2022-08-01T19:20:44.610409",
     "status": "completed"
    },
    "tags": []
   },
   "outputs": [],
   "source": [
    "# Lines below will give you a hint or solution code\n",
    "#step_1.hint()\n",
    "#step_1.solution()"
   ]
  },
  {
   "cell_type": "markdown",
   "id": "ec6dd26b",
   "metadata": {
    "papermill": {
     "duration": 0.011649,
     "end_time": "2022-08-01T19:20:44.654735",
     "exception": false,
     "start_time": "2022-08-01T19:20:44.643086",
     "status": "completed"
    },
    "tags": []
   },
   "source": [
    "## Step 2: Review the data\n",
    "\n",
    "Use a Python command to print the first five rows of the data."
   ]
  },
  {
   "cell_type": "code",
   "execution_count": 5,
   "id": "33c5fb04",
   "metadata": {
    "execution": {
     "iopub.execute_input": "2022-08-01T19:20:44.680419Z",
     "iopub.status.busy": "2022-08-01T19:20:44.680023Z",
     "iopub.status.idle": "2022-08-01T19:20:44.711291Z",
     "shell.execute_reply": "2022-08-01T19:20:44.710108Z"
    },
    "papermill": {
     "duration": 0.047205,
     "end_time": "2022-08-01T19:20:44.713947",
     "exception": false,
     "start_time": "2022-08-01T19:20:44.666742",
     "status": "completed"
    },
    "tags": []
   },
   "outputs": [
    {
     "data": {
      "text/html": [
       "<div>\n",
       "<style scoped>\n",
       "    .dataframe tbody tr th:only-of-type {\n",
       "        vertical-align: middle;\n",
       "    }\n",
       "\n",
       "    .dataframe tbody tr th {\n",
       "        vertical-align: top;\n",
       "    }\n",
       "\n",
       "    .dataframe thead th {\n",
       "        text-align: right;\n",
       "    }\n",
       "</style>\n",
       "<table border=\"1\" class=\"dataframe\">\n",
       "  <thead>\n",
       "    <tr style=\"text-align: right;\">\n",
       "      <th></th>\n",
       "      <th>competitorname</th>\n",
       "      <th>chocolate</th>\n",
       "      <th>fruity</th>\n",
       "      <th>caramel</th>\n",
       "      <th>peanutyalmondy</th>\n",
       "      <th>nougat</th>\n",
       "      <th>crispedricewafer</th>\n",
       "      <th>hard</th>\n",
       "      <th>bar</th>\n",
       "      <th>pluribus</th>\n",
       "      <th>sugarpercent</th>\n",
       "      <th>pricepercent</th>\n",
       "      <th>winpercent</th>\n",
       "    </tr>\n",
       "    <tr>\n",
       "      <th>id</th>\n",
       "      <th></th>\n",
       "      <th></th>\n",
       "      <th></th>\n",
       "      <th></th>\n",
       "      <th></th>\n",
       "      <th></th>\n",
       "      <th></th>\n",
       "      <th></th>\n",
       "      <th></th>\n",
       "      <th></th>\n",
       "      <th></th>\n",
       "      <th></th>\n",
       "      <th></th>\n",
       "    </tr>\n",
       "  </thead>\n",
       "  <tbody>\n",
       "    <tr>\n",
       "      <th>0</th>\n",
       "      <td>100 Grand</td>\n",
       "      <td>Yes</td>\n",
       "      <td>No</td>\n",
       "      <td>Yes</td>\n",
       "      <td>No</td>\n",
       "      <td>No</td>\n",
       "      <td>Yes</td>\n",
       "      <td>No</td>\n",
       "      <td>Yes</td>\n",
       "      <td>No</td>\n",
       "      <td>0.732</td>\n",
       "      <td>0.860</td>\n",
       "      <td>66.971725</td>\n",
       "    </tr>\n",
       "    <tr>\n",
       "      <th>1</th>\n",
       "      <td>3 Musketeers</td>\n",
       "      <td>Yes</td>\n",
       "      <td>No</td>\n",
       "      <td>No</td>\n",
       "      <td>No</td>\n",
       "      <td>Yes</td>\n",
       "      <td>No</td>\n",
       "      <td>No</td>\n",
       "      <td>Yes</td>\n",
       "      <td>No</td>\n",
       "      <td>0.604</td>\n",
       "      <td>0.511</td>\n",
       "      <td>67.602936</td>\n",
       "    </tr>\n",
       "    <tr>\n",
       "      <th>2</th>\n",
       "      <td>Air Heads</td>\n",
       "      <td>No</td>\n",
       "      <td>Yes</td>\n",
       "      <td>No</td>\n",
       "      <td>No</td>\n",
       "      <td>No</td>\n",
       "      <td>No</td>\n",
       "      <td>No</td>\n",
       "      <td>No</td>\n",
       "      <td>No</td>\n",
       "      <td>0.906</td>\n",
       "      <td>0.511</td>\n",
       "      <td>52.341465</td>\n",
       "    </tr>\n",
       "    <tr>\n",
       "      <th>3</th>\n",
       "      <td>Almond Joy</td>\n",
       "      <td>Yes</td>\n",
       "      <td>No</td>\n",
       "      <td>No</td>\n",
       "      <td>Yes</td>\n",
       "      <td>No</td>\n",
       "      <td>No</td>\n",
       "      <td>No</td>\n",
       "      <td>Yes</td>\n",
       "      <td>No</td>\n",
       "      <td>0.465</td>\n",
       "      <td>0.767</td>\n",
       "      <td>50.347546</td>\n",
       "    </tr>\n",
       "    <tr>\n",
       "      <th>4</th>\n",
       "      <td>Baby Ruth</td>\n",
       "      <td>Yes</td>\n",
       "      <td>No</td>\n",
       "      <td>Yes</td>\n",
       "      <td>Yes</td>\n",
       "      <td>Yes</td>\n",
       "      <td>No</td>\n",
       "      <td>No</td>\n",
       "      <td>Yes</td>\n",
       "      <td>No</td>\n",
       "      <td>0.604</td>\n",
       "      <td>0.767</td>\n",
       "      <td>56.914547</td>\n",
       "    </tr>\n",
       "    <tr>\n",
       "      <th>...</th>\n",
       "      <td>...</td>\n",
       "      <td>...</td>\n",
       "      <td>...</td>\n",
       "      <td>...</td>\n",
       "      <td>...</td>\n",
       "      <td>...</td>\n",
       "      <td>...</td>\n",
       "      <td>...</td>\n",
       "      <td>...</td>\n",
       "      <td>...</td>\n",
       "      <td>...</td>\n",
       "      <td>...</td>\n",
       "      <td>...</td>\n",
       "    </tr>\n",
       "    <tr>\n",
       "      <th>78</th>\n",
       "      <td>Twizzlers</td>\n",
       "      <td>No</td>\n",
       "      <td>Yes</td>\n",
       "      <td>No</td>\n",
       "      <td>No</td>\n",
       "      <td>No</td>\n",
       "      <td>No</td>\n",
       "      <td>No</td>\n",
       "      <td>No</td>\n",
       "      <td>No</td>\n",
       "      <td>0.220</td>\n",
       "      <td>0.116</td>\n",
       "      <td>45.466282</td>\n",
       "    </tr>\n",
       "    <tr>\n",
       "      <th>79</th>\n",
       "      <td>Warheads</td>\n",
       "      <td>No</td>\n",
       "      <td>Yes</td>\n",
       "      <td>No</td>\n",
       "      <td>No</td>\n",
       "      <td>No</td>\n",
       "      <td>No</td>\n",
       "      <td>Yes</td>\n",
       "      <td>No</td>\n",
       "      <td>No</td>\n",
       "      <td>0.093</td>\n",
       "      <td>0.116</td>\n",
       "      <td>39.011898</td>\n",
       "    </tr>\n",
       "    <tr>\n",
       "      <th>80</th>\n",
       "      <td>Welch's Fruit Snacks</td>\n",
       "      <td>No</td>\n",
       "      <td>Yes</td>\n",
       "      <td>No</td>\n",
       "      <td>No</td>\n",
       "      <td>No</td>\n",
       "      <td>No</td>\n",
       "      <td>No</td>\n",
       "      <td>No</td>\n",
       "      <td>Yes</td>\n",
       "      <td>0.313</td>\n",
       "      <td>0.313</td>\n",
       "      <td>44.375519</td>\n",
       "    </tr>\n",
       "    <tr>\n",
       "      <th>81</th>\n",
       "      <td>Werther's Original Caramel</td>\n",
       "      <td>No</td>\n",
       "      <td>No</td>\n",
       "      <td>Yes</td>\n",
       "      <td>No</td>\n",
       "      <td>No</td>\n",
       "      <td>No</td>\n",
       "      <td>Yes</td>\n",
       "      <td>No</td>\n",
       "      <td>No</td>\n",
       "      <td>0.186</td>\n",
       "      <td>0.267</td>\n",
       "      <td>41.904308</td>\n",
       "    </tr>\n",
       "    <tr>\n",
       "      <th>82</th>\n",
       "      <td>Whoppers</td>\n",
       "      <td>Yes</td>\n",
       "      <td>No</td>\n",
       "      <td>No</td>\n",
       "      <td>No</td>\n",
       "      <td>No</td>\n",
       "      <td>Yes</td>\n",
       "      <td>No</td>\n",
       "      <td>No</td>\n",
       "      <td>Yes</td>\n",
       "      <td>0.872</td>\n",
       "      <td>0.848</td>\n",
       "      <td>49.524113</td>\n",
       "    </tr>\n",
       "  </tbody>\n",
       "</table>\n",
       "<p>83 rows × 13 columns</p>\n",
       "</div>"
      ],
      "text/plain": [
       "                competitorname chocolate fruity caramel peanutyalmondy nougat  \\\n",
       "id                                                                              \n",
       "0                    100 Grand       Yes     No     Yes             No     No   \n",
       "1                 3 Musketeers       Yes     No      No             No    Yes   \n",
       "2                    Air Heads        No    Yes      No             No     No   \n",
       "3                   Almond Joy       Yes     No      No            Yes     No   \n",
       "4                    Baby Ruth       Yes     No     Yes            Yes    Yes   \n",
       "..                         ...       ...    ...     ...            ...    ...   \n",
       "78                   Twizzlers        No    Yes      No             No     No   \n",
       "79                    Warheads        No    Yes      No             No     No   \n",
       "80        Welch's Fruit Snacks        No    Yes      No             No     No   \n",
       "81  Werther's Original Caramel        No     No     Yes             No     No   \n",
       "82                    Whoppers       Yes     No      No             No     No   \n",
       "\n",
       "   crispedricewafer hard  bar pluribus  sugarpercent  pricepercent  winpercent  \n",
       "id                                                                              \n",
       "0               Yes   No  Yes       No         0.732         0.860   66.971725  \n",
       "1                No   No  Yes       No         0.604         0.511   67.602936  \n",
       "2                No   No   No       No         0.906         0.511   52.341465  \n",
       "3                No   No  Yes       No         0.465         0.767   50.347546  \n",
       "4                No   No  Yes       No         0.604         0.767   56.914547  \n",
       "..              ...  ...  ...      ...           ...           ...         ...  \n",
       "78               No   No   No       No         0.220         0.116   45.466282  \n",
       "79               No  Yes   No       No         0.093         0.116   39.011898  \n",
       "80               No   No   No      Yes         0.313         0.313   44.375519  \n",
       "81               No  Yes   No       No         0.186         0.267   41.904308  \n",
       "82              Yes   No   No      Yes         0.872         0.848   49.524113  \n",
       "\n",
       "[83 rows x 13 columns]"
      ]
     },
     "execution_count": 5,
     "metadata": {},
     "output_type": "execute_result"
    }
   ],
   "source": [
    "# Print the first five rows of the data\n",
    "____ # Your code here\n",
    "candy_data"
   ]
  },
  {
   "cell_type": "markdown",
   "id": "23c600c8",
   "metadata": {
    "papermill": {
     "duration": 0.012301,
     "end_time": "2022-08-01T19:20:44.738961",
     "exception": false,
     "start_time": "2022-08-01T19:20:44.726660",
     "status": "completed"
    },
    "tags": []
   },
   "source": [
    "The dataset contains 83 rows, where each corresponds to a different candy bar.  There are 13 columns:\n",
    "- `'competitorname'` contains the name of the candy bar. \n",
    "- the next **9** columns (from `'chocolate'` to `'pluribus'`) describe the candy.  For instance, rows with chocolate candies have `\"Yes\"` in the `'chocolate'` column (and candies without chocolate have `\"No\"` in the same column).\n",
    "- `'sugarpercent'` provides some indication of the amount of sugar, where higher values signify higher sugar content.\n",
    "- `'pricepercent'` shows the price per unit, relative to the other candies in the dataset.\n",
    "- `'winpercent'` is calculated from the survey results; higher values indicate that the candy was more popular with survey respondents.\n",
    "\n",
    "Use the first five rows of the data to answer the questions below."
   ]
  },
  {
   "cell_type": "code",
   "execution_count": 6,
   "id": "7bd8dbb6",
   "metadata": {
    "execution": {
     "iopub.execute_input": "2022-08-01T19:20:44.765951Z",
     "iopub.status.busy": "2022-08-01T19:20:44.765549Z",
     "iopub.status.idle": "2022-08-01T19:20:44.785990Z",
     "shell.execute_reply": "2022-08-01T19:20:44.785075Z"
    },
    "papermill": {
     "duration": 0.036682,
     "end_time": "2022-08-01T19:20:44.788297",
     "exception": false,
     "start_time": "2022-08-01T19:20:44.751615",
     "status": "completed"
    },
    "tags": []
   },
   "outputs": [
    {
     "data": {
      "application/javascript": [
       "parent.postMessage({\"jupyterEvent\": \"custom.exercise_interaction\", \"data\": {\"outcomeType\": 1, \"valueTowardsCompletion\": 0.3333333333333333, \"interactionType\": 1, \"questionType\": 1, \"questionId\": \"2_ReviewData\", \"learnToolsVersion\": \"0.3.4\", \"failureMessage\": \"\", \"exceptionClass\": \"\", \"trace\": \"\"}}, \"*\")"
      ],
      "text/plain": [
       "<IPython.core.display.Javascript object>"
      ]
     },
     "metadata": {},
     "output_type": "display_data"
    },
    {
     "data": {
      "text/markdown": [
       "<span style=\"color:#33cc33\">Correct</span>"
      ],
      "text/plain": [
       "Correct"
      ]
     },
     "metadata": {},
     "output_type": "display_data"
    }
   ],
   "source": [
    "# Fill in the line below: Which candy was more popular with survey respondents:\n",
    "# '3 Musketeers' or 'Almond Joy'?  (Please enclose your answer in single quotes.)\n",
    "M = candy_data.loc[candy_data[\"competitorname\"] == '3 Musketeers'].winpercent.values[0]\n",
    "A = candy_data.loc[candy_data[\"competitorname\"] == 'Almond Joy'].winpercent.values[0]\n",
    "more_popular = candy_data.loc[candy_data[\"winpercent\"] == max(M, A)].competitorname.values[0]\n",
    "\n",
    "\n",
    "# Fill in the line below: Which candy has higher sugar content: 'Air Heads'\n",
    "# or 'Baby Ruth'? (Please enclose your answer in single quotes.)\n",
    "air = candy_data.loc[candy_data[\"competitorname\"] == 'Air Heads'].sugarpercent.values[0]\n",
    "baby = candy_data.loc[candy_data[\"competitorname\"] == 'Baby Ruth'].sugarpercent.values[0]\n",
    "more_sugar = candy_data.loc[candy_data[\"sugarpercent\"] == max(air, baby)].competitorname.values[0]\n",
    "\n",
    "# Check your answers\n",
    "step_2.check()"
   ]
  },
  {
   "cell_type": "code",
   "execution_count": 7,
   "id": "4056dc00",
   "metadata": {
    "execution": {
     "iopub.execute_input": "2022-08-01T19:20:44.815882Z",
     "iopub.status.busy": "2022-08-01T19:20:44.815451Z",
     "iopub.status.idle": "2022-08-01T19:20:44.820646Z",
     "shell.execute_reply": "2022-08-01T19:20:44.819368Z"
    },
    "papermill": {
     "duration": 0.021995,
     "end_time": "2022-08-01T19:20:44.823300",
     "exception": false,
     "start_time": "2022-08-01T19:20:44.801305",
     "status": "completed"
    },
    "tags": []
   },
   "outputs": [],
   "source": [
    "# Lines below will give you a hint or solution code\n",
    "#step_2.hint()\n",
    "#step_2.solution()"
   ]
  },
  {
   "cell_type": "markdown",
   "id": "2fac3f64",
   "metadata": {
    "papermill": {
     "duration": 0.012825,
     "end_time": "2022-08-01T19:20:44.849569",
     "exception": false,
     "start_time": "2022-08-01T19:20:44.836744",
     "status": "completed"
    },
    "tags": []
   },
   "source": [
    "## Step 3: The role of sugar\n",
    "\n",
    "Do people tend to prefer candies with higher sugar content?  \n",
    "\n",
    "#### Part A\n",
    "\n",
    "Create a scatter plot that shows the relationship between `'sugarpercent'` (on the horizontal x-axis) and `'winpercent'` (on the vertical y-axis).  _Don't add a regression line just yet -- you'll do that in the next step!_"
   ]
  },
  {
   "cell_type": "code",
   "execution_count": 8,
   "id": "8d14c7ca",
   "metadata": {
    "execution": {
     "iopub.execute_input": "2022-08-01T19:20:44.877986Z",
     "iopub.status.busy": "2022-08-01T19:20:44.877269Z",
     "iopub.status.idle": "2022-08-01T19:20:45.130781Z",
     "shell.execute_reply": "2022-08-01T19:20:45.129620Z"
    },
    "papermill": {
     "duration": 0.270891,
     "end_time": "2022-08-01T19:20:45.133589",
     "exception": false,
     "start_time": "2022-08-01T19:20:44.862698",
     "status": "completed"
    },
    "tags": []
   },
   "outputs": [
    {
     "data": {
      "application/javascript": [
       "parent.postMessage({\"jupyterEvent\": \"custom.exercise_interaction\", \"data\": {\"outcomeType\": 1, \"valueTowardsCompletion\": 0.3333333333333333, \"interactionType\": 1, \"questionType\": 2, \"questionId\": \"3.1_PlotBlueScatter\", \"learnToolsVersion\": \"0.3.4\", \"failureMessage\": \"\", \"exceptionClass\": \"\", \"trace\": \"\"}}, \"*\")"
      ],
      "text/plain": [
       "<IPython.core.display.Javascript object>"
      ]
     },
     "metadata": {},
     "output_type": "display_data"
    },
    {
     "data": {
      "text/markdown": [
       "<span style=\"color:#33cc33\">Correct</span>"
      ],
      "text/plain": [
       "Correct"
      ]
     },
     "metadata": {},
     "output_type": "display_data"
    },
    {
     "data": {
      "image/png": "[encoded data removed]",
      "text/plain": [
       "<Figure size 432x288 with 1 Axes>"
      ]
     },
     "metadata": {
      "needs_background": "light"
     },
     "output_type": "display_data"
    }
   ],
   "source": [
    "# Scatter plot showing the relationship between 'sugarpercent' and 'winpercent'\n",
    "____ # Your code here\n",
    "sns.scatterplot(x=candy_data['sugarpercent'], y=candy_data['winpercent'])\n",
    "# Check your answer\n",
    "step_3.a.check()\n",
    "plt.show()"
   ]
  },
  {
   "cell_type": "code",
   "execution_count": 9,
   "id": "66992bb7",
   "metadata": {
    "execution": {
     "iopub.execute_input": "2022-08-01T19:20:45.163129Z",
     "iopub.status.busy": "2022-08-01T19:20:45.162418Z",
     "iopub.status.idle": "2022-08-01T19:20:45.167323Z",
     "shell.execute_reply": "2022-08-01T19:20:45.166206Z"
    },
    "papermill": {
     "duration": 0.022588,
     "end_time": "2022-08-01T19:20:45.169933",
     "exception": false,
     "start_time": "2022-08-01T19:20:45.147345",
     "status": "completed"
    },
    "tags": []
   },
   "outputs": [],
   "source": [
    "# Lines below will give you a hint or solution code\n",
    "#step_3.a.hint()\n",
    "#step_3.a.solution_plot()"
   ]
  },
  {
   "cell_type": "markdown",
   "id": "7452376d",
   "metadata": {
    "papermill": {
     "duration": 0.013449,
     "end_time": "2022-08-01T19:20:45.197304",
     "exception": false,
     "start_time": "2022-08-01T19:20:45.183855",
     "status": "completed"
    },
    "tags": []
   },
   "source": [
    "#### Part B\n",
    "\n",
    "Does the scatter plot show a **strong** correlation between the two variables?  If so, are candies with more sugar relatively more or less popular with the survey respondents?"
   ]
  },
  {
   "cell_type": "code",
   "execution_count": 10,
   "id": "0df51c2b",
   "metadata": {
    "execution": {
     "iopub.execute_input": "2022-08-01T19:20:45.226637Z",
     "iopub.status.busy": "2022-08-01T19:20:45.226173Z",
     "iopub.status.idle": "2022-08-01T19:20:45.231679Z",
     "shell.execute_reply": "2022-08-01T19:20:45.230395Z"
    },
    "papermill": {
     "duration": 0.022955,
     "end_time": "2022-08-01T19:20:45.234096",
     "exception": false,
     "start_time": "2022-08-01T19:20:45.211141",
     "status": "completed"
    },
    "tags": []
   },
   "outputs": [],
   "source": [
    "#step_3.b.hint()"
   ]
  },
  {
   "cell_type": "code",
   "execution_count": 11,
   "id": "bea6fb63",
   "metadata": {
    "execution": {
     "iopub.execute_input": "2022-08-01T19:20:45.264148Z",
     "iopub.status.busy": "2022-08-01T19:20:45.263311Z",
     "iopub.status.idle": "2022-08-01T19:20:45.271950Z",
     "shell.execute_reply": "2022-08-01T19:20:45.271092Z"
    },
    "papermill": {
     "duration": 0.026237,
     "end_time": "2022-08-01T19:20:45.274329",
     "exception": false,
     "start_time": "2022-08-01T19:20:45.248092",
     "status": "completed"
    },
    "tags": []
   },
   "outputs": [
    {
     "data": {
      "application/javascript": [
       "parent.postMessage({\"jupyterEvent\": \"custom.exercise_interaction\", \"data\": {\"interactionType\": 3, \"questionType\": 4, \"questionId\": \"3.2_ThinkBlueScatter\", \"learnToolsVersion\": \"0.3.4\", \"valueTowardsCompletion\": 0.0, \"failureMessage\": \"\", \"exceptionClass\": \"\", \"trace\": \"\", \"outcomeType\": 4}}, \"*\")"
      ],
      "text/plain": [
       "<IPython.core.display.Javascript object>"
      ]
     },
     "metadata": {},
     "output_type": "display_data"
    },
    {
     "data": {
      "text/markdown": [
       "<span style=\"color:#33cc99\">Solution:</span> The scatter plot does not show a strong correlation between the two variables. Since there is no clear relationship between the two variables, this tells us that sugar content does not play a strong role in candy popularity."
      ],
      "text/plain": [
       "Solution: The scatter plot does not show a strong correlation between the two variables. Since there is no clear relationship between the two variables, this tells us that sugar content does not play a strong role in candy popularity."
      ]
     },
     "metadata": {},
     "output_type": "display_data"
    }
   ],
   "source": [
    "# Check your answer (Run this code cell to receive credit!)\n",
    "step_3.b.solution()"
   ]
  },
  {
   "cell_type": "markdown",
   "id": "fba6ea21",
   "metadata": {
    "papermill": {
     "duration": 0.014292,
     "end_time": "2022-08-01T19:20:45.303030",
     "exception": false,
     "start_time": "2022-08-01T19:20:45.288738",
     "status": "completed"
    },
    "tags": []
   },
   "source": [
    "## Step 4: Take a closer look\n",
    "\n",
    "#### Part A\n",
    "\n",
    "Create the same scatter plot you created in **Step 3**, but now with a regression line!"
   ]
  },
  {
   "cell_type": "code",
   "execution_count": 12,
   "id": "0ab87d07",
   "metadata": {
    "execution": {
     "iopub.execute_input": "2022-08-01T19:20:45.333626Z",
     "iopub.status.busy": "2022-08-01T19:20:45.332775Z",
     "iopub.status.idle": "2022-08-01T19:20:45.668763Z",
     "shell.execute_reply": "2022-08-01T19:20:45.667397Z"
    },
    "papermill": {
     "duration": 0.354281,
     "end_time": "2022-08-01T19:20:45.671505",
     "exception": false,
     "start_time": "2022-08-01T19:20:45.317224",
     "status": "completed"
    },
    "tags": []
   },
   "outputs": [
    {
     "data": {
      "application/javascript": [
       "parent.postMessage({\"jupyterEvent\": \"custom.exercise_interaction\", \"data\": {\"outcomeType\": 1, \"valueTowardsCompletion\": 0.3333333333333333, \"interactionType\": 1, \"questionType\": 2, \"questionId\": \"4.1_PlotBlueReg\", \"learnToolsVersion\": \"0.3.4\", \"failureMessage\": \"\", \"exceptionClass\": \"\", \"trace\": \"\"}}, \"*\")"
      ],
      "text/plain": [
       "<IPython.core.display.Javascript object>"
      ]
     },
     "metadata": {},
     "output_type": "display_data"
    },
    {
     "data": {
      "text/markdown": [
       "<span style=\"color:#33cc33\">Correct</span>"
      ],
      "text/plain": [
       "Correct"
      ]
     },
     "metadata": {},
     "output_type": "display_data"
    },
    {
     "data": {
      "image/png": "[encoded data removed]",
      "text/plain": [
       "<Figure size 432x288 with 1 Axes>"
      ]
     },
     "metadata": {
      "needs_background": "light"
     },
     "output_type": "display_data"
    }
   ],
   "source": [
    "# Scatter plot w/ regression line showing the relationship between 'sugarpercent' and 'winpercent'\n",
    "____ # Your code here\n",
    "sns.regplot(x=candy_data['sugarpercent'], y=candy_data['winpercent'])\n",
    "# Check your answer\n",
    "step_4.a.check()\n",
    "plt.show()"
   ]
  },
  {
   "cell_type": "code",
   "execution_count": 13,
   "id": "b4c1822d",
   "metadata": {
    "execution": {
     "iopub.execute_input": "2022-08-01T19:20:45.704369Z",
     "iopub.status.busy": "2022-08-01T19:20:45.703378Z",
     "iopub.status.idle": "2022-08-01T19:20:45.707619Z",
     "shell.execute_reply": "2022-08-01T19:20:45.706796Z"
    },
    "papermill": {
     "duration": 0.022762,
     "end_time": "2022-08-01T19:20:45.709906",
     "exception": false,
     "start_time": "2022-08-01T19:20:45.687144",
     "status": "completed"
    },
    "tags": []
   },
   "outputs": [],
   "source": [
    "# Lines below will give you a hint or solution code\n",
    "#step_4.a.hint()\n",
    "#step_4.a.solution_plot()"
   ]
  },
  {
   "cell_type": "markdown",
   "id": "694f8c62",
   "metadata": {
    "papermill": {
     "duration": 0.014463,
     "end_time": "2022-08-01T19:20:45.739338",
     "exception": false,
     "start_time": "2022-08-01T19:20:45.724875",
     "status": "completed"
    },
    "tags": []
   },
   "source": [
    "#### Part B\n",
    "\n",
    "According to the plot above, is there a **slight** correlation between `'winpercent'` and `'sugarpercent'`?  What does this tell you about the candy that people tend to prefer?"
   ]
  },
  {
   "cell_type": "code",
   "execution_count": 14,
   "id": "927043e7",
   "metadata": {
    "execution": {
     "iopub.execute_input": "2022-08-01T19:20:45.771391Z",
     "iopub.status.busy": "2022-08-01T19:20:45.770626Z",
     "iopub.status.idle": "2022-08-01T19:20:45.774998Z",
     "shell.execute_reply": "2022-08-01T19:20:45.774135Z"
    },
    "papermill": {
     "duration": 0.022999,
     "end_time": "2022-08-01T19:20:45.777309",
     "exception": false,
     "start_time": "2022-08-01T19:20:45.754310",
     "status": "completed"
    },
    "tags": []
   },
   "outputs": [],
   "source": [
    "#step_4.b.hint()"
   ]
  },
  {
   "cell_type": "code",
   "execution_count": 15,
   "id": "81e5f9f6",
   "metadata": {
    "execution": {
     "iopub.execute_input": "2022-08-01T19:20:45.809738Z",
     "iopub.status.busy": "2022-08-01T19:20:45.808866Z",
     "iopub.status.idle": "2022-08-01T19:20:45.818150Z",
     "shell.execute_reply": "2022-08-01T19:20:45.816988Z"
    },
    "papermill": {
     "duration": 0.028301,
     "end_time": "2022-08-01T19:20:45.820720",
     "exception": false,
     "start_time": "2022-08-01T19:20:45.792419",
     "status": "completed"
    },
    "tags": []
   },
   "outputs": [
    {
     "data": {
      "application/javascript": [
       "parent.postMessage({\"jupyterEvent\": \"custom.exercise_interaction\", \"data\": {\"interactionType\": 3, \"questionType\": 4, \"questionId\": \"4.2_ThinkBlueReg\", \"learnToolsVersion\": \"0.3.4\", \"valueTowardsCompletion\": 0.0, \"failureMessage\": \"\", \"exceptionClass\": \"\", \"trace\": \"\", \"outcomeType\": 4}}, \"*\")"
      ],
      "text/plain": [
       "<IPython.core.display.Javascript object>"
      ]
     },
     "metadata": {},
     "output_type": "display_data"
    },
    {
     "data": {
      "text/markdown": [
       "<span style=\"color:#33cc99\">Solution:</span> Since the regression line has a slightly positive slope, this tells us that there is a slightly positive correlation between `'winpercent'` and `'sugarpercent'`. Thus, people have a slight preference for candies containing relatively more sugar."
      ],
      "text/plain": [
       "Solution: Since the regression line has a slightly positive slope, this tells us that there is a slightly positive correlation between `'winpercent'` and `'sugarpercent'`. Thus, people have a slight preference for candies containing relatively more sugar."
      ]
     },
     "metadata": {},
     "output_type": "display_data"
    }
   ],
   "source": [
    "# Check your answer (Run this code cell to receive credit!)\n",
    "step_4.b.solution()"
   ]
  },
  {
   "cell_type": "markdown",
   "id": "0aebbf27",
   "metadata": {
    "papermill": {
     "duration": 0.014916,
     "end_time": "2022-08-01T19:20:45.850848",
     "exception": false,
     "start_time": "2022-08-01T19:20:45.835932",
     "status": "completed"
    },
    "tags": []
   },
   "source": [
    "## Step 5: Chocolate!\n",
    "\n",
    "In the code cell below, create a scatter plot to show the relationship between `'pricepercent'` (on the horizontal x-axis) and `'winpercent'` (on the vertical y-axis). Use the `'chocolate'` column to color-code the points.  _Don't add any regression lines just yet -- you'll do that in the next step!_"
   ]
  },
  {
   "cell_type": "code",
   "execution_count": 16,
   "id": "a49c4043",
   "metadata": {
    "execution": {
     "iopub.execute_input": "2022-08-01T19:20:45.883569Z",
     "iopub.status.busy": "2022-08-01T19:20:45.882923Z",
     "iopub.status.idle": "2022-08-01T19:20:46.124112Z",
     "shell.execute_reply": "2022-08-01T19:20:46.123268Z"
    },
    "papermill": {
     "duration": 0.260639,
     "end_time": "2022-08-01T19:20:46.126735",
     "exception": false,
     "start_time": "2022-08-01T19:20:45.866096",
     "status": "completed"
    },
    "tags": []
   },
   "outputs": [
    {
     "data": {
      "application/javascript": [
       "parent.postMessage({\"jupyterEvent\": \"custom.exercise_interaction\", \"data\": {\"outcomeType\": 1, \"valueTowardsCompletion\": 0.3333333333333333, \"interactionType\": 1, \"questionType\": 2, \"questionId\": \"5_ColorScatter\", \"learnToolsVersion\": \"0.3.4\", \"failureMessage\": \"\", \"exceptionClass\": \"\", \"trace\": \"\"}}, \"*\")"
      ],
      "text/plain": [
       "<IPython.core.display.Javascript object>"
      ]
     },
     "metadata": {},
     "output_type": "display_data"
    },
    {
     "data": {
      "text/markdown": [
       "<span style=\"color:#33cc33\">Correct</span>"
      ],
      "text/plain": [
       "Correct"
      ]
     },
     "metadata": {},
     "output_type": "display_data"
    },
    {
     "data": {
      "image/png": "[encoded data removed]",
      "text/plain": [
       "<Figure size 432x288 with 1 Axes>"
      ]
     },
     "metadata": {
      "needs_background": "light"
     },
     "output_type": "display_data"
    }
   ],
   "source": [
    "# Scatter plot showing the relationship between 'pricepercent', 'winpercent', and 'chocolate'\n",
    "____ # Your code here\n",
    "sns.scatterplot(x=candy_data['pricepercent'], y=candy_data['winpercent'], hue=candy_data['chocolate'])\n",
    "# Check your answer\n",
    "step_5.check()\n",
    "plt.show()"
   ]
  },
  {
   "cell_type": "code",
   "execution_count": 17,
   "id": "dd99e823",
   "metadata": {
    "execution": {
     "iopub.execute_input": "2022-08-01T19:20:46.161626Z",
     "iopub.status.busy": "2022-08-01T19:20:46.160473Z",
     "iopub.status.idle": "2022-08-01T19:20:46.164991Z",
     "shell.execute_reply": "2022-08-01T19:20:46.164144Z"
    },
    "papermill": {
     "duration": 0.02438,
     "end_time": "2022-08-01T19:20:46.167415",
     "exception": false,
     "start_time": "2022-08-01T19:20:46.143035",
     "status": "completed"
    },
    "tags": []
   },
   "outputs": [],
   "source": [
    "# Lines below will give you a hint or solution code\n",
    "#step_5.hint()\n",
    "#step_5.solution_plot()"
   ]
  },
  {
   "cell_type": "markdown",
   "id": "ea3f8bca",
   "metadata": {
    "papermill": {
     "duration": 0.015913,
     "end_time": "2022-08-01T19:20:46.199590",
     "exception": false,
     "start_time": "2022-08-01T19:20:46.183677",
     "status": "completed"
    },
    "tags": []
   },
   "source": [
    "Can you see any interesting patterns in the scatter plot?  We'll investigate this plot further  by adding regression lines in the next step!\n",
    "\n",
    "## Step 6: Investigate chocolate\n",
    "\n",
    "#### Part A\n",
    "\n",
    "Create the same scatter plot you created in **Step 5**, but now with two regression lines, corresponding to (1) chocolate candies and (2) candies without chocolate."
   ]
  },
  {
   "cell_type": "code",
   "execution_count": 18,
   "id": "aa09ce07",
   "metadata": {
    "execution": {
     "iopub.execute_input": "2022-08-01T19:20:46.234049Z",
     "iopub.status.busy": "2022-08-01T19:20:46.233288Z",
     "iopub.status.idle": "2022-08-01T19:20:46.832067Z",
     "shell.execute_reply": "2022-08-01T19:20:46.830856Z"
    },
    "papermill": {
     "duration": 0.618978,
     "end_time": "2022-08-01T19:20:46.834762",
     "exception": false,
     "start_time": "2022-08-01T19:20:46.215784",
     "status": "completed"
    },
    "tags": []
   },
   "outputs": [
    {
     "data": {
      "application/javascript": [
       "parent.postMessage({\"jupyterEvent\": \"custom.exercise_interaction\", \"data\": {\"outcomeType\": 1, \"valueTowardsCompletion\": 0.3333333333333333, \"interactionType\": 1, \"questionType\": 2, \"questionId\": \"6.1_PlotColorReg\", \"learnToolsVersion\": \"0.3.4\", \"failureMessage\": \"\", \"exceptionClass\": \"\", \"trace\": \"\"}}, \"*\")"
      ],
      "text/plain": [
       "<IPython.core.display.Javascript object>"
      ]
     },
     "metadata": {},
     "output_type": "display_data"
    },
    {
     "data": {
      "text/markdown": [
       "<span style=\"color:#33cc33\">Correct</span>"
      ],
      "text/plain": [
       "Correct"
      ]
     },
     "metadata": {},
     "output_type": "display_data"
    },
    {
     "data": {
      "image/png": "[encoded data removed]",
      "text/plain": [
       "<Figure size 416.375x360 with 1 Axes>"
      ]
     },
     "metadata": {
      "needs_background": "light"
     },
     "output_type": "display_data"
    }
   ],
   "source": [
    "# Color-coded scatter plot w/ regression lines\n",
    "____ # Your code here\n",
    "sns.lmplot(x='pricepercent', y='winpercent', hue='chocolate', data=candy_data)\n",
    "# Check your answer\n",
    "step_6.a.check()"
   ]
  },
  {
   "cell_type": "code",
   "execution_count": 19,
   "id": "7993a848",
   "metadata": {
    "execution": {
     "iopub.execute_input": "2022-08-01T19:20:46.871667Z",
     "iopub.status.busy": "2022-08-01T19:20:46.871238Z",
     "iopub.status.idle": "2022-08-01T19:20:46.876424Z",
     "shell.execute_reply": "2022-08-01T19:20:46.875513Z"
    },
    "papermill": {
     "duration": 0.026758,
     "end_time": "2022-08-01T19:20:46.878865",
     "exception": false,
     "start_time": "2022-08-01T19:20:46.852107",
     "status": "completed"
    },
    "tags": []
   },
   "outputs": [],
   "source": [
    "# Lines below will give you a hint or solution code\n",
    "#step_6.a.hint()\n",
    "#step_6.a.solution_plot()"
   ]
  },
  {
   "cell_type": "markdown",
   "id": "8a7e2802",
   "metadata": {
    "papermill": {
     "duration": 0.01662,
     "end_time": "2022-08-01T19:20:46.912861",
     "exception": false,
     "start_time": "2022-08-01T19:20:46.896241",
     "status": "completed"
    },
    "tags": []
   },
   "source": [
    "#### Part B\n",
    "\n",
    "Using the regression lines, what conclusions can you draw about the effects of chocolate and price on candy popularity?"
   ]
  },
  {
   "cell_type": "code",
   "execution_count": 20,
   "id": "3a7e00f5",
   "metadata": {
    "execution": {
     "iopub.execute_input": "2022-08-01T19:20:46.949231Z",
     "iopub.status.busy": "2022-08-01T19:20:46.948055Z",
     "iopub.status.idle": "2022-08-01T19:20:46.953933Z",
     "shell.execute_reply": "2022-08-01T19:20:46.952656Z"
    },
    "papermill": {
     "duration": 0.026726,
     "end_time": "2022-08-01T19:20:46.956630",
     "exception": false,
     "start_time": "2022-08-01T19:20:46.929904",
     "status": "completed"
    },
    "tags": []
   },
   "outputs": [],
   "source": [
    "#step_6.b.hint()"
   ]
  },
  {
   "cell_type": "code",
   "execution_count": 21,
   "id": "403facf6",
   "metadata": {
    "execution": {
     "iopub.execute_input": "2022-08-01T19:20:46.992902Z",
     "iopub.status.busy": "2022-08-01T19:20:46.992499Z",
     "iopub.status.idle": "2022-08-01T19:20:47.002759Z",
     "shell.execute_reply": "2022-08-01T19:20:47.001577Z"
    },
    "papermill": {
     "duration": 0.031504,
     "end_time": "2022-08-01T19:20:47.005411",
     "exception": false,
     "start_time": "2022-08-01T19:20:46.973907",
     "status": "completed"
    },
    "tags": []
   },
   "outputs": [
    {
     "data": {
      "application/javascript": [
       "parent.postMessage({\"jupyterEvent\": \"custom.exercise_interaction\", \"data\": {\"interactionType\": 3, \"questionType\": 4, \"questionId\": \"6.2_ThinkColorReg\", \"learnToolsVersion\": \"0.3.4\", \"valueTowardsCompletion\": 0.0, \"failureMessage\": \"\", \"exceptionClass\": \"\", \"trace\": \"\", \"outcomeType\": 4}}, \"*\")"
      ],
      "text/plain": [
       "<IPython.core.display.Javascript object>"
      ]
     },
     "metadata": {},
     "output_type": "display_data"
    },
    {
     "data": {
      "text/markdown": [
       "<span style=\"color:#33cc99\">Solution:</span> We'll begin with the regression line for chocolate candies. Since this line has a slightly positive slope, we can say that more expensive chocolate candies tend to be more popular (than relatively cheaper chocolate candies).  Likewise, since the regression line for candies without chocolate has a negative slope, we can say that if candies don't contain chocolate, they tend to be more popular when they are cheaper.  One important note, however, is that the dataset is quite small -- so we shouldn't invest too much trust in these patterns!  To inspire more confidence in the results, we should add more candies to the dataset."
      ],
      "text/plain": [
       "Solution: We'll begin with the regression line for chocolate candies. Since this line has a slightly positive slope, we can say that more expensive chocolate candies tend to be more popular (than relatively cheaper chocolate candies).  Likewise, since the regression line for candies without chocolate has a negative slope, we can say that if candies don't contain chocolate, they tend to be more popular when they are cheaper.  One important note, however, is that the dataset is quite small -- so we shouldn't invest too much trust in these patterns!  To inspire more confidence in the results, we should add more candies to the dataset."
      ]
     },
     "metadata": {},
     "output_type": "display_data"
    }
   ],
   "source": [
    "# Check your answer (Run this code cell to receive credit!)\n",
    "step_6.b.solution()"
   ]
  },
  {
   "cell_type": "markdown",
   "id": "e427dced",
   "metadata": {
    "papermill": {
     "duration": 0.017099,
     "end_time": "2022-08-01T19:20:47.040203",
     "exception": false,
     "start_time": "2022-08-01T19:20:47.023104",
     "status": "completed"
    },
    "tags": []
   },
   "source": [
    "## Step 7: Everybody loves chocolate.\n",
    "\n",
    "#### Part A\n",
    "\n",
    "Create a categorical scatter plot to highlight the relationship between `'chocolate'` and `'winpercent'`.  Put `'chocolate'` on the (horizontal) x-axis, and `'winpercent'` on the (vertical) y-axis."
   ]
  },
  {
   "cell_type": "code",
   "execution_count": 22,
   "id": "a38b40d8",
   "metadata": {
    "execution": {
     "iopub.execute_input": "2022-08-01T19:20:47.077366Z",
     "iopub.status.busy": "2022-08-01T19:20:47.076973Z",
     "iopub.status.idle": "2022-08-01T19:20:47.280043Z",
     "shell.execute_reply": "2022-08-01T19:20:47.278802Z"
    },
    "papermill": {
     "duration": 0.225098,
     "end_time": "2022-08-01T19:20:47.282849",
     "exception": false,
     "start_time": "2022-08-01T19:20:47.057751",
     "status": "completed"
    },
    "tags": []
   },
   "outputs": [
    {
     "data": {
      "application/javascript": [
       "parent.postMessage({\"jupyterEvent\": \"custom.exercise_interaction\", \"data\": {\"outcomeType\": 1, \"valueTowardsCompletion\": 0.3333333333333333, \"interactionType\": 1, \"questionType\": 2, \"questionId\": \"7.1_PlotSwarm\", \"learnToolsVersion\": \"0.3.4\", \"failureMessage\": \"\", \"exceptionClass\": \"\", \"trace\": \"\"}}, \"*\")"
      ],
      "text/plain": [
       "<IPython.core.display.Javascript object>"
      ]
     },
     "metadata": {},
     "output_type": "display_data"
    },
    {
     "data": {
      "text/markdown": [
       "<span style=\"color:#33cc33\">Correct</span>"
      ],
      "text/plain": [
       "Correct"
      ]
     },
     "metadata": {},
     "output_type": "display_data"
    },
    {
     "data": {
      "image/png": "[encoded data removed]",
      "text/plain": [
       "<Figure size 432x288 with 1 Axes>"
      ]
     },
     "metadata": {
      "needs_background": "light"
     },
     "output_type": "display_data"
    }
   ],
   "source": [
    "# Scatter plot showing the relationship between 'chocolate' and 'winpercent'\n",
    "____ # Your code here\n",
    "sns.swarmplot(x=candy_data['chocolate'], y=candy_data['winpercent'])\n",
    "# Check your answer\n",
    "step_7.a.check()\n",
    "plt.show()"
   ]
  },
  {
   "cell_type": "code",
   "execution_count": 23,
   "id": "85857f65",
   "metadata": {
    "execution": {
     "iopub.execute_input": "2022-08-01T19:20:47.321527Z",
     "iopub.status.busy": "2022-08-01T19:20:47.320834Z",
     "iopub.status.idle": "2022-08-01T19:20:47.325384Z",
     "shell.execute_reply": "2022-08-01T19:20:47.324510Z"
    },
    "papermill": {
     "duration": 0.026677,
     "end_time": "2022-08-01T19:20:47.327783",
     "exception": false,
     "start_time": "2022-08-01T19:20:47.301106",
     "status": "completed"
    },
    "tags": []
   },
   "outputs": [],
   "source": [
    "# Lines below will give you a hint or solution code\n",
    "#step_7.a.hint()\n",
    "#step_7.a.solution_plot()"
   ]
  },
  {
   "cell_type": "markdown",
   "id": "f52208be",
   "metadata": {
    "papermill": {
     "duration": 0.018168,
     "end_time": "2022-08-01T19:20:47.364130",
     "exception": false,
     "start_time": "2022-08-01T19:20:47.345962",
     "status": "completed"
    },
    "tags": []
   },
   "source": [
    "#### Part B\n",
    "\n",
    "You decide to dedicate a section of your report to the fact that chocolate candies tend to be more popular than candies without chocolate.  Which plot is more appropriate to tell this story: the plot from **Step 6**, or the plot from **Step 7**?"
   ]
  },
  {
   "cell_type": "code",
   "execution_count": 24,
   "id": "2115839c",
   "metadata": {
    "execution": {
     "iopub.execute_input": "2022-08-01T19:20:47.402517Z",
     "iopub.status.busy": "2022-08-01T19:20:47.402067Z",
     "iopub.status.idle": "2022-08-01T19:20:47.407284Z",
     "shell.execute_reply": "2022-08-01T19:20:47.405872Z"
    },
    "papermill": {
     "duration": 0.027617,
     "end_time": "2022-08-01T19:20:47.409999",
     "exception": false,
     "start_time": "2022-08-01T19:20:47.382382",
     "status": "completed"
    },
    "tags": []
   },
   "outputs": [],
   "source": [
    "#step_7.b.hint()"
   ]
  },
  {
   "cell_type": "code",
   "execution_count": 25,
   "id": "2b92ab65",
   "metadata": {
    "execution": {
     "iopub.execute_input": "2022-08-01T19:20:47.448717Z",
     "iopub.status.busy": "2022-08-01T19:20:47.448233Z",
     "iopub.status.idle": "2022-08-01T19:20:47.457194Z",
     "shell.execute_reply": "2022-08-01T19:20:47.456013Z"
    },
    "papermill": {
     "duration": 0.031199,
     "end_time": "2022-08-01T19:20:47.459621",
     "exception": false,
     "start_time": "2022-08-01T19:20:47.428422",
     "status": "completed"
    },
    "tags": []
   },
   "outputs": [
    {
     "data": {
      "application/javascript": [
       "parent.postMessage({\"jupyterEvent\": \"custom.exercise_interaction\", \"data\": {\"interactionType\": 3, \"questionType\": 4, \"questionId\": \"7.2_ThinkSwarm\", \"learnToolsVersion\": \"0.3.4\", \"valueTowardsCompletion\": 0.0, \"failureMessage\": \"\", \"exceptionClass\": \"\", \"trace\": \"\", \"outcomeType\": 4}}, \"*\")"
      ],
      "text/plain": [
       "<IPython.core.display.Javascript object>"
      ]
     },
     "metadata": {},
     "output_type": "display_data"
    },
    {
     "data": {
      "text/markdown": [
       "<span style=\"color:#33cc99\">Solution:</span> In this case, the categorical scatter plot from **Step 7** is the more appropriate plot. While both plots tell the desired story, the plot from **Step 6** conveys far more information that could distract from the main point."
      ],
      "text/plain": [
       "Solution: In this case, the categorical scatter plot from **Step 7** is the more appropriate plot. While both plots tell the desired story, the plot from **Step 6** conveys far more information that could distract from the main point."
      ]
     },
     "metadata": {},
     "output_type": "display_data"
    }
   ],
   "source": [
    "# Check your answer (Run this code cell to receive credit!)\n",
    "step_7.b.solution()"
   ]
  },
  {
   "cell_type": "markdown",
   "id": "e69e0461",
   "metadata": {
    "papermill": {
     "duration": 0.019032,
     "end_time": "2022-08-01T19:20:47.497409",
     "exception": false,
     "start_time": "2022-08-01T19:20:47.478377",
     "status": "completed"
    },
    "tags": []
   },
   "source": [
    "## Keep going\n",
    "\n",
    "Explore **[histograms and density plots](https://www.kaggle.com/alexisbcook/distributions)**."
   ]
  },
  {
   "cell_type": "markdown",
   "id": "52f3d56d",
   "metadata": {
    "papermill": {
     "duration": 0.018415,
     "end_time": "2022-08-01T19:20:47.534880",
     "exception": false,
     "start_time": "2022-08-01T19:20:47.516465",
     "status": "completed"
    },
    "tags": []
   },
   "source": [
    "---\n",
    "\n",
    "\n",
    "\n",
    "\n",
    "*Have questions or comments? Visit the [course discussion forum](https://www.kaggle.com/learn/data-visualization/discussion) to chat with other learners.*"
   ]
  }
 ],
 "metadata": {
  "kernelspec": {
   "display_name": "Python 3",
   "language": "python",
   "name": "python3"
  },
  "language_info": {
   "codemirror_mode": {
    "name": "ipython",
    "version": 3
   },
   "file_extension": ".py",
   "mimetype": "text/x-python",
   "name": "python",
   "nbconvert_exporter": "python",
   "pygments_lexer": "ipython3",
   "version": "3.7.12"
  },
  "papermill": {
   "default_parameters": {},
   "duration": 16.448833,
   "end_time": "2022-08-01T19:20:48.276794",
   "environment_variables": {},
   "exception": null,
   "input_path": "__notebook__.ipynb",
   "output_path": "__notebook__.ipynb",
   "parameters": {},
   "start_time": "2022-08-01T19:20:31.827961",
   "version": "2.3.4"
  }
 },
 "nbformat": 4,
 "nbformat_minor": 5
}
