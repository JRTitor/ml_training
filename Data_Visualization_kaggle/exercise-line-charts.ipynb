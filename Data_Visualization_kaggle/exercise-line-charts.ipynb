{
 "cells": [
  {
   "cell_type": "markdown",
   "id": "ee3a8816",
   "metadata": {
    "papermill": {
     "duration": 0.008699,
     "end_time": "2022-08-01T16:17:21.184230",
     "exception": false,
     "start_time": "2022-08-01T16:17:21.175531",
     "status": "completed"
    },
    "tags": []
   },
   "source": [
    "**This notebook is an exercise in the [Data Visualization](https://www.kaggle.com/learn/data-visualization) course.  You can reference the tutorial at [this link](https://www.kaggle.com/alexisbcook/line-charts).**\n",
    "\n",
    "---\n"
   ]
  },
  {
   "cell_type": "markdown",
   "id": "c7693f53",
   "metadata": {
    "papermill": {
     "duration": 0.005907,
     "end_time": "2022-08-01T16:17:21.196967",
     "exception": false,
     "start_time": "2022-08-01T16:17:21.191060",
     "status": "completed"
    },
    "tags": []
   },
   "source": [
    "In this exercise, you will use your new knowledge to propose a solution to a real-world scenario. To succeed, you will need to import data into Python, answer questions using the data, and generate **line charts** to understand patterns in the data.\n",
    "\n",
    "## Scenario\n",
    "\n",
    "You have recently been hired to manage the museums in the City of Los Angeles. Your first project focuses on the four museums pictured in the images below.\n",
    "\n",
    "![ex1_museums](https://i.imgur.com/pFYL8J1.png)\n",
    "\n",
    "You will leverage data from the Los Angeles [Data Portal](https://data.lacity.org/) that tracks monthly visitors to each museum.  \n",
    "\n",
    "![ex1_xlsx](https://i.imgur.com/mGWYlym.png)\n",
    "\n",
    "## Setup\n",
    "\n",
    "Run the next cell to import and configure the Python libraries that you need to complete the exercise."
   ]
  },
  {
   "cell_type": "code",
   "execution_count": 1,
   "id": "084d7595",
   "metadata": {
    "execution": {
     "iopub.execute_input": "2022-08-01T16:17:21.212131Z",
     "iopub.status.busy": "2022-08-01T16:17:21.211530Z",
     "iopub.status.idle": "2022-08-01T16:17:22.358124Z",
     "shell.execute_reply": "2022-08-01T16:17:22.356930Z"
    },
    "papermill": {
     "duration": 1.157942,
     "end_time": "2022-08-01T16:17:22.361239",
     "exception": false,
     "start_time": "2022-08-01T16:17:21.203297",
     "status": "completed"
    },
    "tags": []
   },
   "outputs": [
    {
     "name": "stdout",
     "output_type": "stream",
     "text": [
      "Setup Complete\n"
     ]
    }
   ],
   "source": [
    "import pandas as pd\n",
    "pd.plotting.register_matplotlib_converters()\n",
    "import matplotlib.pyplot as plt\n",
    "%matplotlib inline\n",
    "import seaborn as sns\n",
    "print(\"Setup Complete\")"
   ]
  },
  {
   "cell_type": "markdown",
   "id": "842c2cd3",
   "metadata": {
    "papermill": {
     "duration": 0.006308,
     "end_time": "2022-08-01T16:17:22.374513",
     "exception": false,
     "start_time": "2022-08-01T16:17:22.368205",
     "status": "completed"
    },
    "tags": []
   },
   "source": [
    "The questions below will give you feedback on your work. Run the following cell to set up the feedback system."
   ]
  },
  {
   "cell_type": "code",
   "execution_count": 2,
   "id": "03c032b1",
   "metadata": {
    "execution": {
     "iopub.execute_input": "2022-08-01T16:17:22.391245Z",
     "iopub.status.busy": "2022-08-01T16:17:22.389944Z",
     "iopub.status.idle": "2022-08-01T16:17:22.457360Z",
     "shell.execute_reply": "2022-08-01T16:17:22.455641Z"
    },
    "papermill": {
     "duration": 0.078901,
     "end_time": "2022-08-01T16:17:22.460093",
     "exception": false,
     "start_time": "2022-08-01T16:17:22.381192",
     "status": "completed"
    },
    "tags": []
   },
   "outputs": [
    {
     "name": "stdout",
     "output_type": "stream",
     "text": [
      "Setup Complete\n"
     ]
    }
   ],
   "source": [
    "# Set up code checking\n",
    "import os\n",
    "if not os.path.exists(\"../input/museum_visitors.csv\"):\n",
    "    os.symlink(\"../input/data-for-datavis/museum_visitors.csv\", \"../input/museum_visitors.csv\") \n",
    "from learntools.core import binder\n",
    "binder.bind(globals())\n",
    "from learntools.data_viz_to_coder.ex2 import *\n",
    "print(\"Setup Complete\")"
   ]
  },
  {
   "cell_type": "markdown",
   "id": "f9bfae09",
   "metadata": {
    "papermill": {
     "duration": 0.006115,
     "end_time": "2022-08-01T16:17:22.472876",
     "exception": false,
     "start_time": "2022-08-01T16:17:22.466761",
     "status": "completed"
    },
    "tags": []
   },
   "source": [
    "## Step 1: Load the data\n",
    "\n",
    "Your first assignment is to read the LA Museum Visitors data file into `museum_data`.  Note that:\n",
    "- The filepath to the dataset is stored as `museum_filepath`.  Please **do not** change the provided value of the filepath.\n",
    "- The name of the column to use as row labels is `\"Date\"`.  (This can be seen in cell A1 when the file is opened in Excel.)\n",
    "\n",
    "To help with this, you may find it useful to revisit some relevant code from the tutorial, which we have pasted below:\n",
    "\n",
    "```python\n",
    "# Path of the file to read\n",
    "spotify_filepath = \"../input/spotify.csv\"\n",
    "\n",
    "# Read the file into a variable spotify_data\n",
    "spotify_data = pd.read_csv(spotify_filepath, index_col=\"Date\", parse_dates=True)\n",
    "```\n",
    "\n",
    "The code you need to write now looks very similar!"
   ]
  },
  {
   "cell_type": "code",
   "execution_count": 3,
   "id": "bfad64da",
   "metadata": {
    "execution": {
     "iopub.execute_input": "2022-08-01T16:17:22.487347Z",
     "iopub.status.busy": "2022-08-01T16:17:22.486995Z",
     "iopub.status.idle": "2022-08-01T16:17:22.503147Z",
     "shell.execute_reply": "2022-08-01T16:17:22.502276Z"
    },
    "papermill": {
     "duration": 0.025909,
     "end_time": "2022-08-01T16:17:22.505302",
     "exception": false,
     "start_time": "2022-08-01T16:17:22.479393",
     "status": "completed"
    },
    "tags": []
   },
   "outputs": [
    {
     "data": {
      "application/javascript": [
       "parent.postMessage({\"jupyterEvent\": \"custom.exercise_interaction\", \"data\": {\"outcomeType\": 1, \"valueTowardsCompletion\": 0.3333333333333333, \"interactionType\": 1, \"questionType\": 1, \"questionId\": \"1_LoadMuseumData\", \"learnToolsVersion\": \"0.3.4\", \"failureMessage\": \"\", \"exceptionClass\": \"\", \"trace\": \"\"}}, \"*\")"
      ],
      "text/plain": [
       "<IPython.core.display.Javascript object>"
      ]
     },
     "metadata": {},
     "output_type": "display_data"
    },
    {
     "data": {
      "text/markdown": [
       "<span style=\"color:#33cc33\">Correct</span>"
      ],
      "text/plain": [
       "Correct"
      ]
     },
     "metadata": {},
     "output_type": "display_data"
    }
   ],
   "source": [
    "# Path of the file to read\n",
    "museum_filepath = \"../input/museum_visitors.csv\"\n",
    "\n",
    "# Fill in the line below to read the file into a variable museum_data\n",
    "museum_data = pd.read_csv(museum_filepath, index_col=\"Date\", parse_dates=True)\n",
    "\n",
    "# Run the line below with no changes to check that you've loaded the data correctly\n",
    "step_1.check()"
   ]
  },
  {
   "cell_type": "code",
   "execution_count": 4,
   "id": "4fd2924f",
   "metadata": {
    "execution": {
     "iopub.execute_input": "2022-08-01T16:17:22.521450Z",
     "iopub.status.busy": "2022-08-01T16:17:22.520744Z",
     "iopub.status.idle": "2022-08-01T16:17:22.525417Z",
     "shell.execute_reply": "2022-08-01T16:17:22.524328Z"
    },
    "papermill": {
     "duration": 0.015335,
     "end_time": "2022-08-01T16:17:22.527790",
     "exception": false,
     "start_time": "2022-08-01T16:17:22.512455",
     "status": "completed"
    },
    "tags": []
   },
   "outputs": [],
   "source": [
    "# Uncomment the line below to receive a hint\n",
    "#step_1.hint()\n",
    "# Uncomment the line below to see the solution\n",
    "#step_1.solution()"
   ]
  },
  {
   "cell_type": "markdown",
   "id": "6e5701a9",
   "metadata": {
    "papermill": {
     "duration": 0.00638,
     "end_time": "2022-08-01T16:17:22.540914",
     "exception": false,
     "start_time": "2022-08-01T16:17:22.534534",
     "status": "completed"
    },
    "tags": []
   },
   "source": [
    "## Step 2: Review the data\n",
    "\n",
    "Use a Python command to print the last 5 rows of the data."
   ]
  },
  {
   "cell_type": "code",
   "execution_count": 5,
   "id": "bda02465",
   "metadata": {
    "execution": {
     "iopub.execute_input": "2022-08-01T16:17:22.555789Z",
     "iopub.status.busy": "2022-08-01T16:17:22.555397Z",
     "iopub.status.idle": "2022-08-01T16:17:22.571088Z",
     "shell.execute_reply": "2022-08-01T16:17:22.569909Z"
    },
    "papermill": {
     "duration": 0.025784,
     "end_time": "2022-08-01T16:17:22.573355",
     "exception": false,
     "start_time": "2022-08-01T16:17:22.547571",
     "status": "completed"
    },
    "tags": []
   },
   "outputs": [
    {
     "data": {
      "text/html": [
       "<div>\n",
       "<style scoped>\n",
       "    .dataframe tbody tr th:only-of-type {\n",
       "        vertical-align: middle;\n",
       "    }\n",
       "\n",
       "    .dataframe tbody tr th {\n",
       "        vertical-align: top;\n",
       "    }\n",
       "\n",
       "    .dataframe thead th {\n",
       "        text-align: right;\n",
       "    }\n",
       "</style>\n",
       "<table border=\"1\" class=\"dataframe\">\n",
       "  <thead>\n",
       "    <tr style=\"text-align: right;\">\n",
       "      <th></th>\n",
       "      <th>Avila Adobe</th>\n",
       "      <th>Firehouse Museum</th>\n",
       "      <th>Chinese American Museum</th>\n",
       "      <th>America Tropical Interpretive Center</th>\n",
       "    </tr>\n",
       "    <tr>\n",
       "      <th>Date</th>\n",
       "      <th></th>\n",
       "      <th></th>\n",
       "      <th></th>\n",
       "      <th></th>\n",
       "    </tr>\n",
       "  </thead>\n",
       "  <tbody>\n",
       "    <tr>\n",
       "      <th>2018-07-01</th>\n",
       "      <td>23136</td>\n",
       "      <td>4191</td>\n",
       "      <td>2620</td>\n",
       "      <td>4718</td>\n",
       "    </tr>\n",
       "    <tr>\n",
       "      <th>2018-08-01</th>\n",
       "      <td>20815</td>\n",
       "      <td>4866</td>\n",
       "      <td>2409</td>\n",
       "      <td>3891</td>\n",
       "    </tr>\n",
       "    <tr>\n",
       "      <th>2018-09-01</th>\n",
       "      <td>21020</td>\n",
       "      <td>4956</td>\n",
       "      <td>2146</td>\n",
       "      <td>3180</td>\n",
       "    </tr>\n",
       "    <tr>\n",
       "      <th>2018-10-01</th>\n",
       "      <td>19280</td>\n",
       "      <td>4622</td>\n",
       "      <td>2364</td>\n",
       "      <td>3775</td>\n",
       "    </tr>\n",
       "    <tr>\n",
       "      <th>2018-11-01</th>\n",
       "      <td>17163</td>\n",
       "      <td>4082</td>\n",
       "      <td>2385</td>\n",
       "      <td>4562</td>\n",
       "    </tr>\n",
       "  </tbody>\n",
       "</table>\n",
       "</div>"
      ],
      "text/plain": [
       "            Avila Adobe  Firehouse Museum  Chinese American Museum  \\\n",
       "Date                                                                 \n",
       "2018-07-01        23136              4191                     2620   \n",
       "2018-08-01        20815              4866                     2409   \n",
       "2018-09-01        21020              4956                     2146   \n",
       "2018-10-01        19280              4622                     2364   \n",
       "2018-11-01        17163              4082                     2385   \n",
       "\n",
       "            America Tropical Interpretive Center  \n",
       "Date                                              \n",
       "2018-07-01                                  4718  \n",
       "2018-08-01                                  3891  \n",
       "2018-09-01                                  3180  \n",
       "2018-10-01                                  3775  \n",
       "2018-11-01                                  4562  "
      ]
     },
     "execution_count": 5,
     "metadata": {},
     "output_type": "execute_result"
    }
   ],
   "source": [
    "# Print the last five rows of the data \n",
    "____ # Your code here\n",
    "museum_data.tail()"
   ]
  },
  {
   "cell_type": "markdown",
   "id": "60d259a2",
   "metadata": {
    "papermill": {
     "duration": 0.007113,
     "end_time": "2022-08-01T16:17:22.587696",
     "exception": false,
     "start_time": "2022-08-01T16:17:22.580583",
     "status": "completed"
    },
    "tags": []
   },
   "source": [
    "The last row (for `2018-11-01`) tracks the number of visitors to each museum in November 2018, the next-to-last row (for `2018-10-01`) tracks the number of visitors to each museum in October 2018, _and so on_.\n",
    "\n",
    "Use the last 5 rows of the data to answer the questions below."
   ]
  },
  {
   "cell_type": "code",
   "execution_count": 6,
   "id": "51cf7316",
   "metadata": {
    "execution": {
     "iopub.execute_input": "2022-08-01T16:17:22.604293Z",
     "iopub.status.busy": "2022-08-01T16:17:22.603364Z",
     "iopub.status.idle": "2022-08-01T16:17:22.625029Z",
     "shell.execute_reply": "2022-08-01T16:17:22.623978Z"
    },
    "papermill": {
     "duration": 0.032206,
     "end_time": "2022-08-01T16:17:22.627317",
     "exception": false,
     "start_time": "2022-08-01T16:17:22.595111",
     "status": "completed"
    },
    "tags": []
   },
   "outputs": [
    {
     "data": {
      "application/javascript": [
       "parent.postMessage({\"jupyterEvent\": \"custom.exercise_interaction\", \"data\": {\"outcomeType\": 1, \"valueTowardsCompletion\": 0.3333333333333333, \"interactionType\": 1, \"questionType\": 1, \"questionId\": \"2_ReviewData\", \"learnToolsVersion\": \"0.3.4\", \"failureMessage\": \"\", \"exceptionClass\": \"\", \"trace\": \"\"}}, \"*\")"
      ],
      "text/plain": [
       "<IPython.core.display.Javascript object>"
      ]
     },
     "metadata": {},
     "output_type": "display_data"
    },
    {
     "data": {
      "text/markdown": [
       "<span style=\"color:#33cc33\">Correct</span>"
      ],
      "text/plain": [
       "Correct"
      ]
     },
     "metadata": {},
     "output_type": "display_data"
    }
   ],
   "source": [
    "# Fill in the line below: How many visitors did the Chinese American Museum \n",
    "# receive in July 2018?\n",
    "ca_museum_jul18 = museum_data.loc[\"2018-07-01\",\"Chinese American Museum\"]\n",
    "\n",
    "# Fill in the line below: In October 2018, how many more visitors did Avila \n",
    "# Adobe receive than the Firehouse Museum?\n",
    "avila_oct18 = museum_data.loc[\"2018-10-01\", \"Avila Adobe\"] - museum_data.loc[\"2018-10-01\", \"Firehouse Museum\"]\n",
    "\n",
    "# Check your answers\n",
    "step_2.check()"
   ]
  },
  {
   "cell_type": "code",
   "execution_count": 7,
   "id": "f7f10987",
   "metadata": {
    "execution": {
     "iopub.execute_input": "2022-08-01T16:17:22.643634Z",
     "iopub.status.busy": "2022-08-01T16:17:22.643240Z",
     "iopub.status.idle": "2022-08-01T16:17:22.655043Z",
     "shell.execute_reply": "2022-08-01T16:17:22.654045Z"
    },
    "papermill": {
     "duration": 0.022657,
     "end_time": "2022-08-01T16:17:22.657155",
     "exception": false,
     "start_time": "2022-08-01T16:17:22.634498",
     "status": "completed"
    },
    "tags": []
   },
   "outputs": [
    {
     "data": {
      "application/javascript": [
       "parent.postMessage({\"jupyterEvent\": \"custom.exercise_interaction\", \"data\": {\"interactionType\": 2, \"questionType\": 1, \"questionId\": \"2_ReviewData\", \"learnToolsVersion\": \"0.3.4\", \"valueTowardsCompletion\": 0.0, \"failureMessage\": \"\", \"exceptionClass\": \"\", \"trace\": \"\", \"outcomeType\": 4}}, \"*\")"
      ],
      "text/plain": [
       "<IPython.core.display.Javascript object>"
      ]
     },
     "metadata": {},
     "output_type": "display_data"
    },
    {
     "data": {
      "text/markdown": [
       "<span style=\"color:#3366cc\">Hint:</span> Use the `tail()` command that you learned about in the tutorial to print the last five rows. **After printing the last five rows**, the number of visitors in July 2018 for each museum can be found in the row marked `2018-07-01`, and the number of visitors in October 2018 for each museum can be found in the row marked `2018-10-01`."
      ],
      "text/plain": [
       "Hint: Use the `tail()` command that you learned about in the tutorial to print the last five rows. **After printing the last five rows**, the number of visitors in July 2018 for each museum can be found in the row marked `2018-07-01`, and the number of visitors in October 2018 for each museum can be found in the row marked `2018-10-01`."
      ]
     },
     "metadata": {},
     "output_type": "display_data"
    },
    {
     "data": {
      "application/javascript": [
       "parent.postMessage({\"jupyterEvent\": \"custom.exercise_interaction\", \"data\": {\"interactionType\": 3, \"questionType\": 1, \"questionId\": \"2_ReviewData\", \"learnToolsVersion\": \"0.3.4\", \"valueTowardsCompletion\": 0.0, \"failureMessage\": \"\", \"exceptionClass\": \"\", \"trace\": \"\", \"outcomeType\": 4}}, \"*\")"
      ],
      "text/plain": [
       "<IPython.core.display.Javascript object>"
      ]
     },
     "metadata": {},
     "output_type": "display_data"
    },
    {
     "data": {
      "text/markdown": [
       "<span style=\"color:#33cc99\">Solution:</span> \n",
       "```python\n",
       "# Print the last five rows of the data\n",
       "museum_data.tail()\n",
       "# How many visitors did the Chinese American Museum \n",
       "# receive in July 2018? \n",
       "ca_museum_jul18 = 2620\n",
       "# In October 2018, how many more visitors did Avila \n",
       "# Adobe receive than the Firehouse Museum?\n",
       "avila_oct18 = 14658\n",
       "\n",
       "```"
      ],
      "text/plain": [
       "Solution: \n",
       "```python\n",
       "# Print the last five rows of the data\n",
       "museum_data.tail()\n",
       "# How many visitors did the Chinese American Museum \n",
       "# receive in July 2018? \n",
       "ca_museum_jul18 = 2620\n",
       "# In October 2018, how many more visitors did Avila \n",
       "# Adobe receive than the Firehouse Museum?\n",
       "avila_oct18 = 14658\n",
       "\n",
       "```"
      ]
     },
     "metadata": {},
     "output_type": "display_data"
    }
   ],
   "source": [
    "# Lines below will give you a hint or solution code\n",
    "step_2.hint()\n",
    "step_2.solution()"
   ]
  },
  {
   "cell_type": "markdown",
   "id": "dac3d2d1",
   "metadata": {
    "papermill": {
     "duration": 0.007422,
     "end_time": "2022-08-01T16:17:22.672464",
     "exception": false,
     "start_time": "2022-08-01T16:17:22.665042",
     "status": "completed"
    },
    "tags": []
   },
   "source": [
    "## Step 3: Convince the museum board \n",
    "\n",
    "The Firehouse Museum claims they ran an event in 2014 that brought an incredible number of visitors, and that they should get extra budget to run a similar event again.  The other museums think these types of events aren't that important, and budgets should be split purely based on recent visitors on an average day.  \n",
    "\n",
    "To show the museum board how the event compared to regular traffic at each museum, create a line chart that shows how the number of visitors to each museum evolved over time.  Your figure should have four lines (one for each museum).\n",
    "\n",
    "> **(Optional) Note**: If you have some prior experience with plotting figures in Python, you might be familiar with the `plt.show()` command.  If you decide to use this command, please place it **after** the line of code that checks your answer (in this case, place it after `step_3.check()` below) -- otherwise, the checking code will return an error!"
   ]
  },
  {
   "cell_type": "code",
   "execution_count": 8,
   "id": "3efb2bbe",
   "metadata": {
    "execution": {
     "iopub.execute_input": "2022-08-01T16:17:22.689886Z",
     "iopub.status.busy": "2022-08-01T16:17:22.689158Z",
     "iopub.status.idle": "2022-08-01T16:17:23.090530Z",
     "shell.execute_reply": "2022-08-01T16:17:23.089695Z"
    },
    "papermill": {
     "duration": 0.412924,
     "end_time": "2022-08-01T16:17:23.093068",
     "exception": false,
     "start_time": "2022-08-01T16:17:22.680144",
     "status": "completed"
    },
    "tags": []
   },
   "outputs": [
    {
     "data": {
      "application/javascript": [
       "parent.postMessage({\"jupyterEvent\": \"custom.exercise_interaction\", \"data\": {\"outcomeType\": 1, \"valueTowardsCompletion\": 0.3333333333333333, \"interactionType\": 1, \"questionType\": 2, \"questionId\": \"3_PlotAll\", \"learnToolsVersion\": \"0.3.4\", \"failureMessage\": \"\", \"exceptionClass\": \"\", \"trace\": \"\"}}, \"*\")"
      ],
      "text/plain": [
       "<IPython.core.display.Javascript object>"
      ]
     },
     "metadata": {},
     "output_type": "display_data"
    },
    {
     "data": {
      "text/markdown": [
       "<span style=\"color:#33cc33\">Correct</span>"
      ],
      "text/plain": [
       "Correct"
      ]
     },
     "metadata": {},
     "output_type": "display_data"
    },
    {
     "data": {
      "image/png": "[encoded data removed]",
      "text/plain": [
       "<Figure size 1008x432 with 1 Axes>"
      ]
     },
     "metadata": {
      "needs_background": "light"
     },
     "output_type": "display_data"
    }
   ],
   "source": [
    "# Line chart showing the number of visitors to each museum over time\n",
    "____ # Your code here\n",
    "plt.figure(figsize=(14,6))\n",
    "sns.lineplot(data=museum_data[\"Avila Adobe\"], label=\"Avila Adobe\")\n",
    "sns.lineplot(data=museum_data[\"Firehouse Museum\"], label=\"Firehouse Museum\")\n",
    "sns.lineplot(data=museum_data[\"Chinese American Museum\"], label=\"Chinese American Museum\")\n",
    "sns.lineplot(data=museum_data[\"America Tropical Interpretive Center\"], label=\"America Tropical Interpretive Center\")\n",
    "# Check your answer\n",
    "step_3.check()\n",
    "plt.show()"
   ]
  },
  {
   "cell_type": "code",
   "execution_count": 9,
   "id": "5319279c",
   "metadata": {
    "execution": {
     "iopub.execute_input": "2022-08-01T16:17:23.114309Z",
     "iopub.status.busy": "2022-08-01T16:17:23.113725Z",
     "iopub.status.idle": "2022-08-01T16:17:23.117242Z",
     "shell.execute_reply": "2022-08-01T16:17:23.116521Z"
    },
    "papermill": {
     "duration": 0.016478,
     "end_time": "2022-08-01T16:17:23.119442",
     "exception": false,
     "start_time": "2022-08-01T16:17:23.102964",
     "status": "completed"
    },
    "tags": []
   },
   "outputs": [],
   "source": [
    "# Lines below will give you a hint or solution code\n",
    "#step_3.hint()\n",
    "#step_3.solution_plot()"
   ]
  },
  {
   "cell_type": "markdown",
   "id": "5869d7c6",
   "metadata": {
    "papermill": {
     "duration": 0.009196,
     "end_time": "2022-08-01T16:17:23.138122",
     "exception": false,
     "start_time": "2022-08-01T16:17:23.128926",
     "status": "completed"
    },
    "tags": []
   },
   "source": [
    "## Step 4: Assess seasonality\n",
    "\n",
    "When meeting with the employees at Avila Adobe, you hear that one major pain point is that the number of museum visitors varies greatly with the seasons, with low seasons (when the employees are perfectly staffed and happy) and also high seasons (when the employees are understaffed and stressed).  You realize that if you can predict these high and low seasons, you can plan ahead to hire some additional seasonal employees to help out with the extra work.\n",
    "\n",
    "#### Part A\n",
    "Create a line chart that shows how the number of visitors to Avila Adobe has evolved over time.  (_If your code returns an error, the first thing that you should check is that you've spelled the name of the column correctly!  You must write the name of the column exactly as it appears in the dataset._)"
   ]
  },
  {
   "cell_type": "code",
   "execution_count": 10,
   "id": "a607bcbd",
   "metadata": {
    "execution": {
     "iopub.execute_input": "2022-08-01T16:17:23.158641Z",
     "iopub.status.busy": "2022-08-01T16:17:23.158223Z",
     "iopub.status.idle": "2022-08-01T16:17:23.435599Z",
     "shell.execute_reply": "2022-08-01T16:17:23.434412Z"
    },
    "papermill": {
     "duration": 0.290719,
     "end_time": "2022-08-01T16:17:23.438287",
     "exception": false,
     "start_time": "2022-08-01T16:17:23.147568",
     "status": "completed"
    },
    "tags": []
   },
   "outputs": [
    {
     "name": "stdout",
     "output_type": "stream",
     "text": [
      "Thank you for creating a line chart!  To see how your code compares to the official solution, please use the code cell below.\n"
     ]
    },
    {
     "data": {
      "application/javascript": [
       "parent.postMessage({\"jupyterEvent\": \"custom.exercise_interaction\", \"data\": {\"outcomeType\": 1, \"valueTowardsCompletion\": 0.3333333333333333, \"interactionType\": 1, \"questionType\": 2, \"questionId\": \"4.1_PlotAvila\", \"learnToolsVersion\": \"0.3.4\", \"failureMessage\": \"\", \"exceptionClass\": \"\", \"trace\": \"\"}}, \"*\")"
      ],
      "text/plain": [
       "<IPython.core.display.Javascript object>"
      ]
     },
     "metadata": {},
     "output_type": "display_data"
    },
    {
     "data": {
      "text/markdown": [
       "<span style=\"color:#33cc33\">Correct</span>"
      ],
      "text/plain": [
       "Correct"
      ]
     },
     "metadata": {},
     "output_type": "display_data"
    },
    {
     "data": {
      "image/png": "[encoded data removed]",
      "text/plain": [
       "<Figure size 1008x432 with 1 Axes>"
      ]
     },
     "metadata": {
      "needs_background": "light"
     },
     "output_type": "display_data"
    }
   ],
   "source": [
    "# Line plot showing the number of visitors to Avila Adobe over time\n",
    "____ # Your code here\n",
    "plt.figure(figsize=(14,6))\n",
    "sns.lineplot(data=museum_data[\"Avila Adobe\"], label=\"Avila Adobe\")\n",
    "# Check your answer\n",
    "step_4.a.check()\n",
    "plt.show()"
   ]
  },
  {
   "cell_type": "code",
   "execution_count": 11,
   "id": "066281a2",
   "metadata": {
    "execution": {
     "iopub.execute_input": "2022-08-01T16:17:23.462104Z",
     "iopub.status.busy": "2022-08-01T16:17:23.461341Z",
     "iopub.status.idle": "2022-08-01T16:17:23.467533Z",
     "shell.execute_reply": "2022-08-01T16:17:23.466446Z"
    },
    "papermill": {
     "duration": 0.021021,
     "end_time": "2022-08-01T16:17:23.470026",
     "exception": false,
     "start_time": "2022-08-01T16:17:23.449005",
     "status": "completed"
    },
    "tags": []
   },
   "outputs": [],
   "source": [
    "# Lines below will give you a hint or solution code\n",
    "#step_4.a.hint()\n",
    "#step_4.a.solution_plot()"
   ]
  },
  {
   "cell_type": "markdown",
   "id": "5ad60fe2",
   "metadata": {
    "papermill": {
     "duration": 0.010424,
     "end_time": "2022-08-01T16:17:23.491264",
     "exception": false,
     "start_time": "2022-08-01T16:17:23.480840",
     "status": "completed"
    },
    "tags": []
   },
   "source": [
    "#### Part B\n",
    "\n",
    "Does Avila Adobe get more visitors:\n",
    "- in September-February (in LA, the fall and winter months), or \n",
    "- in March-August (in LA, the spring and summer)?  \n",
    "\n",
    "Using this information, when should the museum staff additional seasonal employees?"
   ]
  },
  {
   "cell_type": "code",
   "execution_count": 12,
   "id": "7a5b087a",
   "metadata": {
    "execution": {
     "iopub.execute_input": "2022-08-01T16:17:23.515481Z",
     "iopub.status.busy": "2022-08-01T16:17:23.514658Z",
     "iopub.status.idle": "2022-08-01T16:17:23.524364Z",
     "shell.execute_reply": "2022-08-01T16:17:23.523258Z"
    },
    "papermill": {
     "duration": 0.024489,
     "end_time": "2022-08-01T16:17:23.526578",
     "exception": false,
     "start_time": "2022-08-01T16:17:23.502089",
     "status": "completed"
    },
    "tags": []
   },
   "outputs": [
    {
     "data": {
      "application/javascript": [
       "parent.postMessage({\"jupyterEvent\": \"custom.exercise_interaction\", \"data\": {\"interactionType\": 2, \"questionType\": 4, \"questionId\": \"4.2_ThinkAvila\", \"learnToolsVersion\": \"0.3.4\", \"valueTowardsCompletion\": 0.0, \"failureMessage\": \"\", \"exceptionClass\": \"\", \"trace\": \"\", \"outcomeType\": 4}}, \"*\")"
      ],
      "text/plain": [
       "<IPython.core.display.Javascript object>"
      ]
     },
     "metadata": {},
     "output_type": "display_data"
    },
    {
     "data": {
      "text/markdown": [
       "<span style=\"color:#3366cc\">Hint:</span> Look at the early part of each year (around January).  Does the line chart dip to low values or reach relatively high values?"
      ],
      "text/plain": [
       "Hint: Look at the early part of each year (around January).  Does the line chart dip to low values or reach relatively high values?"
      ]
     },
     "metadata": {},
     "output_type": "display_data"
    }
   ],
   "source": [
    "step_4.b.hint()"
   ]
  },
  {
   "cell_type": "code",
   "execution_count": 13,
   "id": "d11396c7",
   "metadata": {
    "execution": {
     "iopub.execute_input": "2022-08-01T16:17:23.550948Z",
     "iopub.status.busy": "2022-08-01T16:17:23.550152Z",
     "iopub.status.idle": "2022-08-01T16:17:23.559942Z",
     "shell.execute_reply": "2022-08-01T16:17:23.558781Z"
    },
    "papermill": {
     "duration": 0.024823,
     "end_time": "2022-08-01T16:17:23.562531",
     "exception": false,
     "start_time": "2022-08-01T16:17:23.537708",
     "status": "completed"
    },
    "tags": []
   },
   "outputs": [
    {
     "data": {
      "application/javascript": [
       "parent.postMessage({\"jupyterEvent\": \"custom.exercise_interaction\", \"data\": {\"interactionType\": 3, \"questionType\": 4, \"questionId\": \"4.2_ThinkAvila\", \"learnToolsVersion\": \"0.3.4\", \"valueTowardsCompletion\": 0.0, \"failureMessage\": \"\", \"exceptionClass\": \"\", \"trace\": \"\", \"outcomeType\": 4}}, \"*\")"
      ],
      "text/plain": [
       "<IPython.core.display.Javascript object>"
      ]
     },
     "metadata": {},
     "output_type": "display_data"
    },
    {
     "data": {
      "text/markdown": [
       "<span style=\"color:#33cc99\">Solution:</span> The line chart generally dips to relatively low values around the early part of each year (in December and January), and reaches its highest values in the middle of the year (especially around May and June).  Thus, Avila Adobe usually gets more visitors in March-August (or the spring and summer months).  With this in mind, Avila Adobe could definitely benefit from hiring more seasonal employees to help with the extra work in March-August (the spring and summer)!"
      ],
      "text/plain": [
       "Solution: The line chart generally dips to relatively low values around the early part of each year (in December and January), and reaches its highest values in the middle of the year (especially around May and June).  Thus, Avila Adobe usually gets more visitors in March-August (or the spring and summer months).  With this in mind, Avila Adobe could definitely benefit from hiring more seasonal employees to help with the extra work in March-August (the spring and summer)!"
      ]
     },
     "metadata": {},
     "output_type": "display_data"
    }
   ],
   "source": [
    "step_4.b.solution()"
   ]
  },
  {
   "cell_type": "code",
   "execution_count": 14,
   "id": "f26d6c7e",
   "metadata": {
    "execution": {
     "iopub.execute_input": "2022-08-01T16:17:23.586939Z",
     "iopub.status.busy": "2022-08-01T16:17:23.586509Z",
     "iopub.status.idle": "2022-08-01T16:17:23.593692Z",
     "shell.execute_reply": "2022-08-01T16:17:23.592834Z"
    },
    "papermill": {
     "duration": 0.021965,
     "end_time": "2022-08-01T16:17:23.595743",
     "exception": false,
     "start_time": "2022-08-01T16:17:23.573778",
     "status": "completed"
    },
    "tags": []
   },
   "outputs": [
    {
     "data": {
      "application/javascript": [
       "parent.postMessage({\"jupyterEvent\": \"custom.exercise_interaction\", \"data\": {\"interactionType\": 3, \"questionType\": 4, \"questionId\": \"4.2_ThinkAvila\", \"learnToolsVersion\": \"0.3.4\", \"valueTowardsCompletion\": 0.0, \"failureMessage\": \"\", \"exceptionClass\": \"\", \"trace\": \"\", \"outcomeType\": 4}}, \"*\")"
      ],
      "text/plain": [
       "<IPython.core.display.Javascript object>"
      ]
     },
     "metadata": {},
     "output_type": "display_data"
    },
    {
     "data": {
      "text/markdown": [
       "<span style=\"color:#33cc99\">Solution:</span> The line chart generally dips to relatively low values around the early part of each year (in December and January), and reaches its highest values in the middle of the year (especially around May and June).  Thus, Avila Adobe usually gets more visitors in March-August (or the spring and summer months).  With this in mind, Avila Adobe could definitely benefit from hiring more seasonal employees to help with the extra work in March-August (the spring and summer)!"
      ],
      "text/plain": [
       "Solution: The line chart generally dips to relatively low values around the early part of each year (in December and January), and reaches its highest values in the middle of the year (especially around May and June).  Thus, Avila Adobe usually gets more visitors in March-August (or the spring and summer months).  With this in mind, Avila Adobe could definitely benefit from hiring more seasonal employees to help with the extra work in March-August (the spring and summer)!"
      ]
     },
     "metadata": {},
     "output_type": "display_data"
    }
   ],
   "source": [
    "# Check your answer (Run this code cell to receive credit!)\n",
    "\n",
    "step_4.b.solution()"
   ]
  },
  {
   "cell_type": "markdown",
   "id": "29de4801",
   "metadata": {
    "papermill": {
     "duration": 0.011114,
     "end_time": "2022-08-01T16:17:23.618232",
     "exception": false,
     "start_time": "2022-08-01T16:17:23.607118",
     "status": "completed"
    },
    "tags": []
   },
   "source": [
    "# Keep going\n",
    "\n",
    "Move on to learn about **[bar charts and heatmaps](https://www.kaggle.com/alexisbcook/bar-charts-and-heatmaps)** with a new dataset!"
   ]
  },
  {
   "cell_type": "markdown",
   "id": "0bf62781",
   "metadata": {
    "papermill": {
     "duration": 0.011093,
     "end_time": "2022-08-01T16:17:23.640914",
     "exception": false,
     "start_time": "2022-08-01T16:17:23.629821",
     "status": "completed"
    },
    "tags": []
   },
   "source": [
    "---\n",
    "\n",
    "\n",
    "\n",
    "\n",
    "*Have questions or comments? Visit the [course discussion forum](https://www.kaggle.com/learn/data-visualization/discussion) to chat with other learners.*"
   ]
  }
 ],
 "metadata": {
  "kernelspec": {
   "display_name": "Python 3",
   "language": "python",
   "name": "python3"
  },
  "language_info": {
   "codemirror_mode": {
    "name": "ipython",
    "version": 3
   },
   "file_extension": ".py",
   "mimetype": "text/x-python",
   "name": "python",
   "nbconvert_exporter": "python",
   "pygments_lexer": "ipython3",
   "version": "3.7.12"
  },
  "papermill": {
   "default_parameters": {},
   "duration": 13.617017,
   "end_time": "2022-08-01T16:17:24.375410",
   "environment_variables": {},
   "exception": null,
   "input_path": "__notebook__.ipynb",
   "output_path": "__notebook__.ipynb",
   "parameters": {},
   "start_time": "2022-08-01T16:17:10.758393",
   "version": "2.3.4"
  }
 },
 "nbformat": 4,
 "nbformat_minor": 5
}
