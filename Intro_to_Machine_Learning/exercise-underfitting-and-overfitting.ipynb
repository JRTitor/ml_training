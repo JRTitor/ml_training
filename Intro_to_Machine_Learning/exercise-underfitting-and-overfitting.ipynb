{
 "cells": [
  {
   "cell_type": "markdown",
   "id": "c38133f0",
   "metadata": {
    "papermill": {
     "duration": 0.005271,
     "end_time": "2022-08-02T18:44:25.991206",
     "exception": false,
     "start_time": "2022-08-02T18:44:25.985935",
     "status": "completed"
    },
    "tags": []
   },
   "source": [
    "**This notebook is an exercise in the [Introduction to Machine Learning](https://www.kaggle.com/learn/intro-to-machine-learning) course.  You can reference the tutorial at [this link](https://www.kaggle.com/dansbecker/underfitting-and-overfitting).**\n",
    "\n",
    "---\n"
   ]
  },
  {
   "cell_type": "markdown",
   "id": "1afed8fe",
   "metadata": {
    "papermill": {
     "duration": 0.003243,
     "end_time": "2022-08-02T18:44:25.998578",
     "exception": false,
     "start_time": "2022-08-02T18:44:25.995335",
     "status": "completed"
    },
    "tags": []
   },
   "source": [
    "## Recap\n",
    "You've built your first model, and now it's time to optimize the size of the tree to make better predictions. Run this cell to set up your coding environment where the previous step left off."
   ]
  },
  {
   "cell_type": "code",
   "execution_count": 1,
   "id": "db63b113",
   "metadata": {
    "execution": {
     "iopub.execute_input": "2022-08-02T18:44:26.009115Z",
     "iopub.status.busy": "2022-08-02T18:44:26.008030Z",
     "iopub.status.idle": "2022-08-02T18:44:27.447694Z",
     "shell.execute_reply": "2022-08-02T18:44:27.446787Z"
    },
    "papermill": {
     "duration": 1.449481,
     "end_time": "2022-08-02T18:44:27.451519",
     "exception": false,
     "start_time": "2022-08-02T18:44:26.002038",
     "status": "completed"
    },
    "tags": []
   },
   "outputs": [
    {
     "name": "stdout",
     "output_type": "stream",
     "text": [
      "Validation MAE: 29,653\n",
      "\n",
      "Setup complete\n"
     ]
    }
   ],
   "source": [
    "# Code you have previously used to load data\n",
    "import pandas as pd\n",
    "from sklearn.metrics import mean_absolute_error\n",
    "from sklearn.model_selection import train_test_split\n",
    "from sklearn.tree import DecisionTreeRegressor\n",
    "\n",
    "\n",
    "# Path of the file to read\n",
    "iowa_file_path = '../input/home-data-for-ml-course/train.csv'\n",
    "\n",
    "home_data = pd.read_csv(iowa_file_path)\n",
    "# Create target object and call it y\n",
    "y = home_data.SalePrice\n",
    "# Create X\n",
    "features = ['LotArea', 'YearBuilt', '1stFlrSF', '2ndFlrSF', 'FullBath', 'BedroomAbvGr', 'TotRmsAbvGrd']\n",
    "X = home_data[features]\n",
    "\n",
    "# Split into validation and training data\n",
    "train_X, val_X, train_y, val_y = train_test_split(X, y, random_state=1)\n",
    "\n",
    "# Specify Model\n",
    "iowa_model = DecisionTreeRegressor(random_state=1)\n",
    "# Fit Model\n",
    "iowa_model.fit(train_X, train_y)\n",
    "\n",
    "# Make validation predictions and calculate mean absolute error\n",
    "val_predictions = iowa_model.predict(val_X)\n",
    "val_mae = mean_absolute_error(val_predictions, val_y)\n",
    "print(\"Validation MAE: {:,.0f}\".format(val_mae))\n",
    "\n",
    "# Set up code checking\n",
    "from learntools.core import binder\n",
    "binder.bind(globals())\n",
    "from learntools.machine_learning.ex5 import *\n",
    "print(\"\\nSetup complete\")"
   ]
  },
  {
   "cell_type": "markdown",
   "id": "d4fa3018",
   "metadata": {
    "papermill": {
     "duration": 0.004902,
     "end_time": "2022-08-02T18:44:27.462037",
     "exception": false,
     "start_time": "2022-08-02T18:44:27.457135",
     "status": "completed"
    },
    "tags": []
   },
   "source": [
    "# Exercises\n",
    "You could write the function `get_mae` yourself. For now, we'll supply it. This is the same function you read about in the previous lesson. Just run the cell below."
   ]
  },
  {
   "cell_type": "code",
   "execution_count": 2,
   "id": "f2976e05",
   "metadata": {
    "execution": {
     "iopub.execute_input": "2022-08-02T18:44:27.472657Z",
     "iopub.status.busy": "2022-08-02T18:44:27.471216Z",
     "iopub.status.idle": "2022-08-02T18:44:27.478877Z",
     "shell.execute_reply": "2022-08-02T18:44:27.477740Z"
    },
    "papermill": {
     "duration": 0.015607,
     "end_time": "2022-08-02T18:44:27.481628",
     "exception": false,
     "start_time": "2022-08-02T18:44:27.466021",
     "status": "completed"
    },
    "tags": []
   },
   "outputs": [],
   "source": [
    "def get_mae(max_leaf_nodes, train_X, val_X, train_y, val_y):\n",
    "    model = DecisionTreeRegressor(max_leaf_nodes=max_leaf_nodes, random_state=0)\n",
    "    model.fit(train_X, train_y)\n",
    "    preds_val = model.predict(val_X)\n",
    "    mae = mean_absolute_error(val_y, preds_val)\n",
    "    return(mae)"
   ]
  },
  {
   "cell_type": "markdown",
   "id": "fea6e0ec",
   "metadata": {
    "papermill": {
     "duration": 0.003317,
     "end_time": "2022-08-02T18:44:27.488744",
     "exception": false,
     "start_time": "2022-08-02T18:44:27.485427",
     "status": "completed"
    },
    "tags": []
   },
   "source": [
    "## Step 1: Compare Different Tree Sizes\n",
    "Write a loop that tries the following values for *max_leaf_nodes* from a set of possible values.\n",
    "\n",
    "Call the *get_mae* function on each value of max_leaf_nodes. Store the output in some way that allows you to select the value of `max_leaf_nodes` that gives the most accurate model on your data."
   ]
  },
  {
   "cell_type": "code",
   "execution_count": 3,
   "id": "9b789163",
   "metadata": {
    "execution": {
     "iopub.execute_input": "2022-08-02T18:44:27.499263Z",
     "iopub.status.busy": "2022-08-02T18:44:27.498352Z",
     "iopub.status.idle": "2022-08-02T18:44:27.590257Z",
     "shell.execute_reply": "2022-08-02T18:44:27.589415Z"
    },
    "papermill": {
     "duration": 0.100234,
     "end_time": "2022-08-02T18:44:27.593348",
     "exception": false,
     "start_time": "2022-08-02T18:44:27.493114",
     "status": "completed"
    },
    "tags": []
   },
   "outputs": [
    {
     "data": {
      "application/javascript": [
       "parent.postMessage({\"jupyterEvent\": \"custom.exercise_interaction\", \"data\": {\"outcomeType\": 1, \"valueTowardsCompletion\": 0.5, \"interactionType\": 1, \"questionType\": 1, \"questionId\": \"1_BestTreeSize\", \"learnToolsVersion\": \"0.3.4\", \"failureMessage\": \"\", \"exceptionClass\": \"\", \"trace\": \"\"}}, \"*\")"
      ],
      "text/plain": [
       "<IPython.core.display.Javascript object>"
      ]
     },
     "metadata": {},
     "output_type": "display_data"
    },
    {
     "data": {
      "text/markdown": [
       "<span style=\"color:#33cc33\">Correct</span>"
      ],
      "text/plain": [
       "Correct"
      ]
     },
     "metadata": {},
     "output_type": "display_data"
    }
   ],
   "source": [
    "candidate_max_leaf_nodes = [5, 25, 50, 100, 250, 500]\n",
    "# Write loop to find the ideal tree size from candidate_max_leaf_nodes\n",
    "_\n",
    "\n",
    "# Store the best value of max_leaf_nodes (it will be either 5, 25, 50, 100, 250 or 500)\n",
    "arr = []\n",
    "for x in candidate_max_leaf_nodes:\n",
    "    arr.append(get_mae(x, train_X, val_X, train_y, val_y))\n",
    "    if min(arr) == get_mae(x, train_X, val_X, train_y, val_y):\n",
    "        best_x = x\n",
    "best_tree_size = best_x\n",
    "# Check your answer\n",
    "step_1.check()"
   ]
  },
  {
   "cell_type": "code",
   "execution_count": 4,
   "id": "abc773c0",
   "metadata": {
    "execution": {
     "iopub.execute_input": "2022-08-02T18:44:27.606587Z",
     "iopub.status.busy": "2022-08-02T18:44:27.605889Z",
     "iopub.status.idle": "2022-08-02T18:44:27.610124Z",
     "shell.execute_reply": "2022-08-02T18:44:27.609015Z"
    },
    "papermill": {
     "duration": 0.014155,
     "end_time": "2022-08-02T18:44:27.613105",
     "exception": false,
     "start_time": "2022-08-02T18:44:27.598950",
     "status": "completed"
    },
    "tags": []
   },
   "outputs": [],
   "source": [
    "# The lines below will show you a hint or the solution.\n",
    "# step_1.hint() \n",
    "# step_1.solution()"
   ]
  },
  {
   "cell_type": "markdown",
   "id": "bc3cc8c5",
   "metadata": {
    "papermill": {
     "duration": 0.005609,
     "end_time": "2022-08-02T18:44:27.624483",
     "exception": false,
     "start_time": "2022-08-02T18:44:27.618874",
     "status": "completed"
    },
    "tags": []
   },
   "source": [
    "## Step 2: Fit Model Using All Data\n",
    "You know the best tree size. If you were going to deploy this model in practice, you would make it even more accurate by using all of the data and keeping that tree size.  That is, you don't need to hold out the validation data now that you've made all your modeling decisions."
   ]
  },
  {
   "cell_type": "code",
   "execution_count": 5,
   "id": "1a6f671f",
   "metadata": {
    "execution": {
     "iopub.execute_input": "2022-08-02T18:44:27.634752Z",
     "iopub.status.busy": "2022-08-02T18:44:27.633859Z",
     "iopub.status.idle": "2022-08-02T18:44:27.652406Z",
     "shell.execute_reply": "2022-08-02T18:44:27.651477Z"
    },
    "papermill": {
     "duration": 0.027461,
     "end_time": "2022-08-02T18:44:27.655896",
     "exception": false,
     "start_time": "2022-08-02T18:44:27.628435",
     "status": "completed"
    },
    "tags": []
   },
   "outputs": [
    {
     "data": {
      "application/javascript": [
       "parent.postMessage({\"jupyterEvent\": \"custom.exercise_interaction\", \"data\": {\"outcomeType\": 1, \"valueTowardsCompletion\": 0.5, \"interactionType\": 1, \"questionType\": 2, \"questionId\": \"2_FitModelWithAllData\", \"learnToolsVersion\": \"0.3.4\", \"failureMessage\": \"\", \"exceptionClass\": \"\", \"trace\": \"\"}}, \"*\")"
      ],
      "text/plain": [
       "<IPython.core.display.Javascript object>"
      ]
     },
     "metadata": {},
     "output_type": "display_data"
    },
    {
     "data": {
      "text/markdown": [
       "<span style=\"color:#33cc33\">Correct</span>"
      ],
      "text/plain": [
       "Correct"
      ]
     },
     "metadata": {},
     "output_type": "display_data"
    }
   ],
   "source": [
    "# Fill in argument to make optimal size and uncomment\n",
    "final_model = DecisionTreeRegressor(max_leaf_nodes=best_tree_size, random_state=1)\n",
    "\n",
    "# fit the final model and uncomment the next two lines\n",
    "final_model.fit(X, y)\n",
    "\n",
    "# Check your answer\n",
    "step_2.check()"
   ]
  },
  {
   "cell_type": "code",
   "execution_count": 6,
   "id": "c48a9b8e",
   "metadata": {
    "execution": {
     "iopub.execute_input": "2022-08-02T18:44:27.669789Z",
     "iopub.status.busy": "2022-08-02T18:44:27.668046Z",
     "iopub.status.idle": "2022-08-02T18:44:27.673344Z",
     "shell.execute_reply": "2022-08-02T18:44:27.672567Z"
    },
    "papermill": {
     "duration": 0.013872,
     "end_time": "2022-08-02T18:44:27.675743",
     "exception": false,
     "start_time": "2022-08-02T18:44:27.661871",
     "status": "completed"
    },
    "tags": []
   },
   "outputs": [],
   "source": [
    "# step_2.hint()\n",
    "#step_2.solution()"
   ]
  },
  {
   "cell_type": "markdown",
   "id": "ba50f649",
   "metadata": {
    "papermill": {
     "duration": 0.003992,
     "end_time": "2022-08-02T18:44:27.684332",
     "exception": false,
     "start_time": "2022-08-02T18:44:27.680340",
     "status": "completed"
    },
    "tags": []
   },
   "source": [
    "You've tuned this model and improved your results. But we are still using Decision Tree models, which are not very sophisticated by modern machine learning standards. In the next step you will learn to use Random Forests to improve your models even more.\n",
    "\n",
    "# Keep Going\n",
    "\n",
    "You are ready for **[Random Forests](https://www.kaggle.com/dansbecker/random-forests).**\n"
   ]
  },
  {
   "cell_type": "markdown",
   "id": "ae9132fc",
   "metadata": {
    "papermill": {
     "duration": 0.003754,
     "end_time": "2022-08-02T18:44:27.692295",
     "exception": false,
     "start_time": "2022-08-02T18:44:27.688541",
     "status": "completed"
    },
    "tags": []
   },
   "source": [
    "---\n",
    "\n",
    "\n",
    "\n",
    "\n",
    "*Have questions or comments? Visit the [course discussion forum](https://www.kaggle.com/learn/intro-to-machine-learning/discussion) to chat with other learners.*"
   ]
  }
 ],
 "metadata": {
  "kernelspec": {
   "display_name": "Python 3",
   "language": "python",
   "name": "python3"
  },
  "language_info": {
   "codemirror_mode": {
    "name": "ipython",
    "version": 3
   },
   "file_extension": ".py",
   "mimetype": "text/x-python",
   "name": "python",
   "nbconvert_exporter": "python",
   "pygments_lexer": "ipython3",
   "version": "3.7.12"
  },
  "papermill": {
   "default_parameters": {},
   "duration": 11.57369,
   "end_time": "2022-08-02T18:44:28.519877",
   "environment_variables": {},
   "exception": null,
   "input_path": "__notebook__.ipynb",
   "output_path": "__notebook__.ipynb",
   "parameters": {},
   "start_time": "2022-08-02T18:44:16.946187",
   "version": "2.3.4"
  }
 },
 "nbformat": 4,
 "nbformat_minor": 5
}
