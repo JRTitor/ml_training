{
 "cells": [
  {
   "cell_type": "markdown",
   "id": "2f2ee27a",
   "metadata": {
    "papermill": {
     "duration": 0.007099,
     "end_time": "2022-08-05T07:48:54.425314",
     "exception": false,
     "start_time": "2022-08-05T07:48:54.418215",
     "status": "completed"
    },
    "tags": []
   },
   "source": [
    "**This notebook is an exercise in the [Feature Engineering](https://www.kaggle.com/learn/feature-engineering) course.  You can reference the tutorial at [this link](https://www.kaggle.com/ryanholbrook/creating-features).**\n",
    "\n",
    "---\n"
   ]
  },
  {
   "cell_type": "markdown",
   "id": "f92b954c",
   "metadata": {
    "papermill": {
     "duration": 0.00546,
     "end_time": "2022-08-05T07:48:54.436707",
     "exception": false,
     "start_time": "2022-08-05T07:48:54.431247",
     "status": "completed"
    },
    "tags": []
   },
   "source": [
    "# Introduction #\n",
    "\n",
    "In this exercise you'll start developing the features you identified in Exercise 2 as having the most potential. As you work through this exercise, you might take a moment to look at the data documentation again and consider whether the features we're creating make sense from a real-world perspective, and whether there are any useful combinations that stand out to you.\n",
    "\n",
    "Run this cell to set everything up!"
   ]
  },
  {
   "cell_type": "code",
   "execution_count": 1,
   "id": "e688ffbc",
   "metadata": {
    "execution": {
     "iopub.execute_input": "2022-08-05T07:48:54.450231Z",
     "iopub.status.busy": "2022-08-05T07:48:54.449794Z",
     "iopub.status.idle": "2022-08-05T07:48:55.914823Z",
     "shell.execute_reply": "2022-08-05T07:48:55.913649Z"
    },
    "papermill": {
     "duration": 1.475189,
     "end_time": "2022-08-05T07:48:55.917642",
     "exception": false,
     "start_time": "2022-08-05T07:48:54.442453",
     "status": "completed"
    },
    "tags": []
   },
   "outputs": [],
   "source": [
    "# Setup feedback system\n",
    "from learntools.core import binder\n",
    "binder.bind(globals())\n",
    "from learntools.feature_engineering_new.ex3 import *\n",
    "\n",
    "import numpy as np\n",
    "import pandas as pd\n",
    "from sklearn.model_selection import cross_val_score\n",
    "from xgboost import XGBRegressor\n",
    "\n",
    "\n",
    "def score_dataset(X, y, model=XGBRegressor()):\n",
    "    # Label encoding for categoricals\n",
    "    for colname in X.select_dtypes([\"category\", \"object\"]):\n",
    "        X[colname], _ = X[colname].factorize()\n",
    "    # Metric for Housing competition is RMSLE (Root Mean Squared Log Error)\n",
    "    score = cross_val_score(\n",
    "        model, X, y, cv=5, scoring=\"neg_mean_squared_log_error\",\n",
    "    )\n",
    "    score = -1 * score.mean()\n",
    "    score = np.sqrt(score)\n",
    "    return score\n",
    "\n",
    "\n",
    "# Prepare data\n",
    "df = pd.read_csv(\"../input/fe-course-data/ames.csv\")\n",
    "X = df.copy()\n",
    "y = X.pop(\"SalePrice\")"
   ]
  },
  {
   "cell_type": "markdown",
   "id": "930de545",
   "metadata": {
    "papermill": {
     "duration": 0.005765,
     "end_time": "2022-08-05T07:48:55.929509",
     "exception": false,
     "start_time": "2022-08-05T07:48:55.923744",
     "status": "completed"
    },
    "tags": []
   },
   "source": [
    "-------------------------------------------------------------------------------\n",
    "\n",
    "Let's start with a few mathematical combinations. We'll focus on features describing areas -- having the same units (square-feet) makes it easy to combine them in sensible ways. Since we're using XGBoost (a tree-based model), we'll focus on ratios and sums.\n",
    "\n",
    "# 1) Create Mathematical Transforms\n",
    "\n",
    "Create the following features:\n",
    "\n",
    "- `LivLotRatio`: the ratio of `GrLivArea` to `LotArea`\n",
    "- `Spaciousness`: the sum of `FirstFlrSF` and `SecondFlrSF` divided by `TotRmsAbvGrd`\n",
    "- `TotalOutsideSF`: the sum of `WoodDeckSF`, `OpenPorchSF`, `EnclosedPorch`, `Threeseasonporch`, and `ScreenPorch`"
   ]
  },
  {
   "cell_type": "code",
   "execution_count": 2,
   "id": "f2b1f8fd",
   "metadata": {
    "execution": {
     "iopub.execute_input": "2022-08-05T07:48:55.942953Z",
     "iopub.status.busy": "2022-08-05T07:48:55.942529Z",
     "iopub.status.idle": "2022-08-05T07:48:55.972690Z",
     "shell.execute_reply": "2022-08-05T07:48:55.971412Z"
    },
    "papermill": {
     "duration": 0.041099,
     "end_time": "2022-08-05T07:48:55.976494",
     "exception": false,
     "start_time": "2022-08-05T07:48:55.935395",
     "status": "completed"
    },
    "tags": []
   },
   "outputs": [
    {
     "data": {
      "text/html": [
       "<div>\n",
       "<style scoped>\n",
       "    .dataframe tbody tr th:only-of-type {\n",
       "        vertical-align: middle;\n",
       "    }\n",
       "\n",
       "    .dataframe tbody tr th {\n",
       "        vertical-align: top;\n",
       "    }\n",
       "\n",
       "    .dataframe thead th {\n",
       "        text-align: right;\n",
       "    }\n",
       "</style>\n",
       "<table border=\"1\" class=\"dataframe\">\n",
       "  <thead>\n",
       "    <tr style=\"text-align: right;\">\n",
       "      <th></th>\n",
       "      <th>GrLivArea</th>\n",
       "      <th>LotArea</th>\n",
       "    </tr>\n",
       "  </thead>\n",
       "  <tbody>\n",
       "    <tr>\n",
       "      <th>0</th>\n",
       "      <td>1656.0</td>\n",
       "      <td>31770.0</td>\n",
       "    </tr>\n",
       "    <tr>\n",
       "      <th>1</th>\n",
       "      <td>896.0</td>\n",
       "      <td>11622.0</td>\n",
       "    </tr>\n",
       "    <tr>\n",
       "      <th>2</th>\n",
       "      <td>1329.0</td>\n",
       "      <td>14267.0</td>\n",
       "    </tr>\n",
       "    <tr>\n",
       "      <th>3</th>\n",
       "      <td>2110.0</td>\n",
       "      <td>11160.0</td>\n",
       "    </tr>\n",
       "    <tr>\n",
       "      <th>4</th>\n",
       "      <td>1629.0</td>\n",
       "      <td>13830.0</td>\n",
       "    </tr>\n",
       "    <tr>\n",
       "      <th>...</th>\n",
       "      <td>...</td>\n",
       "      <td>...</td>\n",
       "    </tr>\n",
       "    <tr>\n",
       "      <th>2925</th>\n",
       "      <td>1003.0</td>\n",
       "      <td>7937.0</td>\n",
       "    </tr>\n",
       "    <tr>\n",
       "      <th>2926</th>\n",
       "      <td>902.0</td>\n",
       "      <td>8885.0</td>\n",
       "    </tr>\n",
       "    <tr>\n",
       "      <th>2927</th>\n",
       "      <td>970.0</td>\n",
       "      <td>10441.0</td>\n",
       "    </tr>\n",
       "    <tr>\n",
       "      <th>2928</th>\n",
       "      <td>1389.0</td>\n",
       "      <td>10010.0</td>\n",
       "    </tr>\n",
       "    <tr>\n",
       "      <th>2929</th>\n",
       "      <td>2000.0</td>\n",
       "      <td>9627.0</td>\n",
       "    </tr>\n",
       "  </tbody>\n",
       "</table>\n",
       "<p>2930 rows × 2 columns</p>\n",
       "</div>"
      ],
      "text/plain": [
       "      GrLivArea  LotArea\n",
       "0        1656.0  31770.0\n",
       "1         896.0  11622.0\n",
       "2        1329.0  14267.0\n",
       "3        2110.0  11160.0\n",
       "4        1629.0  13830.0\n",
       "...         ...      ...\n",
       "2925     1003.0   7937.0\n",
       "2926      902.0   8885.0\n",
       "2927      970.0  10441.0\n",
       "2928     1389.0  10010.0\n",
       "2929     2000.0   9627.0\n",
       "\n",
       "[2930 rows x 2 columns]"
      ]
     },
     "execution_count": 2,
     "metadata": {},
     "output_type": "execute_result"
    }
   ],
   "source": [
    "X[['GrLivArea', 'LotArea']]"
   ]
  },
  {
   "cell_type": "code",
   "execution_count": 3,
   "id": "7c25460f",
   "metadata": {
    "execution": {
     "iopub.execute_input": "2022-08-05T07:48:55.991086Z",
     "iopub.status.busy": "2022-08-05T07:48:55.990121Z",
     "iopub.status.idle": "2022-08-05T07:48:56.013215Z",
     "shell.execute_reply": "2022-08-05T07:48:56.012113Z"
    },
    "lines_to_next_cell": 0,
    "papermill": {
     "duration": 0.032752,
     "end_time": "2022-08-05T07:48:56.015570",
     "exception": false,
     "start_time": "2022-08-05T07:48:55.982818",
     "status": "completed"
    },
    "tags": []
   },
   "outputs": [
    {
     "data": {
      "application/javascript": [
       "parent.postMessage({\"jupyterEvent\": \"custom.exercise_interaction\", \"data\": {\"outcomeType\": 1, \"valueTowardsCompletion\": 0.2, \"interactionType\": 1, \"questionType\": 2, \"questionId\": \"1_Q1\", \"learnToolsVersion\": \"0.3.4\", \"failureMessage\": \"\", \"exceptionClass\": \"\", \"trace\": \"\"}}, \"*\")"
      ],
      "text/plain": [
       "<IPython.core.display.Javascript object>"
      ]
     },
     "metadata": {},
     "output_type": "display_data"
    },
    {
     "data": {
      "text/markdown": [
       "<span style=\"color:#33cc33\">Correct</span>"
      ],
      "text/plain": [
       "Correct"
      ]
     },
     "metadata": {},
     "output_type": "display_data"
    }
   ],
   "source": [
    "# YOUR CODE HERE\n",
    "X_1 = pd.DataFrame()  # dataframe to hold new features\n",
    "\n",
    "X_1[\"LivLotRatio\"] = X['GrLivArea'] / X['LotArea']\n",
    "X_1[\"Spaciousness\"] = (X['FirstFlrSF'] + X['SecondFlrSF']) / X['TotRmsAbvGrd']\n",
    "X_1[\"TotalOutsideSF\"] = X['WoodDeckSF'] + X['OpenPorchSF'] + X['EnclosedPorch'] + X['Threeseasonporch'] + X['ScreenPorch']\n",
    "\n",
    "\n",
    "# Check your answer\n",
    "q_1.check()"
   ]
  },
  {
   "cell_type": "code",
   "execution_count": 4,
   "id": "4087c07f",
   "metadata": {
    "execution": {
     "iopub.execute_input": "2022-08-05T07:48:56.030296Z",
     "iopub.status.busy": "2022-08-05T07:48:56.029898Z",
     "iopub.status.idle": "2022-08-05T07:48:56.034373Z",
     "shell.execute_reply": "2022-08-05T07:48:56.033460Z"
    },
    "lines_to_next_cell": 0,
    "papermill": {
     "duration": 0.014616,
     "end_time": "2022-08-05T07:48:56.036627",
     "exception": false,
     "start_time": "2022-08-05T07:48:56.022011",
     "status": "completed"
    },
    "tags": []
   },
   "outputs": [],
   "source": [
    "# Lines below will give you a hint or solution code\n",
    "#q_1.hint()\n",
    "#q_1.solution()"
   ]
  },
  {
   "cell_type": "markdown",
   "id": "540a9a5e",
   "metadata": {
    "papermill": {
     "duration": 0.005994,
     "end_time": "2022-08-05T07:48:56.048986",
     "exception": false,
     "start_time": "2022-08-05T07:48:56.042992",
     "status": "completed"
    },
    "tags": []
   },
   "source": [
    "-------------------------------------------------------------------------------\n",
    "\n",
    "If you've discovered an interaction effect between a numeric feature and a categorical feature, you might want to model it explicitly using a one-hot encoding, like so:\n",
    "\n",
    "```\n",
    "# One-hot encode Categorical feature, adding a column prefix \"Cat\"\n",
    "X_new = pd.get_dummies(df.Categorical, prefix=\"Cat\")\n",
    "\n",
    "# Multiply row-by-row\n",
    "X_new = X_new.mul(df.Continuous, axis=0)\n",
    "\n",
    "# Join the new features to the feature set\n",
    "X = X.join(X_new)\n",
    "```\n",
    "\n",
    "# 2) Interaction with a Categorical\n",
    "\n",
    "We discovered an interaction between `BldgType` and `GrLivArea` in Exercise 2. Now create their interaction features."
   ]
  },
  {
   "cell_type": "code",
   "execution_count": 5,
   "id": "0fa617cb",
   "metadata": {
    "execution": {
     "iopub.execute_input": "2022-08-05T07:48:56.063321Z",
     "iopub.status.busy": "2022-08-05T07:48:56.062662Z",
     "iopub.status.idle": "2022-08-05T07:48:56.077011Z",
     "shell.execute_reply": "2022-08-05T07:48:56.076135Z"
    },
    "lines_to_next_cell": 0,
    "papermill": {
     "duration": 0.024023,
     "end_time": "2022-08-05T07:48:56.079276",
     "exception": false,
     "start_time": "2022-08-05T07:48:56.055253",
     "status": "completed"
    },
    "tags": []
   },
   "outputs": [
    {
     "data": {
      "application/javascript": [
       "parent.postMessage({\"jupyterEvent\": \"custom.exercise_interaction\", \"data\": {\"outcomeType\": 1, \"valueTowardsCompletion\": 0.2, \"interactionType\": 1, \"questionType\": 2, \"questionId\": \"2_Q2\", \"learnToolsVersion\": \"0.3.4\", \"failureMessage\": \"\", \"exceptionClass\": \"\", \"trace\": \"\"}}, \"*\")"
      ],
      "text/plain": [
       "<IPython.core.display.Javascript object>"
      ]
     },
     "metadata": {},
     "output_type": "display_data"
    },
    {
     "data": {
      "text/markdown": [
       "<span style=\"color:#33cc33\">Correct</span>"
      ],
      "text/plain": [
       "Correct"
      ]
     },
     "metadata": {},
     "output_type": "display_data"
    }
   ],
   "source": [
    "# YOUR CODE HERE\n",
    "# One-hot encode BldgType. Use `prefix=\"Bldg\"` in `get_dummies`\n",
    "X_2 = pd.get_dummies(X.BldgType, prefix=\"Bldg\")\n",
    "# Multiply\n",
    "X_2 = X_2.mul(X.GrLivArea, axis=0)\n",
    "\n",
    "\n",
    "# Check your answer\n",
    "q_2.check()"
   ]
  },
  {
   "cell_type": "code",
   "execution_count": 6,
   "id": "cb6d1c4e",
   "metadata": {
    "execution": {
     "iopub.execute_input": "2022-08-05T07:48:56.094705Z",
     "iopub.status.busy": "2022-08-05T07:48:56.093936Z",
     "iopub.status.idle": "2022-08-05T07:48:56.098504Z",
     "shell.execute_reply": "2022-08-05T07:48:56.097712Z"
    },
    "lines_to_next_cell": 0,
    "papermill": {
     "duration": 0.014971,
     "end_time": "2022-08-05T07:48:56.100747",
     "exception": false,
     "start_time": "2022-08-05T07:48:56.085776",
     "status": "completed"
    },
    "tags": []
   },
   "outputs": [],
   "source": [
    "# Lines below will give you a hint or solution code\n",
    "#q_2.hint()\n",
    "#q_2.solution()"
   ]
  },
  {
   "cell_type": "markdown",
   "id": "bf7b19bb",
   "metadata": {
    "lines_to_next_cell": 0,
    "papermill": {
     "duration": 0.006326,
     "end_time": "2022-08-05T07:48:56.113698",
     "exception": false,
     "start_time": "2022-08-05T07:48:56.107372",
     "status": "completed"
    },
    "tags": []
   },
   "source": [
    "# 3) Count Feature\n",
    "\n",
    "Let's try creating a feature that describes how many kinds of outdoor areas a dwelling has. Create a feature `PorchTypes` that counts how many of the following are greater than 0.0:\n",
    "\n",
    "```\n",
    "WoodDeckSF\n",
    "OpenPorchSF\n",
    "EnclosedPorch\n",
    "Threeseasonporch\n",
    "ScreenPorch\n",
    "```"
   ]
  },
  {
   "cell_type": "code",
   "execution_count": 7,
   "id": "6df883f7",
   "metadata": {
    "execution": {
     "iopub.execute_input": "2022-08-05T07:48:56.129294Z",
     "iopub.status.busy": "2022-08-05T07:48:56.128605Z",
     "iopub.status.idle": "2022-08-05T07:48:56.132839Z",
     "shell.execute_reply": "2022-08-05T07:48:56.132090Z"
    },
    "papermill": {
     "duration": 0.014568,
     "end_time": "2022-08-05T07:48:56.134947",
     "exception": false,
     "start_time": "2022-08-05T07:48:56.120379",
     "status": "completed"
    },
    "tags": []
   },
   "outputs": [],
   "source": [
    "Features = [\"WoodDeckSF\", \"OpenPorchSF\", \"EnclosedPorch\", \"Threeseasonporch\", \"ScreenPorch\"]"
   ]
  },
  {
   "cell_type": "code",
   "execution_count": 8,
   "id": "b0582d32",
   "metadata": {
    "execution": {
     "iopub.execute_input": "2022-08-05T07:48:56.150579Z",
     "iopub.status.busy": "2022-08-05T07:48:56.149816Z",
     "iopub.status.idle": "2022-08-05T07:48:56.165165Z",
     "shell.execute_reply": "2022-08-05T07:48:56.164301Z"
    },
    "lines_to_next_cell": 0,
    "papermill": {
     "duration": 0.025537,
     "end_time": "2022-08-05T07:48:56.167375",
     "exception": false,
     "start_time": "2022-08-05T07:48:56.141838",
     "status": "completed"
    },
    "tags": []
   },
   "outputs": [
    {
     "data": {
      "application/javascript": [
       "parent.postMessage({\"jupyterEvent\": \"custom.exercise_interaction\", \"data\": {\"outcomeType\": 1, \"valueTowardsCompletion\": 0.2, \"interactionType\": 1, \"questionType\": 2, \"questionId\": \"3_Q3\", \"learnToolsVersion\": \"0.3.4\", \"failureMessage\": \"\", \"exceptionClass\": \"\", \"trace\": \"\"}}, \"*\")"
      ],
      "text/plain": [
       "<IPython.core.display.Javascript object>"
      ]
     },
     "metadata": {},
     "output_type": "display_data"
    },
    {
     "data": {
      "text/markdown": [
       "<span style=\"color:#33cc33\">Correct</span>"
      ],
      "text/plain": [
       "Correct"
      ]
     },
     "metadata": {},
     "output_type": "display_data"
    }
   ],
   "source": [
    "X_3 = pd.DataFrame()\n",
    "\n",
    "# YOUR CODE HERE\n",
    "X_3[\"PorchTypes\"] = X[Features].gt(0).sum(axis=1)\n",
    "\n",
    "\n",
    "# Check your answer\n",
    "q_3.check()"
   ]
  },
  {
   "cell_type": "code",
   "execution_count": 9,
   "id": "88f288f8",
   "metadata": {
    "execution": {
     "iopub.execute_input": "2022-08-05T07:48:56.183138Z",
     "iopub.status.busy": "2022-08-05T07:48:56.182727Z",
     "iopub.status.idle": "2022-08-05T07:48:56.189950Z",
     "shell.execute_reply": "2022-08-05T07:48:56.189198Z"
    },
    "papermill": {
     "duration": 0.018043,
     "end_time": "2022-08-05T07:48:56.192268",
     "exception": false,
     "start_time": "2022-08-05T07:48:56.174225",
     "status": "completed"
    },
    "tags": []
   },
   "outputs": [
    {
     "data": {
      "text/plain": [
       "0       2\n",
       "1       2\n",
       "2       2\n",
       "3       0\n",
       "4       2\n",
       "       ..\n",
       "2925    1\n",
       "2926    1\n",
       "2927    2\n",
       "2928    2\n",
       "2929    2\n",
       "Name: PorchTypes, Length: 2930, dtype: int64"
      ]
     },
     "execution_count": 9,
     "metadata": {},
     "output_type": "execute_result"
    }
   ],
   "source": [
    "X_3[\"PorchTypes\"]"
   ]
  },
  {
   "cell_type": "code",
   "execution_count": 10,
   "id": "74d93686",
   "metadata": {
    "execution": {
     "iopub.execute_input": "2022-08-05T07:48:56.207934Z",
     "iopub.status.busy": "2022-08-05T07:48:56.207569Z",
     "iopub.status.idle": "2022-08-05T07:48:56.211707Z",
     "shell.execute_reply": "2022-08-05T07:48:56.210582Z"
    },
    "lines_to_next_cell": 0,
    "papermill": {
     "duration": 0.014649,
     "end_time": "2022-08-05T07:48:56.213945",
     "exception": false,
     "start_time": "2022-08-05T07:48:56.199296",
     "status": "completed"
    },
    "tags": []
   },
   "outputs": [],
   "source": [
    "# Lines below will give you a hint or solution code\n",
    "#q_3.hint()\n",
    "#q_3.solution()"
   ]
  },
  {
   "cell_type": "markdown",
   "id": "4e6d1c6b",
   "metadata": {
    "papermill": {
     "duration": 0.007247,
     "end_time": "2022-08-05T07:48:56.228536",
     "exception": false,
     "start_time": "2022-08-05T07:48:56.221289",
     "status": "completed"
    },
    "tags": []
   },
   "source": [
    "# 4) Break Down a Categorical Feature\n",
    "\n",
    "`MSSubClass` describes the type of a dwelling:"
   ]
  },
  {
   "cell_type": "code",
   "execution_count": 11,
   "id": "a55137d9",
   "metadata": {
    "execution": {
     "iopub.execute_input": "2022-08-05T07:48:56.244824Z",
     "iopub.status.busy": "2022-08-05T07:48:56.243730Z",
     "iopub.status.idle": "2022-08-05T07:48:56.250952Z",
     "shell.execute_reply": "2022-08-05T07:48:56.250197Z"
    },
    "papermill": {
     "duration": 0.017413,
     "end_time": "2022-08-05T07:48:56.252905",
     "exception": false,
     "start_time": "2022-08-05T07:48:56.235492",
     "status": "completed"
    },
    "tags": []
   },
   "outputs": [
    {
     "data": {
      "text/plain": [
       "array(['One_Story_1946_and_Newer_All_Styles', 'Two_Story_1946_and_Newer',\n",
       "       'One_Story_PUD_1946_and_Newer',\n",
       "       'One_and_Half_Story_Finished_All_Ages', 'Split_Foyer',\n",
       "       'Two_Story_PUD_1946_and_Newer', 'Split_or_Multilevel',\n",
       "       'One_Story_1945_and_Older', 'Duplex_All_Styles_and_Ages',\n",
       "       'Two_Family_conversion_All_Styles_and_Ages',\n",
       "       'One_and_Half_Story_Unfinished_All_Ages',\n",
       "       'Two_Story_1945_and_Older', 'Two_and_Half_Story_All_Ages',\n",
       "       'One_Story_with_Finished_Attic_All_Ages',\n",
       "       'PUD_Multilevel_Split_Level_Foyer',\n",
       "       'One_and_Half_Story_PUD_All_Ages'], dtype=object)"
      ]
     },
     "execution_count": 11,
     "metadata": {},
     "output_type": "execute_result"
    }
   ],
   "source": [
    "df.MSSubClass.unique()"
   ]
  },
  {
   "cell_type": "markdown",
   "id": "f2ab5ab9",
   "metadata": {
    "papermill": {
     "duration": 0.006881,
     "end_time": "2022-08-05T07:48:56.266982",
     "exception": false,
     "start_time": "2022-08-05T07:48:56.260101",
     "status": "completed"
    },
    "tags": []
   },
   "source": [
    "You can see that there is a more general categorization described (roughly) by the first word of each category. Create a feature containing only these first words by splitting `MSSubClass` at the first underscore `_`. (Hint: In the `split` method use an argument `n=1`.)"
   ]
  },
  {
   "cell_type": "code",
   "execution_count": 12,
   "id": "8b1c58fa",
   "metadata": {
    "execution": {
     "iopub.execute_input": "2022-08-05T07:48:56.283200Z",
     "iopub.status.busy": "2022-08-05T07:48:56.282187Z",
     "iopub.status.idle": "2022-08-05T07:48:56.307561Z",
     "shell.execute_reply": "2022-08-05T07:48:56.306446Z"
    },
    "lines_to_next_cell": 0,
    "papermill": {
     "duration": 0.03585,
     "end_time": "2022-08-05T07:48:56.309838",
     "exception": false,
     "start_time": "2022-08-05T07:48:56.273988",
     "status": "completed"
    },
    "tags": []
   },
   "outputs": [
    {
     "data": {
      "application/javascript": [
       "parent.postMessage({\"jupyterEvent\": \"custom.exercise_interaction\", \"data\": {\"outcomeType\": 1, \"valueTowardsCompletion\": 0.2, \"interactionType\": 1, \"questionType\": 2, \"questionId\": \"4_Q4\", \"learnToolsVersion\": \"0.3.4\", \"failureMessage\": \"\", \"exceptionClass\": \"\", \"trace\": \"\"}}, \"*\")"
      ],
      "text/plain": [
       "<IPython.core.display.Javascript object>"
      ]
     },
     "metadata": {},
     "output_type": "display_data"
    },
    {
     "data": {
      "text/markdown": [
       "<span style=\"color:#33cc33\">Correct</span>"
      ],
      "text/plain": [
       "Correct"
      ]
     },
     "metadata": {},
     "output_type": "display_data"
    }
   ],
   "source": [
    "X_4 = pd.DataFrame()\n",
    "\n",
    "# YOUR CODE HERE\n",
    "\n",
    "X_4['MSClass'] = df.MSSubClass.str.split(\"_\", n=1, expand=True)[0]\n",
    "\n",
    "# Check your answer\n",
    "q_4.check()"
   ]
  },
  {
   "cell_type": "code",
   "execution_count": 13,
   "id": "ef3d2eb7",
   "metadata": {
    "execution": {
     "iopub.execute_input": "2022-08-05T07:48:56.326579Z",
     "iopub.status.busy": "2022-08-05T07:48:56.326187Z",
     "iopub.status.idle": "2022-08-05T07:48:56.330659Z",
     "shell.execute_reply": "2022-08-05T07:48:56.329514Z"
    },
    "lines_to_next_cell": 0,
    "papermill": {
     "duration": 0.015702,
     "end_time": "2022-08-05T07:48:56.333020",
     "exception": false,
     "start_time": "2022-08-05T07:48:56.317318",
     "status": "completed"
    },
    "tags": []
   },
   "outputs": [],
   "source": [
    "# Lines below will give you a hint or solution code\n",
    "#q_4.hint()\n",
    "#q_4.solution()"
   ]
  },
  {
   "cell_type": "markdown",
   "id": "83b9b1cd",
   "metadata": {
    "papermill": {
     "duration": 0.007138,
     "end_time": "2022-08-05T07:48:56.347786",
     "exception": false,
     "start_time": "2022-08-05T07:48:56.340648",
     "status": "completed"
    },
    "tags": []
   },
   "source": [
    "# 5) Use a Grouped Transform\n",
    "\n",
    "The value of a home often depends on how it compares to typical homes in its neighborhood. Create a feature `MedNhbdArea` that describes the *median* of `GrLivArea` grouped on `Neighborhood`."
   ]
  },
  {
   "cell_type": "code",
   "execution_count": 14,
   "id": "d8a73a6a",
   "metadata": {
    "execution": {
     "iopub.execute_input": "2022-08-05T07:48:56.364854Z",
     "iopub.status.busy": "2022-08-05T07:48:56.364107Z",
     "iopub.status.idle": "2022-08-05T07:48:56.382511Z",
     "shell.execute_reply": "2022-08-05T07:48:56.381274Z"
    },
    "lines_to_next_cell": 0,
    "papermill": {
     "duration": 0.029518,
     "end_time": "2022-08-05T07:48:56.384750",
     "exception": false,
     "start_time": "2022-08-05T07:48:56.355232",
     "status": "completed"
    },
    "tags": []
   },
   "outputs": [
    {
     "data": {
      "application/javascript": [
       "parent.postMessage({\"jupyterEvent\": \"custom.exercise_interaction\", \"data\": {\"outcomeType\": 1, \"valueTowardsCompletion\": 0.2, \"interactionType\": 1, \"questionType\": 2, \"questionId\": \"5_Q5\", \"learnToolsVersion\": \"0.3.4\", \"failureMessage\": \"\", \"exceptionClass\": \"\", \"trace\": \"\"}}, \"*\")"
      ],
      "text/plain": [
       "<IPython.core.display.Javascript object>"
      ]
     },
     "metadata": {},
     "output_type": "display_data"
    },
    {
     "data": {
      "text/markdown": [
       "<span style=\"color:#33cc33\">Correct</span>"
      ],
      "text/plain": [
       "Correct"
      ]
     },
     "metadata": {},
     "output_type": "display_data"
    }
   ],
   "source": [
    "X_5 = pd.DataFrame()\n",
    "\n",
    "# YOUR CODE HERE\n",
    "X_5[\"MedNhbdArea\"] = X.groupby(\"Neighborhood\")[\"GrLivArea\"].transform('median')\n",
    "\n",
    "# Check your answer\n",
    "q_5.check()"
   ]
  },
  {
   "cell_type": "code",
   "execution_count": 15,
   "id": "afc10fdb",
   "metadata": {
    "execution": {
     "iopub.execute_input": "2022-08-05T07:48:56.402038Z",
     "iopub.status.busy": "2022-08-05T07:48:56.401443Z",
     "iopub.status.idle": "2022-08-05T07:48:56.405675Z",
     "shell.execute_reply": "2022-08-05T07:48:56.404903Z"
    },
    "lines_to_next_cell": 0,
    "papermill": {
     "duration": 0.015354,
     "end_time": "2022-08-05T07:48:56.407716",
     "exception": false,
     "start_time": "2022-08-05T07:48:56.392362",
     "status": "completed"
    },
    "tags": []
   },
   "outputs": [],
   "source": [
    "# Lines below will give you a hint or solution code\n",
    "#q_5.hint()\n",
    "#q_5.solution()"
   ]
  },
  {
   "cell_type": "markdown",
   "id": "9a6a3caf",
   "metadata": {
    "papermill": {
     "duration": 0.007285,
     "end_time": "2022-08-05T07:48:56.422688",
     "exception": false,
     "start_time": "2022-08-05T07:48:56.415403",
     "status": "completed"
    },
    "tags": []
   },
   "source": [
    "Now you've made your first new feature set! If you like, you can run the cell below to score the model with all of your new features added:"
   ]
  },
  {
   "cell_type": "code",
   "execution_count": 16,
   "id": "c54517c7",
   "metadata": {
    "execution": {
     "iopub.execute_input": "2022-08-05T07:48:56.439760Z",
     "iopub.status.busy": "2022-08-05T07:48:56.439116Z",
     "iopub.status.idle": "2022-08-05T07:49:01.190891Z",
     "shell.execute_reply": "2022-08-05T07:49:01.189951Z"
    },
    "papermill": {
     "duration": 4.763289,
     "end_time": "2022-08-05T07:49:01.193491",
     "exception": false,
     "start_time": "2022-08-05T07:48:56.430202",
     "status": "completed"
    },
    "tags": []
   },
   "outputs": [
    {
     "data": {
      "text/plain": [
       "0.13847331710099203"
      ]
     },
     "execution_count": 16,
     "metadata": {},
     "output_type": "execute_result"
    }
   ],
   "source": [
    "X_new = X.join([X_1, X_2, X_3, X_4, X_5])\n",
    "score_dataset(X_new, y)"
   ]
  },
  {
   "cell_type": "markdown",
   "id": "e0086546",
   "metadata": {
    "papermill": {
     "duration": 0.00756,
     "end_time": "2022-08-05T07:49:01.210330",
     "exception": false,
     "start_time": "2022-08-05T07:49:01.202770",
     "status": "completed"
    },
    "tags": []
   },
   "source": [
    "# Keep Going #\n",
    "\n",
    "[**Untangle spatial relationships**](https://www.kaggle.com/ryanholbrook/clustering-with-k-means) by adding cluster labels to your dataset."
   ]
  },
  {
   "cell_type": "markdown",
   "id": "1018fa82",
   "metadata": {
    "papermill": {
     "duration": 0.007541,
     "end_time": "2022-08-05T07:49:01.225544",
     "exception": false,
     "start_time": "2022-08-05T07:49:01.218003",
     "status": "completed"
    },
    "tags": []
   },
   "source": [
    "---\n",
    "\n",
    "\n",
    "\n",
    "\n",
    "*Have questions or comments? Visit the [course discussion forum](https://www.kaggle.com/learn/feature-engineering/discussion) to chat with other learners.*"
   ]
  }
 ],
 "metadata": {
  "kernelspec": {
   "display_name": "Python 3",
   "language": "python",
   "name": "python3"
  },
  "language_info": {
   "codemirror_mode": {
    "name": "ipython",
    "version": 3
   },
   "file_extension": ".py",
   "mimetype": "text/x-python",
   "name": "python",
   "nbconvert_exporter": "python",
   "pygments_lexer": "ipython3",
   "version": "3.7.12"
  },
  "papermill": {
   "default_parameters": {},
   "duration": 16.948389,
   "end_time": "2022-08-05T07:49:01.955708",
   "environment_variables": {},
   "exception": null,
   "input_path": "__notebook__.ipynb",
   "output_path": "__notebook__.ipynb",
   "parameters": {},
   "start_time": "2022-08-05T07:48:45.007319",
   "version": "2.3.4"
  }
 },
 "nbformat": 4,
 "nbformat_minor": 5
}
