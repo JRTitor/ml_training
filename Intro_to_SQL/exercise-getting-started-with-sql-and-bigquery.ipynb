{
 "cells": [
  {
   "cell_type": "markdown",
   "id": "e9efd918",
   "metadata": {
    "papermill": {
     "duration": 0.006667,
     "end_time": "2022-08-19T18:24:28.750542",
     "exception": false,
     "start_time": "2022-08-19T18:24:28.743875",
     "status": "completed"
    },
    "tags": []
   },
   "source": [
    "**This notebook is an exercise in the [SQL](https://www.kaggle.com/learn/intro-to-sql) course.  You can reference the tutorial at [this link](https://www.kaggle.com/dansbecker/getting-started-with-sql-and-bigquery).**\n",
    "\n",
    "---\n"
   ]
  },
  {
   "cell_type": "markdown",
   "id": "9c6909c3",
   "metadata": {
    "papermill": {
     "duration": 0.005082,
     "end_time": "2022-08-19T18:24:28.761070",
     "exception": false,
     "start_time": "2022-08-19T18:24:28.755988",
     "status": "completed"
    },
    "tags": []
   },
   "source": [
    "# Introduction\n",
    "\n",
    "The first test of your new data exploration skills uses data describing crime in the city of Chicago.\n",
    "\n",
    "Before you get started, run the following cell. It sets up the automated feedback system to review your answers."
   ]
  },
  {
   "cell_type": "code",
   "execution_count": 1,
   "id": "cee59275",
   "metadata": {
    "execution": {
     "iopub.execute_input": "2022-08-19T18:24:28.774095Z",
     "iopub.status.busy": "2022-08-19T18:24:28.773566Z",
     "iopub.status.idle": "2022-08-19T18:24:29.759441Z",
     "shell.execute_reply": "2022-08-19T18:24:29.757879Z"
    },
    "papermill": {
     "duration": 0.996067,
     "end_time": "2022-08-19T18:24:29.762659",
     "exception": false,
     "start_time": "2022-08-19T18:24:28.766592",
     "status": "completed"
    },
    "tags": []
   },
   "outputs": [
    {
     "name": "stdout",
     "output_type": "stream",
     "text": [
      "Using Kaggle's public dataset BigQuery integration.\n",
      "Setup Complete\n"
     ]
    }
   ],
   "source": [
    "# Set up feedack system\n",
    "from learntools.core import binder\n",
    "binder.bind(globals())\n",
    "from learntools.sql.ex1 import *\n",
    "print(\"Setup Complete\")"
   ]
  },
  {
   "cell_type": "markdown",
   "id": "14fbbcae",
   "metadata": {
    "papermill": {
     "duration": 0.005168,
     "end_time": "2022-08-19T18:24:29.773412",
     "exception": false,
     "start_time": "2022-08-19T18:24:29.768244",
     "status": "completed"
    },
    "tags": []
   },
   "source": [
    "Use the next code cell to fetch the dataset."
   ]
  },
  {
   "cell_type": "code",
   "execution_count": 2,
   "id": "0b991ec4",
   "metadata": {
    "execution": {
     "iopub.execute_input": "2022-08-19T18:24:29.786015Z",
     "iopub.status.busy": "2022-08-19T18:24:29.785552Z",
     "iopub.status.idle": "2022-08-19T18:24:30.181963Z",
     "shell.execute_reply": "2022-08-19T18:24:30.180653Z"
    },
    "papermill": {
     "duration": 0.406176,
     "end_time": "2022-08-19T18:24:30.185041",
     "exception": false,
     "start_time": "2022-08-19T18:24:29.778865",
     "status": "completed"
    },
    "tags": []
   },
   "outputs": [
    {
     "name": "stdout",
     "output_type": "stream",
     "text": [
      "Using Kaggle's public dataset BigQuery integration.\n"
     ]
    }
   ],
   "source": [
    "from google.cloud import bigquery\n",
    "\n",
    "# Create a \"Client\" object\n",
    "client = bigquery.Client()\n",
    "\n",
    "# Construct a reference to the \"chicago_crime\" dataset\n",
    "dataset_ref = client.dataset(\"chicago_crime\", project=\"bigquery-public-data\")\n",
    "\n",
    "# API request - fetch the dataset\n",
    "dataset = client.get_dataset(dataset_ref)"
   ]
  },
  {
   "cell_type": "markdown",
   "id": "57af6ba3",
   "metadata": {
    "papermill": {
     "duration": 0.005837,
     "end_time": "2022-08-19T18:24:30.197219",
     "exception": false,
     "start_time": "2022-08-19T18:24:30.191382",
     "status": "completed"
    },
    "tags": []
   },
   "source": [
    "# Exercises\n",
    "\n",
    "### 1) Count tables in the dataset\n",
    "\n",
    "How many tables are in the Chicago Crime dataset?"
   ]
  },
  {
   "cell_type": "code",
   "execution_count": 3,
   "id": "7d764903",
   "metadata": {
    "execution": {
     "iopub.execute_input": "2022-08-19T18:24:30.211755Z",
     "iopub.status.busy": "2022-08-19T18:24:30.210675Z",
     "iopub.status.idle": "2022-08-19T18:24:30.479589Z",
     "shell.execute_reply": "2022-08-19T18:24:30.478190Z"
    },
    "papermill": {
     "duration": 0.278836,
     "end_time": "2022-08-19T18:24:30.482249",
     "exception": false,
     "start_time": "2022-08-19T18:24:30.203413",
     "status": "completed"
    },
    "tags": []
   },
   "outputs": [
    {
     "data": {
      "text/plain": [
       "1"
      ]
     },
     "execution_count": 3,
     "metadata": {},
     "output_type": "execute_result"
    }
   ],
   "source": [
    "# Write the code you need here to figure out the answer\n",
    "len(list(client.list_tables(dataset)))"
   ]
  },
  {
   "cell_type": "code",
   "execution_count": 4,
   "id": "c30455ae",
   "metadata": {
    "execution": {
     "iopub.execute_input": "2022-08-19T18:24:30.495750Z",
     "iopub.status.busy": "2022-08-19T18:24:30.495321Z",
     "iopub.status.idle": "2022-08-19T18:24:30.811860Z",
     "shell.execute_reply": "2022-08-19T18:24:30.810755Z"
    },
    "papermill": {
     "duration": 0.32607,
     "end_time": "2022-08-19T18:24:30.814187",
     "exception": false,
     "start_time": "2022-08-19T18:24:30.488117",
     "status": "completed"
    },
    "tags": []
   },
   "outputs": [
    {
     "data": {
      "application/javascript": [
       "parent.postMessage({\"jupyterEvent\": \"custom.exercise_interaction\", \"data\": {\"outcomeType\": 1, \"valueTowardsCompletion\": 0.3333333333333333, \"interactionType\": 1, \"questionType\": 1, \"questionId\": \"1_CountTables\", \"learnToolsVersion\": \"0.3.4\", \"failureMessage\": \"\", \"exceptionClass\": \"\", \"trace\": \"\"}}, \"*\")"
      ],
      "text/plain": [
       "<IPython.core.display.Javascript object>"
      ]
     },
     "metadata": {},
     "output_type": "display_data"
    },
    {
     "data": {
      "text/markdown": [
       "<span style=\"color:#33cc33\">Correct</span>"
      ],
      "text/plain": [
       "Correct"
      ]
     },
     "metadata": {},
     "output_type": "display_data"
    }
   ],
   "source": [
    "num_tables = len(list(client.list_tables(dataset)))  # Store the answer as num_tables and then run this cell\n",
    "\n",
    "# Check your answer\n",
    "q_1.check()"
   ]
  },
  {
   "cell_type": "markdown",
   "id": "c19c5c86",
   "metadata": {
    "papermill": {
     "duration": 0.006083,
     "end_time": "2022-08-19T18:24:30.826308",
     "exception": false,
     "start_time": "2022-08-19T18:24:30.820225",
     "status": "completed"
    },
    "tags": []
   },
   "source": [
    "For a hint or the solution, uncomment the appropriate line below."
   ]
  },
  {
   "cell_type": "code",
   "execution_count": 5,
   "id": "c1a847c9",
   "metadata": {
    "execution": {
     "iopub.execute_input": "2022-08-19T18:24:30.840660Z",
     "iopub.status.busy": "2022-08-19T18:24:30.840232Z",
     "iopub.status.idle": "2022-08-19T18:24:30.845498Z",
     "shell.execute_reply": "2022-08-19T18:24:30.844077Z"
    },
    "papermill": {
     "duration": 0.015746,
     "end_time": "2022-08-19T18:24:30.848059",
     "exception": false,
     "start_time": "2022-08-19T18:24:30.832313",
     "status": "completed"
    },
    "tags": []
   },
   "outputs": [],
   "source": [
    "#q_1.hint()\n",
    "#q_1.solution()"
   ]
  },
  {
   "cell_type": "markdown",
   "id": "dea4f1eb",
   "metadata": {
    "papermill": {
     "duration": 0.005818,
     "end_time": "2022-08-19T18:24:30.860044",
     "exception": false,
     "start_time": "2022-08-19T18:24:30.854226",
     "status": "completed"
    },
    "tags": []
   },
   "source": [
    "### 2) Explore the table schema\n",
    "\n",
    "How many columns in the `crime` table have `TIMESTAMP` data?"
   ]
  },
  {
   "cell_type": "code",
   "execution_count": 6,
   "id": "3a52d657",
   "metadata": {
    "execution": {
     "iopub.execute_input": "2022-08-19T18:24:30.876282Z",
     "iopub.status.busy": "2022-08-19T18:24:30.875519Z",
     "iopub.status.idle": "2022-08-19T18:24:31.851513Z",
     "shell.execute_reply": "2022-08-19T18:24:31.849771Z"
    },
    "papermill": {
     "duration": 0.986662,
     "end_time": "2022-08-19T18:24:31.854710",
     "exception": false,
     "start_time": "2022-08-19T18:24:30.868048",
     "status": "completed"
    },
    "tags": []
   },
   "outputs": [
    {
     "name": "stderr",
     "output_type": "stream",
     "text": [
      "/opt/conda/lib/python3.7/site-packages/ipykernel_launcher.py:4: UserWarning: Cannot use bqstorage_client if max_results is set, reverting to fetching data with the tabledata.list endpoint.\n",
      "  after removing the cwd from sys.path.\n"
     ]
    },
    {
     "name": "stdout",
     "output_type": "stream",
     "text": [
      "<class 'pandas.core.frame.DataFrame'>\n",
      "RangeIndex: 5 entries, 0 to 4\n",
      "Data columns (total 22 columns):\n",
      " #   Column                Non-Null Count  Dtype              \n",
      "---  ------                --------------  -----              \n",
      " 0   unique_key            5 non-null      int64              \n",
      " 1   case_number           5 non-null      object             \n",
      " 2   date                  5 non-null      datetime64[ns, UTC]\n",
      " 3   block                 5 non-null      object             \n",
      " 4   iucr                  5 non-null      object             \n",
      " 5   primary_type          5 non-null      object             \n",
      " 6   description           5 non-null      object             \n",
      " 7   location_description  5 non-null      object             \n",
      " 8   arrest                5 non-null      bool               \n",
      " 9   domestic              5 non-null      bool               \n",
      " 10  beat                  5 non-null      int64              \n",
      " 11  district              5 non-null      int64              \n",
      " 12  ward                  5 non-null      int64              \n",
      " 13  community_area        5 non-null      int64              \n",
      " 14  fbi_code              5 non-null      object             \n",
      " 15  x_coordinate          5 non-null      float64            \n",
      " 16  y_coordinate          5 non-null      float64            \n",
      " 17  year                  5 non-null      int64              \n",
      " 18  updated_on            5 non-null      datetime64[ns, UTC]\n",
      " 19  latitude              5 non-null      float64            \n",
      " 20  longitude             5 non-null      float64            \n",
      " 21  location              5 non-null      object             \n",
      "dtypes: bool(2), datetime64[ns, UTC](2), float64(4), int64(6), object(8)\n",
      "memory usage: 938.0+ bytes\n"
     ]
    }
   ],
   "source": [
    "# Write the code to figure out the answer\n",
    "table_crime = client.get_table(dataset_ref.table(\"crime\"))\n",
    "table_crime.schema\n",
    "client.list_rows(table_crime, selected_fields=table_crime.schema[:], max_results=5).to_dataframe().info()"
   ]
  },
  {
   "cell_type": "code",
   "execution_count": 7,
   "id": "b3edad7c",
   "metadata": {
    "execution": {
     "iopub.execute_input": "2022-08-19T18:24:31.869302Z",
     "iopub.status.busy": "2022-08-19T18:24:31.868895Z",
     "iopub.status.idle": "2022-08-19T18:24:31.877288Z",
     "shell.execute_reply": "2022-08-19T18:24:31.876329Z"
    },
    "papermill": {
     "duration": 0.018357,
     "end_time": "2022-08-19T18:24:31.879637",
     "exception": false,
     "start_time": "2022-08-19T18:24:31.861280",
     "status": "completed"
    },
    "tags": []
   },
   "outputs": [
    {
     "data": {
      "application/javascript": [
       "parent.postMessage({\"jupyterEvent\": \"custom.exercise_interaction\", \"data\": {\"outcomeType\": 1, \"valueTowardsCompletion\": 0.3333333333333333, \"interactionType\": 1, \"questionType\": 1, \"questionId\": \"2_CountTimestampFields\", \"learnToolsVersion\": \"0.3.4\", \"failureMessage\": \"\", \"exceptionClass\": \"\", \"trace\": \"\"}}, \"*\")"
      ],
      "text/plain": [
       "<IPython.core.display.Javascript object>"
      ]
     },
     "metadata": {},
     "output_type": "display_data"
    },
    {
     "data": {
      "text/markdown": [
       "<span style=\"color:#33cc33\">Correct</span>"
      ],
      "text/plain": [
       "Correct"
      ]
     },
     "metadata": {},
     "output_type": "display_data"
    }
   ],
   "source": [
    "num_timestamp_fields = 2 # Put your answer here\n",
    "\n",
    "# Check your answer\n",
    "q_2.check()"
   ]
  },
  {
   "cell_type": "markdown",
   "id": "26bec8fb",
   "metadata": {
    "papermill": {
     "duration": 0.006801,
     "end_time": "2022-08-19T18:24:31.892787",
     "exception": false,
     "start_time": "2022-08-19T18:24:31.885986",
     "status": "completed"
    },
    "tags": []
   },
   "source": [
    "For a hint or the solution, uncomment the appropriate line below."
   ]
  },
  {
   "cell_type": "code",
   "execution_count": 8,
   "id": "3ed21304",
   "metadata": {
    "execution": {
     "iopub.execute_input": "2022-08-19T18:24:31.907681Z",
     "iopub.status.busy": "2022-08-19T18:24:31.906613Z",
     "iopub.status.idle": "2022-08-19T18:24:31.910788Z",
     "shell.execute_reply": "2022-08-19T18:24:31.909962Z"
    },
    "papermill": {
     "duration": 0.013929,
     "end_time": "2022-08-19T18:24:31.913009",
     "exception": false,
     "start_time": "2022-08-19T18:24:31.899080",
     "status": "completed"
    },
    "tags": []
   },
   "outputs": [],
   "source": [
    "#q_2.hint()\n",
    "#q_2.solution()"
   ]
  },
  {
   "cell_type": "markdown",
   "id": "0193292d",
   "metadata": {
    "papermill": {
     "duration": 0.005913,
     "end_time": "2022-08-19T18:24:31.925247",
     "exception": false,
     "start_time": "2022-08-19T18:24:31.919334",
     "status": "completed"
    },
    "tags": []
   },
   "source": [
    "### 3) Create a crime map\n",
    "\n",
    "If you wanted to create a map with a dot at the location of each crime, what are the names of the two fields you likely need to pull out of the `crime` table to plot the crimes on a map?"
   ]
  },
  {
   "cell_type": "code",
   "execution_count": 9,
   "id": "2248ee1a",
   "metadata": {
    "execution": {
     "iopub.execute_input": "2022-08-19T18:24:31.939917Z",
     "iopub.status.busy": "2022-08-19T18:24:31.939482Z",
     "iopub.status.idle": "2022-08-19T18:24:31.946554Z",
     "shell.execute_reply": "2022-08-19T18:24:31.945516Z"
    },
    "papermill": {
     "duration": 0.017369,
     "end_time": "2022-08-19T18:24:31.948958",
     "exception": false,
     "start_time": "2022-08-19T18:24:31.931589",
     "status": "completed"
    },
    "tags": []
   },
   "outputs": [
    {
     "data": {
      "text/plain": [
       "[SchemaField('unique_key', 'INTEGER', 'REQUIRED', None, (), None),\n",
       " SchemaField('case_number', 'STRING', 'NULLABLE', None, (), None),\n",
       " SchemaField('date', 'TIMESTAMP', 'NULLABLE', None, (), None),\n",
       " SchemaField('block', 'STRING', 'NULLABLE', None, (), None),\n",
       " SchemaField('iucr', 'STRING', 'NULLABLE', None, (), None),\n",
       " SchemaField('primary_type', 'STRING', 'NULLABLE', None, (), None),\n",
       " SchemaField('description', 'STRING', 'NULLABLE', None, (), None),\n",
       " SchemaField('location_description', 'STRING', 'NULLABLE', None, (), None),\n",
       " SchemaField('arrest', 'BOOLEAN', 'NULLABLE', None, (), None),\n",
       " SchemaField('domestic', 'BOOLEAN', 'NULLABLE', None, (), None),\n",
       " SchemaField('beat', 'INTEGER', 'NULLABLE', None, (), None),\n",
       " SchemaField('district', 'INTEGER', 'NULLABLE', None, (), None),\n",
       " SchemaField('ward', 'INTEGER', 'NULLABLE', None, (), None),\n",
       " SchemaField('community_area', 'INTEGER', 'NULLABLE', None, (), None),\n",
       " SchemaField('fbi_code', 'STRING', 'NULLABLE', None, (), None),\n",
       " SchemaField('x_coordinate', 'FLOAT', 'NULLABLE', None, (), None),\n",
       " SchemaField('y_coordinate', 'FLOAT', 'NULLABLE', None, (), None),\n",
       " SchemaField('year', 'INTEGER', 'NULLABLE', None, (), None),\n",
       " SchemaField('updated_on', 'TIMESTAMP', 'NULLABLE', None, (), None),\n",
       " SchemaField('latitude', 'FLOAT', 'NULLABLE', None, (), None),\n",
       " SchemaField('longitude', 'FLOAT', 'NULLABLE', None, (), None),\n",
       " SchemaField('location', 'STRING', 'NULLABLE', None, (), None)]"
      ]
     },
     "execution_count": 9,
     "metadata": {},
     "output_type": "execute_result"
    }
   ],
   "source": [
    "# Write the code here to explore the data so you can find the answer\n",
    "table_crime.schema"
   ]
  },
  {
   "cell_type": "code",
   "execution_count": 10,
   "id": "0945355f",
   "metadata": {
    "execution": {
     "iopub.execute_input": "2022-08-19T18:24:31.964376Z",
     "iopub.status.busy": "2022-08-19T18:24:31.963723Z",
     "iopub.status.idle": "2022-08-19T18:24:31.971436Z",
     "shell.execute_reply": "2022-08-19T18:24:31.970624Z"
    },
    "papermill": {
     "duration": 0.018076,
     "end_time": "2022-08-19T18:24:31.973500",
     "exception": false,
     "start_time": "2022-08-19T18:24:31.955424",
     "status": "completed"
    },
    "tags": []
   },
   "outputs": [
    {
     "data": {
      "application/javascript": [
       "parent.postMessage({\"jupyterEvent\": \"custom.exercise_interaction\", \"data\": {\"outcomeType\": 1, \"valueTowardsCompletion\": 0.3333333333333333, \"interactionType\": 1, \"questionType\": 2, \"questionId\": \"3_IdentifyFieldsForPlotting\", \"learnToolsVersion\": \"0.3.4\", \"failureMessage\": \"\", \"exceptionClass\": \"\", \"trace\": \"\"}}, \"*\")"
      ],
      "text/plain": [
       "<IPython.core.display.Javascript object>"
      ]
     },
     "metadata": {},
     "output_type": "display_data"
    },
    {
     "data": {
      "text/markdown": [
       "<span style=\"color:#33cc33\">Correct</span>"
      ],
      "text/plain": [
       "Correct"
      ]
     },
     "metadata": {},
     "output_type": "display_data"
    }
   ],
   "source": [
    "fields_for_plotting = ['latitude', 'longitude'] # Put your answers here\n",
    "\n",
    "# Check your answer\n",
    "q_3.check()"
   ]
  },
  {
   "cell_type": "markdown",
   "id": "589f5d3b",
   "metadata": {
    "papermill": {
     "duration": 0.006324,
     "end_time": "2022-08-19T18:24:31.986576",
     "exception": false,
     "start_time": "2022-08-19T18:24:31.980252",
     "status": "completed"
    },
    "tags": []
   },
   "source": [
    "For a hint or the solution, uncomment the appropriate line below."
   ]
  },
  {
   "cell_type": "code",
   "execution_count": 11,
   "id": "a9278ab3",
   "metadata": {
    "execution": {
     "iopub.execute_input": "2022-08-19T18:24:32.002101Z",
     "iopub.status.busy": "2022-08-19T18:24:32.001310Z",
     "iopub.status.idle": "2022-08-19T18:24:32.006166Z",
     "shell.execute_reply": "2022-08-19T18:24:32.004967Z"
    },
    "papermill": {
     "duration": 0.015429,
     "end_time": "2022-08-19T18:24:32.008623",
     "exception": false,
     "start_time": "2022-08-19T18:24:31.993194",
     "status": "completed"
    },
    "tags": []
   },
   "outputs": [],
   "source": [
    "#q_3.hint()\n",
    "#q_3.solution()"
   ]
  },
  {
   "cell_type": "markdown",
   "id": "dca97362",
   "metadata": {
    "papermill": {
     "duration": 0.006528,
     "end_time": "2022-08-19T18:24:32.022011",
     "exception": false,
     "start_time": "2022-08-19T18:24:32.015483",
     "status": "completed"
    },
    "tags": []
   },
   "source": [
    "Thinking about the question above, there are a few columns that appear to have geographic data. Look at a few values (with the `list_rows()` command) to see if you can determine their relationship.  Two columns will still be hard to interpret. But it should be obvious how the `location` column relates to `latitude` and `longitude`."
   ]
  },
  {
   "cell_type": "code",
   "execution_count": 12,
   "id": "1bd4d5ad",
   "metadata": {
    "execution": {
     "iopub.execute_input": "2022-08-19T18:24:32.038188Z",
     "iopub.status.busy": "2022-08-19T18:24:32.037406Z",
     "iopub.status.idle": "2022-08-19T18:24:32.041733Z",
     "shell.execute_reply": "2022-08-19T18:24:32.040871Z"
    },
    "papermill": {
     "duration": 0.014899,
     "end_time": "2022-08-19T18:24:32.044068",
     "exception": false,
     "start_time": "2022-08-19T18:24:32.029169",
     "status": "completed"
    },
    "tags": []
   },
   "outputs": [],
   "source": [
    "# Scratch space for your code"
   ]
  },
  {
   "cell_type": "markdown",
   "id": "c6aaf268",
   "metadata": {
    "papermill": {
     "duration": 0.006486,
     "end_time": "2022-08-19T18:24:32.057383",
     "exception": false,
     "start_time": "2022-08-19T18:24:32.050897",
     "status": "completed"
    },
    "tags": []
   },
   "source": [
    "# Keep going\n",
    "\n",
    "You've looked at the schema, but you haven't yet done anything exciting with the data itself. Things get more interesting when you get to the data, so keep going to **[write your first SQL query](https://www.kaggle.com/dansbecker/select-from-where).**"
   ]
  },
  {
   "cell_type": "markdown",
   "id": "6b301b75",
   "metadata": {
    "papermill": {
     "duration": 0.006479,
     "end_time": "2022-08-19T18:24:32.071662",
     "exception": false,
     "start_time": "2022-08-19T18:24:32.065183",
     "status": "completed"
    },
    "tags": []
   },
   "source": [
    "---\n",
    "\n",
    "\n",
    "\n",
    "\n",
    "*Have questions or comments? Visit the [course discussion forum](https://www.kaggle.com/learn/intro-to-sql/discussion) to chat with other learners.*"
   ]
  }
 ],
 "metadata": {
  "kernelspec": {
   "display_name": "Python 3",
   "language": "python",
   "name": "python3"
  },
  "language_info": {
   "codemirror_mode": {
    "name": "ipython",
    "version": 3
   },
   "file_extension": ".py",
   "mimetype": "text/x-python",
   "name": "python",
   "nbconvert_exporter": "python",
   "pygments_lexer": "ipython3",
   "version": "3.7.12"
  },
  "papermill": {
   "default_parameters": {},
   "duration": 15.377013,
   "end_time": "2022-08-19T18:24:32.801288",
   "environment_variables": {},
   "exception": null,
   "input_path": "__notebook__.ipynb",
   "output_path": "__notebook__.ipynb",
   "parameters": {},
   "start_time": "2022-08-19T18:24:17.424275",
   "version": "2.3.4"
  }
 },
 "nbformat": 4,
 "nbformat_minor": 5
}
