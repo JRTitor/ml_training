{
 "cells": [
  {
   "cell_type": "markdown",
   "id": "4601171e",
   "metadata": {
    "papermill": {
     "duration": 0.007418,
     "end_time": "2022-08-09T08:19:11.215793",
     "exception": false,
     "start_time": "2022-08-09T08:19:11.208375",
     "status": "completed"
    },
    "tags": []
   },
   "source": [
    "**This notebook is an exercise in the [Intro to Deep Learning](https://www.kaggle.com/learn/intro-to-deep-learning) course.  You can reference the tutorial at [this link](https://www.kaggle.com/ryanholbrook/overfitting-and-underfitting).**\n",
    "\n",
    "---\n"
   ]
  },
  {
   "cell_type": "markdown",
   "id": "e555621d",
   "metadata": {
    "papermill": {
     "duration": 0.004427,
     "end_time": "2022-08-09T08:19:11.225053",
     "exception": false,
     "start_time": "2022-08-09T08:19:11.220626",
     "status": "completed"
    },
    "tags": []
   },
   "source": [
    "# Introduction #\n",
    "\n",
    "In this exercise, you’ll learn how to improve training outcomes by including an early stopping callback to prevent overfitting.\n",
    "\n",
    "When you're ready, run this next cell to set everything up!"
   ]
  },
  {
   "cell_type": "code",
   "execution_count": 1,
   "id": "ef542ca9",
   "metadata": {
    "execution": {
     "iopub.execute_input": "2022-08-09T08:19:11.236200Z",
     "iopub.status.busy": "2022-08-09T08:19:11.235761Z",
     "iopub.status.idle": "2022-08-09T08:19:11.276890Z",
     "shell.execute_reply": "2022-08-09T08:19:11.275952Z"
    },
    "papermill": {
     "duration": 0.049505,
     "end_time": "2022-08-09T08:19:11.279240",
     "exception": false,
     "start_time": "2022-08-09T08:19:11.229735",
     "status": "completed"
    },
    "tags": []
   },
   "outputs": [],
   "source": [
    "# Setup plotting\n",
    "import matplotlib.pyplot as plt\n",
    "plt.style.use('seaborn-whitegrid')\n",
    "# Set Matplotlib defaults\n",
    "plt.rc('figure', autolayout=True)\n",
    "plt.rc('axes', labelweight='bold', labelsize='large',\n",
    "       titleweight='bold', titlesize=18, titlepad=10)\n",
    "plt.rc('animation', html='html5')\n",
    "\n",
    "# Setup feedback system\n",
    "from learntools.core import binder\n",
    "binder.bind(globals())\n",
    "from learntools.deep_learning_intro.ex4 import *"
   ]
  },
  {
   "cell_type": "markdown",
   "id": "a122487a",
   "metadata": {
    "papermill": {
     "duration": 0.004416,
     "end_time": "2022-08-09T08:19:11.288234",
     "exception": false,
     "start_time": "2022-08-09T08:19:11.283818",
     "status": "completed"
    },
    "tags": []
   },
   "source": [
    "First load the *Spotify* dataset. Your task will be to predict the popularity of a song based on various audio features, like `'tempo'`, `'danceability'`, and `'mode'`."
   ]
  },
  {
   "cell_type": "code",
   "execution_count": 2,
   "id": "423127e8",
   "metadata": {
    "execution": {
     "iopub.execute_input": "2022-08-09T08:19:11.298839Z",
     "iopub.status.busy": "2022-08-09T08:19:11.298109Z",
     "iopub.status.idle": "2022-08-09T08:19:17.906993Z",
     "shell.execute_reply": "2022-08-09T08:19:17.905834Z"
    },
    "papermill": {
     "duration": 6.617355,
     "end_time": "2022-08-09T08:19:17.910249",
     "exception": false,
     "start_time": "2022-08-09T08:19:11.292894",
     "status": "completed"
    },
    "tags": []
   },
   "outputs": [
    {
     "name": "stdout",
     "output_type": "stream",
     "text": [
      "Input shape: [18]\n"
     ]
    }
   ],
   "source": [
    "import pandas as pd\n",
    "from sklearn.preprocessing import StandardScaler, OneHotEncoder\n",
    "from sklearn.compose import make_column_transformer\n",
    "from sklearn.model_selection import GroupShuffleSplit\n",
    "\n",
    "from tensorflow import keras\n",
    "from tensorflow.keras import layers\n",
    "from tensorflow.keras import callbacks\n",
    "\n",
    "spotify = pd.read_csv('../input/dl-course-data/spotify.csv')\n",
    "\n",
    "X = spotify.copy().dropna()\n",
    "y = X.pop('track_popularity')\n",
    "artists = X['track_artist']\n",
    "\n",
    "features_num = ['danceability', 'energy', 'key', 'loudness', 'mode',\n",
    "                'speechiness', 'acousticness', 'instrumentalness',\n",
    "                'liveness', 'valence', 'tempo', 'duration_ms']\n",
    "features_cat = ['playlist_genre']\n",
    "\n",
    "preprocessor = make_column_transformer(\n",
    "    (StandardScaler(), features_num),\n",
    "    (OneHotEncoder(), features_cat),\n",
    ")\n",
    "\n",
    "# We'll do a \"grouped\" split to keep all of an artist's songs in one\n",
    "# split or the other. This is to help prevent signal leakage.\n",
    "def group_split(X, y, group, train_size=0.75):\n",
    "    splitter = GroupShuffleSplit(train_size=train_size)\n",
    "    train, test = next(splitter.split(X, y, groups=group))\n",
    "    return (X.iloc[train], X.iloc[test], y.iloc[train], y.iloc[test])\n",
    "\n",
    "X_train, X_valid, y_train, y_valid = group_split(X, y, artists)\n",
    "\n",
    "X_train = preprocessor.fit_transform(X_train)\n",
    "X_valid = preprocessor.transform(X_valid)\n",
    "y_train = y_train / 100 # popularity is on a scale 0-100, so this rescales to 0-1.\n",
    "y_valid = y_valid / 100\n",
    "\n",
    "input_shape = [X_train.shape[1]]\n",
    "print(\"Input shape: {}\".format(input_shape))"
   ]
  },
  {
   "cell_type": "markdown",
   "id": "e9036c1b",
   "metadata": {
    "papermill": {
     "duration": 0.004394,
     "end_time": "2022-08-09T08:19:17.920545",
     "exception": false,
     "start_time": "2022-08-09T08:19:17.916151",
     "status": "completed"
    },
    "tags": []
   },
   "source": [
    "Let's start with the simplest network, a linear model. This model has low capacity.\n",
    "\n",
    "Run this next cell without any changes to train a linear model on the *Spotify* dataset."
   ]
  },
  {
   "cell_type": "code",
   "execution_count": 3,
   "id": "e11d7c8c",
   "metadata": {
    "execution": {
     "iopub.execute_input": "2022-08-09T08:19:17.931151Z",
     "iopub.status.busy": "2022-08-09T08:19:17.930205Z",
     "iopub.status.idle": "2022-08-09T08:19:31.734582Z",
     "shell.execute_reply": "2022-08-09T08:19:31.733680Z"
    },
    "lines_to_next_cell": 0,
    "papermill": {
     "duration": 13.811779,
     "end_time": "2022-08-09T08:19:31.736700",
     "exception": false,
     "start_time": "2022-08-09T08:19:17.924921",
     "status": "completed"
    },
    "tags": []
   },
   "outputs": [
    {
     "name": "stderr",
     "output_type": "stream",
     "text": [
      "2022-08-09 08:19:18.032876: I tensorflow/stream_executor/cuda/cuda_gpu_executor.cc:937] successful NUMA node read from SysFS had negative value (-1), but there must be at least one NUMA node, so returning NUMA node zero\n",
      "2022-08-09 08:19:18.150842: I tensorflow/stream_executor/cuda/cuda_gpu_executor.cc:937] successful NUMA node read from SysFS had negative value (-1), but there must be at least one NUMA node, so returning NUMA node zero\n",
      "2022-08-09 08:19:18.151626: I tensorflow/stream_executor/cuda/cuda_gpu_executor.cc:937] successful NUMA node read from SysFS had negative value (-1), but there must be at least one NUMA node, so returning NUMA node zero\n",
      "2022-08-09 08:19:18.153082: I tensorflow/core/platform/cpu_feature_guard.cc:142] This TensorFlow binary is optimized with oneAPI Deep Neural Network Library (oneDNN) to use the following CPU instructions in performance-critical operations:  AVX2 AVX512F FMA\n",
      "To enable them in other operations, rebuild TensorFlow with the appropriate compiler flags.\n",
      "2022-08-09 08:19:18.153382: I tensorflow/stream_executor/cuda/cuda_gpu_executor.cc:937] successful NUMA node read from SysFS had negative value (-1), but there must be at least one NUMA node, so returning NUMA node zero\n",
      "2022-08-09 08:19:18.154095: I tensorflow/stream_executor/cuda/cuda_gpu_executor.cc:937] successful NUMA node read from SysFS had negative value (-1), but there must be at least one NUMA node, so returning NUMA node zero\n",
      "2022-08-09 08:19:18.154732: I tensorflow/stream_executor/cuda/cuda_gpu_executor.cc:937] successful NUMA node read from SysFS had negative value (-1), but there must be at least one NUMA node, so returning NUMA node zero\n",
      "2022-08-09 08:19:20.406164: I tensorflow/stream_executor/cuda/cuda_gpu_executor.cc:937] successful NUMA node read from SysFS had negative value (-1), but there must be at least one NUMA node, so returning NUMA node zero\n",
      "2022-08-09 08:19:20.407063: I tensorflow/stream_executor/cuda/cuda_gpu_executor.cc:937] successful NUMA node read from SysFS had negative value (-1), but there must be at least one NUMA node, so returning NUMA node zero\n",
      "2022-08-09 08:19:20.407748: I tensorflow/stream_executor/cuda/cuda_gpu_executor.cc:937] successful NUMA node read from SysFS had negative value (-1), but there must be at least one NUMA node, so returning NUMA node zero\n",
      "2022-08-09 08:19:20.408363: I tensorflow/core/common_runtime/gpu/gpu_device.cc:1510] Created device /job:localhost/replica:0/task:0/device:GPU:0 with 15403 MB memory:  -> device: 0, name: Tesla P100-PCIE-16GB, pci bus id: 0000:00:04.0, compute capability: 6.0\n",
      "2022-08-09 08:19:20.885117: I tensorflow/compiler/mlir/mlir_graph_optimization_pass.cc:185] None of the MLIR Optimization Passes are enabled (registered 2)\n"
     ]
    },
    {
     "name": "stdout",
     "output_type": "stream",
     "text": [
      "Minimum Validation Loss: 0.1957\n"
     ]
    },
    {
     "data": {
      "image/png": "[encoded data removed]",
      "text/plain": [
       "<Figure size 432x288 with 1 Axes>"
      ]
     },
     "metadata": {},
     "output_type": "display_data"
    }
   ],
   "source": [
    "model = keras.Sequential([\n",
    "    layers.Dense(1, input_shape=input_shape),\n",
    "])\n",
    "model.compile(\n",
    "    optimizer='adam',\n",
    "    loss='mae',\n",
    ")\n",
    "history = model.fit(\n",
    "    X_train, y_train,\n",
    "    validation_data=(X_valid, y_valid),\n",
    "    batch_size=512,\n",
    "    epochs=50,\n",
    "    verbose=0, # suppress output since we'll plot the curves\n",
    ")\n",
    "history_df = pd.DataFrame(history.history)\n",
    "history_df.loc[0:, ['loss', 'val_loss']].plot()\n",
    "print(\"Minimum Validation Loss: {:0.4f}\".format(history_df['val_loss'].min()));"
   ]
  },
  {
   "cell_type": "markdown",
   "id": "2b9c2856",
   "metadata": {
    "papermill": {
     "duration": 0.004698,
     "end_time": "2022-08-09T08:19:31.746530",
     "exception": false,
     "start_time": "2022-08-09T08:19:31.741832",
     "status": "completed"
    },
    "tags": []
   },
   "source": [
    "It's not uncommon for the curves to follow a \"hockey stick\" pattern like you see here. This makes the final part of training hard to see, so let's start at epoch 10 instead:"
   ]
  },
  {
   "cell_type": "code",
   "execution_count": 4,
   "id": "d603fcf5",
   "metadata": {
    "execution": {
     "iopub.execute_input": "2022-08-09T08:19:31.757467Z",
     "iopub.status.busy": "2022-08-09T08:19:31.757178Z",
     "iopub.status.idle": "2022-08-09T08:19:32.022758Z",
     "shell.execute_reply": "2022-08-09T08:19:32.021712Z"
    },
    "papermill": {
     "duration": 0.273776,
     "end_time": "2022-08-09T08:19:32.025226",
     "exception": false,
     "start_time": "2022-08-09T08:19:31.751450",
     "status": "completed"
    },
    "tags": []
   },
   "outputs": [
    {
     "name": "stdout",
     "output_type": "stream",
     "text": [
      "Minimum Validation Loss: 0.1957\n"
     ]
    },
    {
     "data": {
      "image/png": "[encoded data removed]",
      "text/plain": [
       "<Figure size 432x288 with 1 Axes>"
      ]
     },
     "metadata": {},
     "output_type": "display_data"
    }
   ],
   "source": [
    "# Start the plot at epoch 10\n",
    "history_df.loc[10:, ['loss', 'val_loss']].plot()\n",
    "print(\"Minimum Validation Loss: {:0.4f}\".format(history_df['val_loss'].min()));"
   ]
  },
  {
   "cell_type": "markdown",
   "id": "7b823d9f",
   "metadata": {
    "papermill": {
     "duration": 0.006017,
     "end_time": "2022-08-09T08:19:32.037482",
     "exception": false,
     "start_time": "2022-08-09T08:19:32.031465",
     "status": "completed"
    },
    "tags": []
   },
   "source": [
    "# 1) Evaluate Baseline\n",
    "\n",
    "What do you think? Would you say this model is underfitting, overfitting, just right?"
   ]
  },
  {
   "cell_type": "code",
   "execution_count": 5,
   "id": "826ba5f6",
   "metadata": {
    "execution": {
     "iopub.execute_input": "2022-08-09T08:19:32.050954Z",
     "iopub.status.busy": "2022-08-09T08:19:32.050602Z",
     "iopub.status.idle": "2022-08-09T08:19:32.059216Z",
     "shell.execute_reply": "2022-08-09T08:19:32.058009Z"
    },
    "papermill": {
     "duration": 0.019224,
     "end_time": "2022-08-09T08:19:32.062762",
     "exception": false,
     "start_time": "2022-08-09T08:19:32.043538",
     "status": "completed"
    },
    "tags": []
   },
   "outputs": [
    {
     "data": {
      "application/javascript": [
       "parent.postMessage({\"jupyterEvent\": \"custom.exercise_interaction\", \"data\": {\"outcomeType\": 1, \"valueTowardsCompletion\": 0.25, \"interactionType\": 1, \"questionType\": 4, \"questionId\": \"1_Q1\", \"learnToolsVersion\": \"0.3.4\", \"failureMessage\": \"\", \"exceptionClass\": \"\", \"trace\": \"\"}}, \"*\")"
      ],
      "text/plain": [
       "<IPython.core.display.Javascript object>"
      ]
     },
     "metadata": {},
     "output_type": "display_data"
    },
    {
     "data": {
      "text/markdown": [
       "<span style=\"color:#33cc33\">Correct:</span> \n",
       "\n",
       "The gap between these curves is quite small and the validation loss never increases, so it's more likely that the network is underfitting than overfitting. It would be worth experimenting with more capacity to see if that's the case."
      ],
      "text/plain": [
       "Correct: \n",
       "\n",
       "The gap between these curves is quite small and the validation loss never increases, so it's more likely that the network is underfitting than overfitting. It would be worth experimenting with more capacity to see if that's the case."
      ]
     },
     "metadata": {},
     "output_type": "display_data"
    }
   ],
   "source": [
    "# View the solution (Run this cell to receive credit!)\n",
    "q_1.check()"
   ]
  },
  {
   "cell_type": "markdown",
   "id": "09226065",
   "metadata": {
    "papermill": {
     "duration": 0.005238,
     "end_time": "2022-08-09T08:19:32.074443",
     "exception": false,
     "start_time": "2022-08-09T08:19:32.069205",
     "status": "completed"
    },
    "tags": []
   },
   "source": [
    "Now let's add some capacity to our network. We'll add three hidden layers with 128 units each. Run the next cell to train the network and see the learning curves."
   ]
  },
  {
   "cell_type": "code",
   "execution_count": 6,
   "id": "f3263eb2",
   "metadata": {
    "execution": {
     "iopub.execute_input": "2022-08-09T08:19:32.086359Z",
     "iopub.status.busy": "2022-08-09T08:19:32.086092Z",
     "iopub.status.idle": "2022-08-09T08:19:40.197156Z",
     "shell.execute_reply": "2022-08-09T08:19:40.196199Z"
    },
    "papermill": {
     "duration": 8.119467,
     "end_time": "2022-08-09T08:19:40.199240",
     "exception": false,
     "start_time": "2022-08-09T08:19:32.079773",
     "status": "completed"
    },
    "tags": []
   },
   "outputs": [
    {
     "name": "stdout",
     "output_type": "stream",
     "text": [
      "Epoch 1/50\n",
      "48/48 [==============================] - 1s 5ms/step - loss: 0.2491 - val_loss: 0.2091\n",
      "Epoch 2/50\n",
      "48/48 [==============================] - 0s 3ms/step - loss: 0.2035 - val_loss: 0.2014\n",
      "Epoch 3/50\n",
      "48/48 [==============================] - 0s 3ms/step - loss: 0.1976 - val_loss: 0.1987\n",
      "Epoch 4/50\n",
      "48/48 [==============================] - 0s 3ms/step - loss: 0.1944 - val_loss: 0.1971\n",
      "Epoch 5/50\n",
      "48/48 [==============================] - 0s 3ms/step - loss: 0.1922 - val_loss: 0.1965\n",
      "Epoch 6/50\n",
      "48/48 [==============================] - 0s 3ms/step - loss: 0.1905 - val_loss: 0.1950\n",
      "Epoch 7/50\n",
      "48/48 [==============================] - 0s 3ms/step - loss: 0.1892 - val_loss: 0.1960\n",
      "Epoch 8/50\n",
      "48/48 [==============================] - 0s 3ms/step - loss: 0.1880 - val_loss: 0.1955\n",
      "Epoch 9/50\n",
      "48/48 [==============================] - 0s 3ms/step - loss: 0.1871 - val_loss: 0.1966\n",
      "Epoch 10/50\n",
      "48/48 [==============================] - 0s 3ms/step - loss: 0.1868 - val_loss: 0.1980\n",
      "Epoch 11/50\n",
      "48/48 [==============================] - 0s 3ms/step - loss: 0.1853 - val_loss: 0.1955\n",
      "Epoch 12/50\n",
      "48/48 [==============================] - 0s 3ms/step - loss: 0.1842 - val_loss: 0.1951\n",
      "Epoch 13/50\n",
      "48/48 [==============================] - 0s 3ms/step - loss: 0.1836 - val_loss: 0.1948\n",
      "Epoch 14/50\n",
      "48/48 [==============================] - 0s 6ms/step - loss: 0.1829 - val_loss: 0.1960\n",
      "Epoch 15/50\n",
      "48/48 [==============================] - 0s 4ms/step - loss: 0.1824 - val_loss: 0.1961\n",
      "Epoch 16/50\n",
      "48/48 [==============================] - 0s 4ms/step - loss: 0.1820 - val_loss: 0.1958\n",
      "Epoch 17/50\n",
      "48/48 [==============================] - 0s 3ms/step - loss: 0.1809 - val_loss: 0.1962\n",
      "Epoch 18/50\n",
      "48/48 [==============================] - 0s 3ms/step - loss: 0.1803 - val_loss: 0.1960\n",
      "Epoch 19/50\n",
      "48/48 [==============================] - 0s 3ms/step - loss: 0.1802 - val_loss: 0.1984\n",
      "Epoch 20/50\n",
      "48/48 [==============================] - 0s 3ms/step - loss: 0.1794 - val_loss: 0.1962\n",
      "Epoch 21/50\n",
      "48/48 [==============================] - 0s 3ms/step - loss: 0.1785 - val_loss: 0.1969\n",
      "Epoch 22/50\n",
      "48/48 [==============================] - 0s 3ms/step - loss: 0.1777 - val_loss: 0.1959\n",
      "Epoch 23/50\n",
      "48/48 [==============================] - 0s 3ms/step - loss: 0.1775 - val_loss: 0.1969\n",
      "Epoch 24/50\n",
      "48/48 [==============================] - 0s 3ms/step - loss: 0.1767 - val_loss: 0.1978\n",
      "Epoch 25/50\n",
      "48/48 [==============================] - 0s 3ms/step - loss: 0.1764 - val_loss: 0.1969\n",
      "Epoch 26/50\n",
      "48/48 [==============================] - 0s 3ms/step - loss: 0.1770 - val_loss: 0.1982\n",
      "Epoch 27/50\n",
      "48/48 [==============================] - 0s 3ms/step - loss: 0.1752 - val_loss: 0.1976\n",
      "Epoch 28/50\n",
      "48/48 [==============================] - 0s 3ms/step - loss: 0.1751 - val_loss: 0.1990\n",
      "Epoch 29/50\n",
      "48/48 [==============================] - 0s 3ms/step - loss: 0.1749 - val_loss: 0.1995\n",
      "Epoch 30/50\n",
      "48/48 [==============================] - 0s 3ms/step - loss: 0.1746 - val_loss: 0.1974\n",
      "Epoch 31/50\n",
      "48/48 [==============================] - 0s 3ms/step - loss: 0.1730 - val_loss: 0.1982\n",
      "Epoch 32/50\n",
      "48/48 [==============================] - 0s 3ms/step - loss: 0.1747 - val_loss: 0.1997\n",
      "Epoch 33/50\n",
      "48/48 [==============================] - 0s 3ms/step - loss: 0.1723 - val_loss: 0.1983\n",
      "Epoch 34/50\n",
      "48/48 [==============================] - 0s 3ms/step - loss: 0.1728 - val_loss: 0.1989\n",
      "Epoch 35/50\n",
      "48/48 [==============================] - 0s 3ms/step - loss: 0.1712 - val_loss: 0.2002\n",
      "Epoch 36/50\n",
      "48/48 [==============================] - 0s 3ms/step - loss: 0.1706 - val_loss: 0.1998\n",
      "Epoch 37/50\n",
      "48/48 [==============================] - 0s 3ms/step - loss: 0.1715 - val_loss: 0.2000\n",
      "Epoch 38/50\n",
      "48/48 [==============================] - 0s 3ms/step - loss: 0.1711 - val_loss: 0.2002\n",
      "Epoch 39/50\n",
      "48/48 [==============================] - 0s 3ms/step - loss: 0.1694 - val_loss: 0.1990\n",
      "Epoch 40/50\n",
      "48/48 [==============================] - 0s 3ms/step - loss: 0.1692 - val_loss: 0.2010\n",
      "Epoch 41/50\n",
      "48/48 [==============================] - 0s 3ms/step - loss: 0.1693 - val_loss: 0.2008\n",
      "Epoch 42/50\n",
      "48/48 [==============================] - 0s 3ms/step - loss: 0.1686 - val_loss: 0.2003\n",
      "Epoch 43/50\n",
      "48/48 [==============================] - 0s 3ms/step - loss: 0.1681 - val_loss: 0.2012\n",
      "Epoch 44/50\n",
      "48/48 [==============================] - 0s 3ms/step - loss: 0.1674 - val_loss: 0.2008\n",
      "Epoch 45/50\n",
      "48/48 [==============================] - 0s 4ms/step - loss: 0.1678 - val_loss: 0.2011\n",
      "Epoch 46/50\n",
      "48/48 [==============================] - 0s 6ms/step - loss: 0.1682 - val_loss: 0.2023\n",
      "Epoch 47/50\n",
      "48/48 [==============================] - 0s 4ms/step - loss: 0.1670 - val_loss: 0.2016\n",
      "Epoch 48/50\n",
      "48/48 [==============================] - 0s 5ms/step - loss: 0.1659 - val_loss: 0.2018\n",
      "Epoch 49/50\n",
      "48/48 [==============================] - 0s 4ms/step - loss: 0.1656 - val_loss: 0.2023\n",
      "Epoch 50/50\n",
      "48/48 [==============================] - 0s 5ms/step - loss: 0.1649 - val_loss: 0.2017\n",
      "Minimum Validation Loss: 0.1948\n"
     ]
    },
    {
     "data": {
      "image/png": "[encoded data removed]",
      "text/plain": [
       "<Figure size 432x288 with 1 Axes>"
      ]
     },
     "metadata": {},
     "output_type": "display_data"
    }
   ],
   "source": [
    "model = keras.Sequential([\n",
    "    layers.Dense(128, activation='relu', input_shape=input_shape),\n",
    "    layers.Dense(64, activation='relu'),\n",
    "    layers.Dense(1)\n",
    "])\n",
    "model.compile(\n",
    "    optimizer='adam',\n",
    "    loss='mae',\n",
    ")\n",
    "history = model.fit(\n",
    "    X_train, y_train,\n",
    "    validation_data=(X_valid, y_valid),\n",
    "    batch_size=512,\n",
    "    epochs=50,\n",
    ")\n",
    "history_df = pd.DataFrame(history.history)\n",
    "history_df.loc[:, ['loss', 'val_loss']].plot()\n",
    "print(\"Minimum Validation Loss: {:0.4f}\".format(history_df['val_loss'].min()));"
   ]
  },
  {
   "cell_type": "markdown",
   "id": "14fd1e03",
   "metadata": {
    "papermill": {
     "duration": 0.01427,
     "end_time": "2022-08-09T08:19:40.228474",
     "exception": false,
     "start_time": "2022-08-09T08:19:40.214204",
     "status": "completed"
    },
    "tags": []
   },
   "source": [
    "# 2) Add Capacity\n",
    "\n",
    "What is your evaluation of these curves? Underfitting, overfitting, just right?"
   ]
  },
  {
   "cell_type": "code",
   "execution_count": 7,
   "id": "60a1f38c",
   "metadata": {
    "execution": {
     "iopub.execute_input": "2022-08-09T08:19:40.257873Z",
     "iopub.status.busy": "2022-08-09T08:19:40.257522Z",
     "iopub.status.idle": "2022-08-09T08:19:40.285025Z",
     "shell.execute_reply": "2022-08-09T08:19:40.283745Z"
    },
    "papermill": {
     "duration": 0.044807,
     "end_time": "2022-08-09T08:19:40.287363",
     "exception": false,
     "start_time": "2022-08-09T08:19:40.242556",
     "status": "completed"
    },
    "tags": []
   },
   "outputs": [
    {
     "data": {
      "application/javascript": [
       "parent.postMessage({\"jupyterEvent\": \"custom.exercise_interaction\", \"data\": {\"outcomeType\": 1, \"valueTowardsCompletion\": 0.25, \"interactionType\": 1, \"questionType\": 4, \"questionId\": \"2_Q2\", \"learnToolsVersion\": \"0.3.4\", \"failureMessage\": \"\", \"exceptionClass\": \"\", \"trace\": \"\"}}, \"*\")"
      ],
      "text/plain": [
       "<IPython.core.display.Javascript object>"
      ]
     },
     "metadata": {},
     "output_type": "display_data"
    },
    {
     "data": {
      "text/markdown": [
       "<span style=\"color:#33cc33\">Correct:</span> \n",
       "\n",
       "Now the validation loss begins to rise very early, while the training loss continues to decrease. This indicates that the network has begun to overfit. At this point, we would need to try something to prevent it, either by reducing the number of units or through a method like early stopping. (We'll see another in the next lesson!)"
      ],
      "text/plain": [
       "Correct: \n",
       "\n",
       "Now the validation loss begins to rise very early, while the training loss continues to decrease. This indicates that the network has begun to overfit. At this point, we would need to try something to prevent it, either by reducing the number of units or through a method like early stopping. (We'll see another in the next lesson!)"
      ]
     },
     "metadata": {},
     "output_type": "display_data"
    }
   ],
   "source": [
    "# View the solution (Run this cell to receive credit!)\n",
    "q_2.check()"
   ]
  },
  {
   "cell_type": "markdown",
   "id": "e4b47d94",
   "metadata": {
    "papermill": {
     "duration": 0.014428,
     "end_time": "2022-08-09T08:19:40.316090",
     "exception": false,
     "start_time": "2022-08-09T08:19:40.301662",
     "status": "completed"
    },
    "tags": []
   },
   "source": [
    "# 3) Define Early Stopping Callback\n",
    "\n",
    "Now define an early stopping callback that waits 5 epochs (`patience'`) for a change in validation loss of at least `0.001` (`min_delta`) and keeps the weights with the best loss (`restore_best_weights`)."
   ]
  },
  {
   "cell_type": "code",
   "execution_count": 8,
   "id": "53e3cadc",
   "metadata": {
    "execution": {
     "iopub.execute_input": "2022-08-09T08:19:40.347382Z",
     "iopub.status.busy": "2022-08-09T08:19:40.346878Z",
     "iopub.status.idle": "2022-08-09T08:19:40.355625Z",
     "shell.execute_reply": "2022-08-09T08:19:40.354644Z"
    },
    "lines_to_next_cell": 0,
    "papermill": {
     "duration": 0.026239,
     "end_time": "2022-08-09T08:19:40.357610",
     "exception": false,
     "start_time": "2022-08-09T08:19:40.331371",
     "status": "completed"
    },
    "tags": []
   },
   "outputs": [
    {
     "data": {
      "application/javascript": [
       "parent.postMessage({\"jupyterEvent\": \"custom.exercise_interaction\", \"data\": {\"outcomeType\": 1, \"valueTowardsCompletion\": 0.25, \"interactionType\": 1, \"questionType\": 2, \"questionId\": \"3_Q3\", \"learnToolsVersion\": \"0.3.4\", \"failureMessage\": \"\", \"exceptionClass\": \"\", \"trace\": \"\"}}, \"*\")"
      ],
      "text/plain": [
       "<IPython.core.display.Javascript object>"
      ]
     },
     "metadata": {},
     "output_type": "display_data"
    },
    {
     "data": {
      "text/markdown": [
       "<span style=\"color:#33cc33\">Correct</span>"
      ],
      "text/plain": [
       "Correct"
      ]
     },
     "metadata": {},
     "output_type": "display_data"
    }
   ],
   "source": [
    "from tensorflow.keras import callbacks\n",
    "\n",
    "# YOUR CODE HERE: define an early stopping callback\n",
    "early_stopping = callbacks.EarlyStopping(\n",
    "    min_delta=0.001,\n",
    "    patience=5,\n",
    "    restore_best_weights=True,\n",
    ")\n",
    "\n",
    "# Check your answer\n",
    "q_3.check()"
   ]
  },
  {
   "cell_type": "code",
   "execution_count": 9,
   "id": "3ad86347",
   "metadata": {
    "execution": {
     "iopub.execute_input": "2022-08-09T08:19:40.387492Z",
     "iopub.status.busy": "2022-08-09T08:19:40.387206Z",
     "iopub.status.idle": "2022-08-09T08:19:40.391303Z",
     "shell.execute_reply": "2022-08-09T08:19:40.390302Z"
    },
    "papermill": {
     "duration": 0.02176,
     "end_time": "2022-08-09T08:19:40.393653",
     "exception": false,
     "start_time": "2022-08-09T08:19:40.371893",
     "status": "completed"
    },
    "tags": []
   },
   "outputs": [],
   "source": [
    "# Lines below will give you a hint or solution code\n",
    "#q_3.hint()\n",
    "#q_3.solution()"
   ]
  },
  {
   "cell_type": "markdown",
   "id": "3168d965",
   "metadata": {
    "papermill": {
     "duration": 0.015263,
     "end_time": "2022-08-09T08:19:40.423644",
     "exception": false,
     "start_time": "2022-08-09T08:19:40.408381",
     "status": "completed"
    },
    "tags": []
   },
   "source": [
    "Now run this cell to train the model and get the learning curves. Notice the `callbacks` argument in `model.fit`."
   ]
  },
  {
   "cell_type": "code",
   "execution_count": 10,
   "id": "3d386c26",
   "metadata": {
    "execution": {
     "iopub.execute_input": "2022-08-09T08:19:40.453890Z",
     "iopub.status.busy": "2022-08-09T08:19:40.453600Z",
     "iopub.status.idle": "2022-08-09T08:19:42.582001Z",
     "shell.execute_reply": "2022-08-09T08:19:42.581050Z"
    },
    "papermill": {
     "duration": 2.146144,
     "end_time": "2022-08-09T08:19:42.584292",
     "exception": false,
     "start_time": "2022-08-09T08:19:40.438148",
     "status": "completed"
    },
    "tags": []
   },
   "outputs": [
    {
     "name": "stdout",
     "output_type": "stream",
     "text": [
      "Epoch 1/50\n",
      "48/48 [==============================] - 0s 4ms/step - loss: 0.2568 - val_loss: 0.2084\n",
      "Epoch 2/50\n",
      "48/48 [==============================] - 0s 3ms/step - loss: 0.2018 - val_loss: 0.2014\n",
      "Epoch 3/50\n",
      "48/48 [==============================] - 0s 3ms/step - loss: 0.1973 - val_loss: 0.1980\n",
      "Epoch 4/50\n",
      "48/48 [==============================] - 0s 3ms/step - loss: 0.1940 - val_loss: 0.1972\n",
      "Epoch 5/50\n",
      "48/48 [==============================] - 0s 3ms/step - loss: 0.1914 - val_loss: 0.1970\n",
      "Epoch 6/50\n",
      "48/48 [==============================] - 0s 3ms/step - loss: 0.1902 - val_loss: 0.1957\n",
      "Epoch 7/50\n",
      "48/48 [==============================] - 0s 3ms/step - loss: 0.1886 - val_loss: 0.1968\n",
      "Epoch 8/50\n",
      "48/48 [==============================] - 0s 3ms/step - loss: 0.1876 - val_loss: 0.1963\n",
      "Epoch 9/50\n",
      "48/48 [==============================] - 0s 3ms/step - loss: 0.1866 - val_loss: 0.1952\n",
      "Epoch 10/50\n",
      "48/48 [==============================] - 0s 3ms/step - loss: 0.1857 - val_loss: 0.1956\n",
      "Epoch 11/50\n",
      "48/48 [==============================] - 0s 3ms/step - loss: 0.1845 - val_loss: 0.1959\n",
      "Minimum Validation Loss: 0.1952\n"
     ]
    },
    {
     "data": {
      "image/png": "[encoded data removed]",
      "text/plain": [
       "<Figure size 432x288 with 1 Axes>"
      ]
     },
     "metadata": {},
     "output_type": "display_data"
    }
   ],
   "source": [
    "model = keras.Sequential([\n",
    "    layers.Dense(128, activation='relu', input_shape=input_shape),\n",
    "    layers.Dense(64, activation='relu'),    \n",
    "    layers.Dense(1)\n",
    "])\n",
    "model.compile(\n",
    "    optimizer='adam',\n",
    "    loss='mae',\n",
    ")\n",
    "history = model.fit(\n",
    "    X_train, y_train,\n",
    "    validation_data=(X_valid, y_valid),\n",
    "    batch_size=512,\n",
    "    epochs=50,\n",
    "    callbacks=[early_stopping]\n",
    ")\n",
    "history_df = pd.DataFrame(history.history)\n",
    "history_df.loc[:, ['loss', 'val_loss']].plot()\n",
    "print(\"Minimum Validation Loss: {:0.4f}\".format(history_df['val_loss'].min()));"
   ]
  },
  {
   "cell_type": "markdown",
   "id": "8f6eca3a",
   "metadata": {
    "papermill": {
     "duration": 0.017387,
     "end_time": "2022-08-09T08:19:42.618784",
     "exception": false,
     "start_time": "2022-08-09T08:19:42.601397",
     "status": "completed"
    },
    "tags": []
   },
   "source": [
    "# 4) Train and Interpret\n",
    "\n",
    "Was this an improvement compared to training without early stopping?"
   ]
  },
  {
   "cell_type": "code",
   "execution_count": 11,
   "id": "4122a449",
   "metadata": {
    "execution": {
     "iopub.execute_input": "2022-08-09T08:19:42.654460Z",
     "iopub.status.busy": "2022-08-09T08:19:42.652900Z",
     "iopub.status.idle": "2022-08-09T08:19:42.663047Z",
     "shell.execute_reply": "2022-08-09T08:19:42.661934Z"
    },
    "papermill": {
     "duration": 0.029704,
     "end_time": "2022-08-09T08:19:42.665223",
     "exception": false,
     "start_time": "2022-08-09T08:19:42.635519",
     "status": "completed"
    },
    "tags": []
   },
   "outputs": [
    {
     "data": {
      "application/javascript": [
       "parent.postMessage({\"jupyterEvent\": \"custom.exercise_interaction\", \"data\": {\"outcomeType\": 1, \"valueTowardsCompletion\": 0.25, \"interactionType\": 1, \"questionType\": 4, \"questionId\": \"4_Q4\", \"learnToolsVersion\": \"0.3.4\", \"failureMessage\": \"\", \"exceptionClass\": \"\", \"trace\": \"\"}}, \"*\")"
      ],
      "text/plain": [
       "<IPython.core.display.Javascript object>"
      ]
     },
     "metadata": {},
     "output_type": "display_data"
    },
    {
     "data": {
      "text/markdown": [
       "<span style=\"color:#33cc33\">Correct:</span> \n",
       "\n",
       "The early stopping callback did stop the training once the network began overfitting. Moreover, by including `restore_best_weights` we still get to keep the model where validation loss was lowest."
      ],
      "text/plain": [
       "Correct: \n",
       "\n",
       "The early stopping callback did stop the training once the network began overfitting. Moreover, by including `restore_best_weights` we still get to keep the model where validation loss was lowest."
      ]
     },
     "metadata": {},
     "output_type": "display_data"
    }
   ],
   "source": [
    "# View the solution (Run this cell to receive credit!)\n",
    "q_4.check()"
   ]
  },
  {
   "cell_type": "markdown",
   "id": "1aa808f3",
   "metadata": {
    "papermill": {
     "duration": 0.016592,
     "end_time": "2022-08-09T08:19:42.698202",
     "exception": false,
     "start_time": "2022-08-09T08:19:42.681610",
     "status": "completed"
    },
    "tags": []
   },
   "source": [
    "If you like, try experimenting with `patience` and `min_delta` to see what difference it might make.\n",
    "\n",
    "# Keep Going #\n",
    "\n",
    "Move on to [**learn about a couple of special layers**](https://www.kaggle.com/ryanholbrook/dropout-and-batch-normalization): batch normalization and dropout."
   ]
  },
  {
   "cell_type": "markdown",
   "id": "e7aca48a",
   "metadata": {
    "papermill": {
     "duration": 0.016325,
     "end_time": "2022-08-09T08:19:42.731912",
     "exception": false,
     "start_time": "2022-08-09T08:19:42.715587",
     "status": "completed"
    },
    "tags": []
   },
   "source": [
    "---\n",
    "\n",
    "\n",
    "\n",
    "\n",
    "*Have questions or comments? Visit the [course discussion forum](https://www.kaggle.com/learn/intro-to-deep-learning/discussion) to chat with other learners.*"
   ]
  }
 ],
 "metadata": {
  "kernelspec": {
   "display_name": "Python 3",
   "language": "python",
   "name": "python3"
  },
  "language_info": {
   "codemirror_mode": {
    "name": "ipython",
    "version": 3
   },
   "file_extension": ".py",
   "mimetype": "text/x-python",
   "name": "python",
   "nbconvert_exporter": "python",
   "pygments_lexer": "ipython3",
   "version": "3.7.12"
  },
  "papermill": {
   "default_parameters": {},
   "duration": 43.320377,
   "end_time": "2022-08-09T08:19:46.230737",
   "environment_variables": {},
   "exception": null,
   "input_path": "__notebook__.ipynb",
   "output_path": "__notebook__.ipynb",
   "parameters": {},
   "start_time": "2022-08-09T08:19:02.910360",
   "version": "2.3.4"
  }
 },
 "nbformat": 4,
 "nbformat_minor": 5
}
