{
 "cells": [
  {
   "cell_type": "markdown",
   "id": "2db7463e",
   "metadata": {
    "papermill": {
     "duration": 0.005768,
     "end_time": "2022-08-08T20:22:13.185120",
     "exception": false,
     "start_time": "2022-08-08T20:22:13.179352",
     "status": "completed"
    },
    "tags": []
   },
   "source": [
    "**This notebook is an exercise in the [Intro to Deep Learning](https://www.kaggle.com/learn/intro-to-deep-learning) course.  You can reference the tutorial at [this link](https://www.kaggle.com/ryanholbrook/deep-neural-networks).**\n",
    "\n",
    "---\n"
   ]
  },
  {
   "cell_type": "markdown",
   "id": "0a640859",
   "metadata": {
    "papermill": {
     "duration": 0.004263,
     "end_time": "2022-08-08T20:22:13.194268",
     "exception": false,
     "start_time": "2022-08-08T20:22:13.190005",
     "status": "completed"
    },
    "tags": []
   },
   "source": [
    "# Introduction #\n",
    "\n",
    "In the tutorial, we saw how to build deep neural networks by stacking layers inside a `Sequential` model. By adding an *activation function* after the hidden layers, we gave the network the ability to learn more complex (non-linear) relationships in the data.\n",
    "\n",
    "In these exercises, you'll build a neural network with several hidden layers and then explore some activation functions beyond ReLU. Run this next cell to set everything up!"
   ]
  },
  {
   "cell_type": "code",
   "execution_count": 1,
   "id": "7961b6ad",
   "metadata": {
    "execution": {
     "iopub.execute_input": "2022-08-08T20:22:13.206242Z",
     "iopub.status.busy": "2022-08-08T20:22:13.205231Z",
     "iopub.status.idle": "2022-08-08T20:22:19.211854Z",
     "shell.execute_reply": "2022-08-08T20:22:19.210342Z"
    },
    "papermill": {
     "duration": 6.016102,
     "end_time": "2022-08-08T20:22:19.214942",
     "exception": false,
     "start_time": "2022-08-08T20:22:13.198840",
     "status": "completed"
    },
    "tags": []
   },
   "outputs": [],
   "source": [
    "import tensorflow as tf\n",
    "\n",
    "# Setup plotting\n",
    "import matplotlib.pyplot as plt\n",
    "\n",
    "plt.style.use('seaborn-whitegrid')\n",
    "# Set Matplotlib defaults\n",
    "plt.rc('figure', autolayout=True)\n",
    "plt.rc('axes', labelweight='bold', labelsize='large',\n",
    "       titleweight='bold', titlesize=18, titlepad=10)\n",
    "\n",
    "# Setup feedback system\n",
    "from learntools.core import binder\n",
    "binder.bind(globals())\n",
    "from learntools.deep_learning_intro.ex2 import *"
   ]
  },
  {
   "cell_type": "markdown",
   "id": "54b5d684",
   "metadata": {
    "papermill": {
     "duration": 0.004321,
     "end_time": "2022-08-08T20:22:19.223999",
     "exception": false,
     "start_time": "2022-08-08T20:22:19.219678",
     "status": "completed"
    },
    "tags": []
   },
   "source": [
    "In the *Concrete* dataset, your task is to predict the compressive strength of concrete manufactured according to various recipes.\n",
    "\n",
    "Run the next code cell without changes to load the dataset."
   ]
  },
  {
   "cell_type": "code",
   "execution_count": 2,
   "id": "3ea01ca2",
   "metadata": {
    "execution": {
     "iopub.execute_input": "2022-08-08T20:22:19.235519Z",
     "iopub.status.busy": "2022-08-08T20:22:19.234649Z",
     "iopub.status.idle": "2022-08-08T20:22:19.278261Z",
     "shell.execute_reply": "2022-08-08T20:22:19.277425Z"
    },
    "papermill": {
     "duration": 0.052242,
     "end_time": "2022-08-08T20:22:19.280823",
     "exception": false,
     "start_time": "2022-08-08T20:22:19.228581",
     "status": "completed"
    },
    "tags": []
   },
   "outputs": [
    {
     "data": {
      "text/html": [
       "<div>\n",
       "<style scoped>\n",
       "    .dataframe tbody tr th:only-of-type {\n",
       "        vertical-align: middle;\n",
       "    }\n",
       "\n",
       "    .dataframe tbody tr th {\n",
       "        vertical-align: top;\n",
       "    }\n",
       "\n",
       "    .dataframe thead th {\n",
       "        text-align: right;\n",
       "    }\n",
       "</style>\n",
       "<table border=\"1\" class=\"dataframe\">\n",
       "  <thead>\n",
       "    <tr style=\"text-align: right;\">\n",
       "      <th></th>\n",
       "      <th>Cement</th>\n",
       "      <th>BlastFurnaceSlag</th>\n",
       "      <th>FlyAsh</th>\n",
       "      <th>Water</th>\n",
       "      <th>Superplasticizer</th>\n",
       "      <th>CoarseAggregate</th>\n",
       "      <th>FineAggregate</th>\n",
       "      <th>Age</th>\n",
       "      <th>CompressiveStrength</th>\n",
       "    </tr>\n",
       "  </thead>\n",
       "  <tbody>\n",
       "    <tr>\n",
       "      <th>0</th>\n",
       "      <td>540.0</td>\n",
       "      <td>0.0</td>\n",
       "      <td>0.0</td>\n",
       "      <td>162.0</td>\n",
       "      <td>2.5</td>\n",
       "      <td>1040.0</td>\n",
       "      <td>676.0</td>\n",
       "      <td>28</td>\n",
       "      <td>79.99</td>\n",
       "    </tr>\n",
       "    <tr>\n",
       "      <th>1</th>\n",
       "      <td>540.0</td>\n",
       "      <td>0.0</td>\n",
       "      <td>0.0</td>\n",
       "      <td>162.0</td>\n",
       "      <td>2.5</td>\n",
       "      <td>1055.0</td>\n",
       "      <td>676.0</td>\n",
       "      <td>28</td>\n",
       "      <td>61.89</td>\n",
       "    </tr>\n",
       "    <tr>\n",
       "      <th>2</th>\n",
       "      <td>332.5</td>\n",
       "      <td>142.5</td>\n",
       "      <td>0.0</td>\n",
       "      <td>228.0</td>\n",
       "      <td>0.0</td>\n",
       "      <td>932.0</td>\n",
       "      <td>594.0</td>\n",
       "      <td>270</td>\n",
       "      <td>40.27</td>\n",
       "    </tr>\n",
       "    <tr>\n",
       "      <th>3</th>\n",
       "      <td>332.5</td>\n",
       "      <td>142.5</td>\n",
       "      <td>0.0</td>\n",
       "      <td>228.0</td>\n",
       "      <td>0.0</td>\n",
       "      <td>932.0</td>\n",
       "      <td>594.0</td>\n",
       "      <td>365</td>\n",
       "      <td>41.05</td>\n",
       "    </tr>\n",
       "    <tr>\n",
       "      <th>4</th>\n",
       "      <td>198.6</td>\n",
       "      <td>132.4</td>\n",
       "      <td>0.0</td>\n",
       "      <td>192.0</td>\n",
       "      <td>0.0</td>\n",
       "      <td>978.4</td>\n",
       "      <td>825.5</td>\n",
       "      <td>360</td>\n",
       "      <td>44.30</td>\n",
       "    </tr>\n",
       "  </tbody>\n",
       "</table>\n",
       "</div>"
      ],
      "text/plain": [
       "   Cement  BlastFurnaceSlag  FlyAsh  Water  Superplasticizer  CoarseAggregate  \\\n",
       "0   540.0               0.0     0.0  162.0               2.5           1040.0   \n",
       "1   540.0               0.0     0.0  162.0               2.5           1055.0   \n",
       "2   332.5             142.5     0.0  228.0               0.0            932.0   \n",
       "3   332.5             142.5     0.0  228.0               0.0            932.0   \n",
       "4   198.6             132.4     0.0  192.0               0.0            978.4   \n",
       "\n",
       "   FineAggregate  Age  CompressiveStrength  \n",
       "0          676.0   28                79.99  \n",
       "1          676.0   28                61.89  \n",
       "2          594.0  270                40.27  \n",
       "3          594.0  365                41.05  \n",
       "4          825.5  360                44.30  "
      ]
     },
     "execution_count": 2,
     "metadata": {},
     "output_type": "execute_result"
    }
   ],
   "source": [
    "import pandas as pd\n",
    "\n",
    "concrete = pd.read_csv('../input/dl-course-data/concrete.csv')\n",
    "concrete.head()"
   ]
  },
  {
   "cell_type": "markdown",
   "id": "e3784f4d",
   "metadata": {
    "papermill": {
     "duration": 0.004579,
     "end_time": "2022-08-08T20:22:19.290385",
     "exception": false,
     "start_time": "2022-08-08T20:22:19.285806",
     "status": "completed"
    },
    "tags": []
   },
   "source": [
    "# 1) Input Shape #\n",
    "\n",
    "The target for this task is the column `'CompressiveStrength'`. The remaining columns are the features we'll use as inputs.\n",
    "\n",
    "What would be the input shape for this dataset?"
   ]
  },
  {
   "cell_type": "code",
   "execution_count": 3,
   "id": "8ccf7bc3",
   "metadata": {
    "execution": {
     "iopub.execute_input": "2022-08-08T20:22:19.302068Z",
     "iopub.status.busy": "2022-08-08T20:22:19.300990Z",
     "iopub.status.idle": "2022-08-08T20:22:19.328254Z",
     "shell.execute_reply": "2022-08-08T20:22:19.326191Z"
    },
    "papermill": {
     "duration": 0.035829,
     "end_time": "2022-08-08T20:22:19.330956",
     "exception": false,
     "start_time": "2022-08-08T20:22:19.295127",
     "status": "completed"
    },
    "tags": []
   },
   "outputs": [
    {
     "name": "stdout",
     "output_type": "stream",
     "text": [
      "<class 'pandas.core.frame.DataFrame'>\n",
      "RangeIndex: 1030 entries, 0 to 1029\n",
      "Data columns (total 9 columns):\n",
      " #   Column               Non-Null Count  Dtype  \n",
      "---  ------               --------------  -----  \n",
      " 0   Cement               1030 non-null   float64\n",
      " 1   BlastFurnaceSlag     1030 non-null   float64\n",
      " 2   FlyAsh               1030 non-null   float64\n",
      " 3   Water                1030 non-null   float64\n",
      " 4   Superplasticizer     1030 non-null   float64\n",
      " 5   CoarseAggregate      1030 non-null   float64\n",
      " 6   FineAggregate        1030 non-null   float64\n",
      " 7   Age                  1030 non-null   int64  \n",
      " 8   CompressiveStrength  1030 non-null   float64\n",
      "dtypes: float64(8), int64(1)\n",
      "memory usage: 72.5 KB\n"
     ]
    }
   ],
   "source": [
    "concrete.info()"
   ]
  },
  {
   "cell_type": "code",
   "execution_count": 4,
   "id": "156cb410",
   "metadata": {
    "execution": {
     "iopub.execute_input": "2022-08-08T20:22:19.343997Z",
     "iopub.status.busy": "2022-08-08T20:22:19.342616Z",
     "iopub.status.idle": "2022-08-08T20:22:19.353763Z",
     "shell.execute_reply": "2022-08-08T20:22:19.352701Z"
    },
    "lines_to_next_cell": 2,
    "papermill": {
     "duration": 0.019883,
     "end_time": "2022-08-08T20:22:19.356026",
     "exception": false,
     "start_time": "2022-08-08T20:22:19.336143",
     "status": "completed"
    },
    "tags": []
   },
   "outputs": [
    {
     "data": {
      "application/javascript": [
       "parent.postMessage({\"jupyterEvent\": \"custom.exercise_interaction\", \"data\": {\"outcomeType\": 1, \"valueTowardsCompletion\": 0.3333333333333333, \"interactionType\": 1, \"questionType\": 2, \"questionId\": \"1_Q1\", \"learnToolsVersion\": \"0.3.4\", \"failureMessage\": \"\", \"exceptionClass\": \"\", \"trace\": \"\"}}, \"*\")"
      ],
      "text/plain": [
       "<IPython.core.display.Javascript object>"
      ]
     },
     "metadata": {},
     "output_type": "display_data"
    },
    {
     "data": {
      "text/markdown": [
       "<span style=\"color:#33cc33\">Correct</span>"
      ],
      "text/plain": [
       "Correct"
      ]
     },
     "metadata": {},
     "output_type": "display_data"
    }
   ],
   "source": [
    "# YOUR CODE HERE\n",
    "input_shape = [concrete.shape[1] - 1]\n",
    "\n",
    "# Check your answer\n",
    "q_1.check()"
   ]
  },
  {
   "cell_type": "code",
   "execution_count": 5,
   "id": "4073cbbc",
   "metadata": {
    "execution": {
     "iopub.execute_input": "2022-08-08T20:22:19.369282Z",
     "iopub.status.busy": "2022-08-08T20:22:19.368017Z",
     "iopub.status.idle": "2022-08-08T20:22:19.372797Z",
     "shell.execute_reply": "2022-08-08T20:22:19.371870Z"
    },
    "papermill": {
     "duration": 0.013606,
     "end_time": "2022-08-08T20:22:19.374969",
     "exception": false,
     "start_time": "2022-08-08T20:22:19.361363",
     "status": "completed"
    },
    "tags": []
   },
   "outputs": [],
   "source": [
    "# Lines below will give you a hint or solution code\n",
    "#q_1.hint()\n",
    "#q_1.solution()"
   ]
  },
  {
   "cell_type": "markdown",
   "id": "2113ebdb",
   "metadata": {
    "papermill": {
     "duration": 0.004879,
     "end_time": "2022-08-08T20:22:19.385225",
     "exception": false,
     "start_time": "2022-08-08T20:22:19.380346",
     "status": "completed"
    },
    "tags": []
   },
   "source": [
    "# 2) Define a Model with Hidden Layers #\n",
    "\n",
    "Now create a model with three hidden layers, each having 512 units and the ReLU activation.  Be sure to include an output layer of one unit and no activation, and also `input_shape` as an argument to the first layer."
   ]
  },
  {
   "cell_type": "code",
   "execution_count": 6,
   "id": "22c840de",
   "metadata": {
    "execution": {
     "iopub.execute_input": "2022-08-08T20:22:19.397670Z",
     "iopub.status.busy": "2022-08-08T20:22:19.396697Z",
     "iopub.status.idle": "2022-08-08T20:22:20.718520Z",
     "shell.execute_reply": "2022-08-08T20:22:20.717648Z"
    },
    "lines_to_next_cell": 0,
    "papermill": {
     "duration": 1.330264,
     "end_time": "2022-08-08T20:22:20.720562",
     "exception": false,
     "start_time": "2022-08-08T20:22:19.390298",
     "status": "completed"
    },
    "tags": []
   },
   "outputs": [
    {
     "name": "stderr",
     "output_type": "stream",
     "text": [
      "2022-08-08 20:22:20.624359: I tensorflow/core/common_runtime/process_util.cc:146] Creating new thread pool with default inter op setting: 2. Tune using inter_op_parallelism_threads for best performance.\n"
     ]
    },
    {
     "data": {
      "application/javascript": [
       "parent.postMessage({\"jupyterEvent\": \"custom.exercise_interaction\", \"data\": {\"outcomeType\": 1, \"valueTowardsCompletion\": 0.3333333333333333, \"interactionType\": 1, \"questionType\": 2, \"questionId\": \"2_Q2\", \"learnToolsVersion\": \"0.3.4\", \"failureMessage\": \"\", \"exceptionClass\": \"\", \"trace\": \"\"}}, \"*\")"
      ],
      "text/plain": [
       "<IPython.core.display.Javascript object>"
      ]
     },
     "metadata": {},
     "output_type": "display_data"
    },
    {
     "data": {
      "text/markdown": [
       "<span style=\"color:#33cc33\">Correct</span>"
      ],
      "text/plain": [
       "Correct"
      ]
     },
     "metadata": {},
     "output_type": "display_data"
    }
   ],
   "source": [
    "from tensorflow import keras\n",
    "from tensorflow.keras import layers\n",
    "\n",
    "# YOUR CODE HERE\n",
    "model = keras.Sequential([\n",
    "    layers.Dense(units=512, activation='relu', input_shape=input_shape),\n",
    "    layers.Dense(units=512, activation='relu'),\n",
    "    layers.Dense(units=512, activation='relu'),\n",
    "    layers.Dense(1),\n",
    "])\n",
    "\n",
    "# Check your answer\n",
    "q_2.check()"
   ]
  },
  {
   "cell_type": "code",
   "execution_count": 7,
   "id": "7b7fb334",
   "metadata": {
    "execution": {
     "iopub.execute_input": "2022-08-08T20:22:20.734027Z",
     "iopub.status.busy": "2022-08-08T20:22:20.733060Z",
     "iopub.status.idle": "2022-08-08T20:22:20.737934Z",
     "shell.execute_reply": "2022-08-08T20:22:20.736815Z"
    },
    "papermill": {
     "duration": 0.014155,
     "end_time": "2022-08-08T20:22:20.740308",
     "exception": false,
     "start_time": "2022-08-08T20:22:20.726153",
     "status": "completed"
    },
    "tags": []
   },
   "outputs": [],
   "source": [
    "# Lines below will give you a hint or solution code\n",
    "#q_2.hint()\n",
    "#q_2.solution()"
   ]
  },
  {
   "cell_type": "markdown",
   "id": "7bd3beed",
   "metadata": {
    "papermill": {
     "duration": 0.005266,
     "end_time": "2022-08-08T20:22:20.751234",
     "exception": false,
     "start_time": "2022-08-08T20:22:20.745968",
     "status": "completed"
    },
    "tags": []
   },
   "source": [
    "# 3) Activation Layers #\n",
    "\n",
    "Let's explore activations functions some.\n",
    "\n",
    "The usual way of attaching an activation function to a `Dense` layer is to include it as part of the definition with the `activation` argument. Sometimes though you'll want to put some other layer between the `Dense` layer and its activation function. (We'll see an example of this in Lesson 5 with *batch normalization*.) In this case, we can define the activation in its own `Activation` layer, like so:\n",
    "\n",
    "```\n",
    "layers.Dense(units=8),\n",
    "layers.Activation('relu')\n",
    "```\n",
    "\n",
    "This is completely equivalent to the ordinary way: `layers.Dense(units=8, activation='relu')`.\n",
    "\n",
    "Rewrite the following model so that each activation is in its own `Activation` layer."
   ]
  },
  {
   "cell_type": "code",
   "execution_count": 8,
   "id": "0f305113",
   "metadata": {
    "execution": {
     "iopub.execute_input": "2022-08-08T20:22:20.764160Z",
     "iopub.status.busy": "2022-08-08T20:22:20.763712Z",
     "iopub.status.idle": "2022-08-08T20:22:20.805179Z",
     "shell.execute_reply": "2022-08-08T20:22:20.804211Z"
    },
    "lines_to_next_cell": 0,
    "papermill": {
     "duration": 0.050433,
     "end_time": "2022-08-08T20:22:20.807337",
     "exception": false,
     "start_time": "2022-08-08T20:22:20.756904",
     "status": "completed"
    },
    "tags": []
   },
   "outputs": [
    {
     "data": {
      "application/javascript": [
       "parent.postMessage({\"jupyterEvent\": \"custom.exercise_interaction\", \"data\": {\"outcomeType\": 1, \"valueTowardsCompletion\": 0.3333333333333333, \"interactionType\": 1, \"questionType\": 2, \"questionId\": \"3_Q3\", \"learnToolsVersion\": \"0.3.4\", \"failureMessage\": \"\", \"exceptionClass\": \"\", \"trace\": \"\"}}, \"*\")"
      ],
      "text/plain": [
       "<IPython.core.display.Javascript object>"
      ]
     },
     "metadata": {},
     "output_type": "display_data"
    },
    {
     "data": {
      "text/markdown": [
       "<span style=\"color:#33cc33\">Correct</span>"
      ],
      "text/plain": [
       "Correct"
      ]
     },
     "metadata": {},
     "output_type": "display_data"
    }
   ],
   "source": [
    "### YOUR CODE HERE: rewrite this to use activation layers\n",
    "model = keras.Sequential([\n",
    "    layers.Dense(32, input_shape=[8]),\n",
    "    layers.Activation('relu'),\n",
    "    layers.Dense(32),\n",
    "    layers.Activation('relu'),\n",
    "    layers.Dense(1),\n",
    "])\n",
    "\n",
    "# Check your answer\n",
    "q_3.check()"
   ]
  },
  {
   "cell_type": "code",
   "execution_count": 9,
   "id": "79f10113",
   "metadata": {
    "execution": {
     "iopub.execute_input": "2022-08-08T20:22:20.821445Z",
     "iopub.status.busy": "2022-08-08T20:22:20.820300Z",
     "iopub.status.idle": "2022-08-08T20:22:20.824583Z",
     "shell.execute_reply": "2022-08-08T20:22:20.823831Z"
    },
    "papermill": {
     "duration": 0.013345,
     "end_time": "2022-08-08T20:22:20.826582",
     "exception": false,
     "start_time": "2022-08-08T20:22:20.813237",
     "status": "completed"
    },
    "tags": []
   },
   "outputs": [],
   "source": [
    "# Lines below will give you a hint or solution code\n",
    "#q_3.hint()\n",
    "#q_3.solution()"
   ]
  },
  {
   "cell_type": "markdown",
   "id": "52158fa0",
   "metadata": {
    "papermill": {
     "duration": 0.005687,
     "end_time": "2022-08-08T20:22:20.838121",
     "exception": false,
     "start_time": "2022-08-08T20:22:20.832434",
     "status": "completed"
    },
    "tags": []
   },
   "source": [
    "# Optional: Alternatives to ReLU #\n",
    "\n",
    "There is a whole family of variants of the `'relu'` activation -- `'elu'`, `'selu'`, and `'swish'`, among others -- all of which you can use in Keras. Sometimes one activation will perform better than another on a given task, so you could consider experimenting with activations as you develop a model. The ReLU activation tends to do well on most problems, so it's a good one to start with.\n",
    "\n",
    "Let's look at the graphs of some of these. Change the activation from `'relu'` to one of the others named above. Then run the cell to see the graph. (Check out the [documentation](https://www.tensorflow.org/api_docs/python/tf/keras/activations) for more ideas.)"
   ]
  },
  {
   "cell_type": "code",
   "execution_count": 10,
   "id": "b4111831",
   "metadata": {
    "execution": {
     "iopub.execute_input": "2022-08-08T20:22:20.852610Z",
     "iopub.status.busy": "2022-08-08T20:22:20.851816Z",
     "iopub.status.idle": "2022-08-08T20:22:21.683921Z",
     "shell.execute_reply": "2022-08-08T20:22:21.682568Z"
    },
    "lines_to_next_cell": 0,
    "papermill": {
     "duration": 0.842954,
     "end_time": "2022-08-08T20:22:21.686987",
     "exception": false,
     "start_time": "2022-08-08T20:22:20.844033",
     "status": "completed"
    },
    "tags": []
   },
   "outputs": [
    {
     "data": {
      "image/png": "[encoded data removed]",
      "text/plain": [
       "<Figure size 432x288 with 4 Axes>"
      ]
     },
     "metadata": {},
     "output_type": "display_data"
    }
   ],
   "source": [
    "# YOUR CODE HERE: Change 'relu' to 'elu', 'selu', 'swish'... or something else\n",
    "act =  ['relu', 'elu', 'selu', 'swish']\n",
    "size = len(act)\n",
    "figure, axis = plt.subplots(1, size)\n",
    "cnt = 0\n",
    "for el in act:\n",
    "    activation_layer = layers.Activation(el)\n",
    "\n",
    "    x = tf.linspace(-3.0, 3.0, 100)\n",
    "    y = activation_layer(x) # once created, a layer is callable just like a function\n",
    "\n",
    "    #axis[cnt].plt.figure(dpi=100)\n",
    "    axis[cnt].plot(x, y)\n",
    "    axis[cnt].set_title(el)\n",
    "    cnt+=1\n",
    "\n",
    "plt.show()"
   ]
  },
  {
   "cell_type": "markdown",
   "id": "41011de3",
   "metadata": {
    "papermill": {
     "duration": 0.006172,
     "end_time": "2022-08-08T20:22:21.699700",
     "exception": false,
     "start_time": "2022-08-08T20:22:21.693528",
     "status": "completed"
    },
    "tags": []
   },
   "source": [
    "# Keep Going #\n",
    "\n",
    "Now move on to Lesson 3 and [**learn how to train neural networks**](https://www.kaggle.com/ryanholbrook/stochastic-gradient-descent) with stochastic gradient descent."
   ]
  },
  {
   "cell_type": "markdown",
   "id": "7ea62b67",
   "metadata": {
    "papermill": {
     "duration": 0.005982,
     "end_time": "2022-08-08T20:22:21.712066",
     "exception": false,
     "start_time": "2022-08-08T20:22:21.706084",
     "status": "completed"
    },
    "tags": []
   },
   "source": [
    "---\n",
    "\n",
    "\n",
    "\n",
    "\n",
    "*Have questions or comments? Visit the [course discussion forum](https://www.kaggle.com/learn/intro-to-deep-learning/discussion) to chat with other learners.*"
   ]
  }
 ],
 "metadata": {
  "kernelspec": {
   "display_name": "Python 3",
   "language": "python",
   "name": "python3"
  },
  "language_info": {
   "codemirror_mode": {
    "name": "ipython",
    "version": 3
   },
   "file_extension": ".py",
   "mimetype": "text/x-python",
   "name": "python",
   "nbconvert_exporter": "python",
   "pygments_lexer": "ipython3",
   "version": "3.7.12"
  },
  "papermill": {
   "default_parameters": {},
   "duration": 21.765166,
   "end_time": "2022-08-08T20:22:24.596697",
   "environment_variables": {},
   "exception": null,
   "input_path": "__notebook__.ipynb",
   "output_path": "__notebook__.ipynb",
   "parameters": {},
   "start_time": "2022-08-08T20:22:02.831531",
   "version": "2.3.4"
  }
 },
 "nbformat": 4,
 "nbformat_minor": 5
}
